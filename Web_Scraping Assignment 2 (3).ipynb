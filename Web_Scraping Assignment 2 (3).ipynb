{
 "cells": [
  {
   "cell_type": "code",
   "execution_count": 255,
   "id": "d46e8ab8",
   "metadata": {},
   "outputs": [
    {
     "name": "stdout",
     "output_type": "stream",
     "text": [
      "Requirement already satisfied: selenium in c:\\users\\arshi maitra\\anaconda3\\lib\\site-packages (4.2.0)\n",
      "Requirement already satisfied: trio-websocket~=0.9 in c:\\users\\arshi maitra\\anaconda3\\lib\\site-packages (from selenium) (0.9.2)\n",
      "Requirement already satisfied: trio~=0.17 in c:\\users\\arshi maitra\\anaconda3\\lib\\site-packages (from selenium) (0.20.0)\n",
      "Requirement already satisfied: urllib3[secure,socks]~=1.26 in c:\\users\\arshi maitra\\anaconda3\\lib\\site-packages (from selenium) (1.26.7)\n",
      "Requirement already satisfied: outcome in c:\\users\\arshi maitra\\anaconda3\\lib\\site-packages (from trio~=0.17->selenium) (1.1.0)\n",
      "Requirement already satisfied: sniffio in c:\\users\\arshi maitra\\anaconda3\\lib\\site-packages (from trio~=0.17->selenium) (1.2.0)\n",
      "Requirement already satisfied: attrs>=19.2.0 in c:\\users\\arshi maitra\\anaconda3\\lib\\site-packages (from trio~=0.17->selenium) (21.2.0)\n",
      "Requirement already satisfied: async-generator>=1.9 in c:\\users\\arshi maitra\\anaconda3\\lib\\site-packages (from trio~=0.17->selenium) (1.10)\n",
      "Requirement already satisfied: idna in c:\\users\\arshi maitra\\anaconda3\\lib\\site-packages (from trio~=0.17->selenium) (3.2)\n",
      "Requirement already satisfied: cffi>=1.14 in c:\\users\\arshi maitra\\anaconda3\\lib\\site-packages (from trio~=0.17->selenium) (1.14.6)\n",
      "Requirement already satisfied: sortedcontainers in c:\\users\\arshi maitra\\anaconda3\\lib\\site-packages (from trio~=0.17->selenium) (2.4.0)\n",
      "Requirement already satisfied: pycparser in c:\\users\\arshi maitra\\anaconda3\\lib\\site-packages (from cffi>=1.14->trio~=0.17->selenium) (2.20)\n",
      "Requirement already satisfied: wsproto>=0.14 in c:\\users\\arshi maitra\\anaconda3\\lib\\site-packages (from trio-websocket~=0.9->selenium) (1.1.0)\n",
      "Requirement already satisfied: pyOpenSSL>=0.14 in c:\\users\\arshi maitra\\anaconda3\\lib\\site-packages (from urllib3[secure,socks]~=1.26->selenium) (21.0.0)\n",
      "Requirement already satisfied: cryptography>=1.3.4 in c:\\users\\arshi maitra\\anaconda3\\lib\\site-packages (from urllib3[secure,socks]~=1.26->selenium) (3.4.8)\n",
      "Requirement already satisfied: certifi in c:\\users\\arshi maitra\\anaconda3\\lib\\site-packages (from urllib3[secure,socks]~=1.26->selenium) (2021.10.8)\n",
      "Requirement already satisfied: PySocks!=1.5.7,<2.0,>=1.5.6 in c:\\users\\arshi maitra\\anaconda3\\lib\\site-packages (from urllib3[secure,socks]~=1.26->selenium) (1.7.1)\n",
      "Requirement already satisfied: six>=1.5.2 in c:\\users\\arshi maitra\\anaconda3\\lib\\site-packages (from pyOpenSSL>=0.14->urllib3[secure,socks]~=1.26->selenium) (1.16.0)\n",
      "Requirement already satisfied: h11<1,>=0.9.0 in c:\\users\\arshi maitra\\anaconda3\\lib\\site-packages (from wsproto>=0.14->trio-websocket~=0.9->selenium) (0.13.0)\n"
     ]
    }
   ],
   "source": [
    "! pip install selenium "
   ]
  },
  {
   "cell_type": "markdown",
   "id": "477a82f3",
   "metadata": {},
   "source": [
    "# Data Analyst"
   ]
  },
  {
   "cell_type": "code",
   "execution_count": 2,
   "id": "33c89d25",
   "metadata": {},
   "outputs": [],
   "source": [
    "import selenium\n",
    "from selenium import webdriver\n",
    "import pandas as pd\n",
    "import warnings\n",
    "warnings.filterwarnings('ignore')\n",
    "import time #importing necessary libraries"
   ]
  },
  {
   "cell_type": "code",
   "execution_count": 3,
   "id": "15fe8142",
   "metadata": {},
   "outputs": [],
   "source": [
    "driver=webdriver.Chrome(r\"C:\\Web_driver\\chromedriver.exe\") #loading chrome from C-drive and assigning a variable to it"
   ]
  },
  {
   "cell_type": "code",
   "execution_count": 4,
   "id": "30039c33",
   "metadata": {},
   "outputs": [],
   "source": [
    "driver.get(\"https://www.naukri.com/\") # loaing website"
   ]
  },
  {
   "cell_type": "code",
   "execution_count": 5,
   "id": "8cb86d3b",
   "metadata": {},
   "outputs": [],
   "source": [
    "search_designation=driver.find_element_by_class_name(\"suggestor-input\")\n",
    "search_designation.send_keys(\"Data Analyst\") #searching data analyst via class name"
   ]
  },
  {
   "cell_type": "code",
   "execution_count": 6,
   "id": "d62795b1",
   "metadata": {},
   "outputs": [],
   "source": [
    "search_location=driver.find_element_by_xpath(\"/html/body/div/div[2]/div[3]/div/div/div[5]/div/div/div/input\")\n",
    "search_location.send_keys(\"Bangalore\") #typing location via class name"
   ]
  },
  {
   "cell_type": "code",
   "execution_count": 7,
   "id": "825cb2e6",
   "metadata": {},
   "outputs": [],
   "source": [
    "search_button=driver.find_element_by_xpath(\"/html/body/div/div[2]/div[3]/div/div/div[6]\")\n",
    "search_button.click() #clicking search button via Xpath location"
   ]
  },
  {
   "cell_type": "code",
   "execution_count": 8,
   "id": "6e78c1ed",
   "metadata": {},
   "outputs": [],
   "source": [
    "Job_Title=[]\n",
    "Company_Name=[]\n",
    "Location=[]\n",
    "Experience=[] #creating empty list to store the data"
   ]
  },
  {
   "cell_type": "code",
   "execution_count": 9,
   "id": "c6df0712",
   "metadata": {},
   "outputs": [
    {
     "data": {
      "text/plain": [
       "[<selenium.webdriver.remote.webelement.WebElement (session=\"a82058fa44cc346fafe5b0bcbe1c8b2d\", element=\"8fce0bdc-d0c7-440f-b93c-582f16f51de6\")>,\n",
       " <selenium.webdriver.remote.webelement.WebElement (session=\"a82058fa44cc346fafe5b0bcbe1c8b2d\", element=\"e51fa834-fb31-4221-82f3-f378d85e1848\")>,\n",
       " <selenium.webdriver.remote.webelement.WebElement (session=\"a82058fa44cc346fafe5b0bcbe1c8b2d\", element=\"27e223b1-2617-4d0f-8226-b3719c9fb8eb\")>,\n",
       " <selenium.webdriver.remote.webelement.WebElement (session=\"a82058fa44cc346fafe5b0bcbe1c8b2d\", element=\"998dbd36-800c-4f5f-a8b0-7ee00f8f914f\")>,\n",
       " <selenium.webdriver.remote.webelement.WebElement (session=\"a82058fa44cc346fafe5b0bcbe1c8b2d\", element=\"0e9bdce1-98a6-470e-9cc2-ff95ac40b7a6\")>,\n",
       " <selenium.webdriver.remote.webelement.WebElement (session=\"a82058fa44cc346fafe5b0bcbe1c8b2d\", element=\"3792fdc1-c8ea-4182-93d0-1e7125929b81\")>,\n",
       " <selenium.webdriver.remote.webelement.WebElement (session=\"a82058fa44cc346fafe5b0bcbe1c8b2d\", element=\"36455c23-4508-4861-b323-ff173c84b551\")>,\n",
       " <selenium.webdriver.remote.webelement.WebElement (session=\"a82058fa44cc346fafe5b0bcbe1c8b2d\", element=\"29767dd1-1ea7-4e62-9229-fcd63dc5f8b9\")>,\n",
       " <selenium.webdriver.remote.webelement.WebElement (session=\"a82058fa44cc346fafe5b0bcbe1c8b2d\", element=\"f0493c66-064e-4c8e-b757-fe80680ea270\")>,\n",
       " <selenium.webdriver.remote.webelement.WebElement (session=\"a82058fa44cc346fafe5b0bcbe1c8b2d\", element=\"13daa276-db69-4a36-aac8-5c66c0627bfe\")>]"
      ]
     },
     "execution_count": 9,
     "metadata": {},
     "output_type": "execute_result"
    }
   ],
   "source": [
    "Title_tag=driver.find_elements_by_xpath(\"//a[@class='title fw500 ellipsis']\")\n",
    "Title_tag[0:10] #finding all the elements from the web driver "
   ]
  },
  {
   "cell_type": "code",
   "execution_count": 10,
   "id": "18d9ae71",
   "metadata": {},
   "outputs": [
    {
     "data": {
      "text/plain": [
       "['Business Data Analyst',\n",
       " 'EY GDS Data Analyst-Finland based project',\n",
       " 'Business & Data Analyst - Alteryx (London)',\n",
       " 'Data Analyst - Data and Analytics',\n",
       " 'Senior Data Analyst',\n",
       " 'Senior Data Analyst',\n",
       " 'Data Analyst - Data Science, 3 To 5 Years',\n",
       " 'Data Analyst / Business Analyst',\n",
       " 'Genpact Hiring For Data Analyst',\n",
       " 'data analyst/ data analytics / Business analyst- SQL/Python/SAS']"
      ]
     },
     "execution_count": 10,
     "metadata": {},
     "output_type": "execute_result"
    }
   ],
   "source": [
    "for i in Title_tag:\n",
    "    Job_Title.append(i.text)\n",
    "Job_Title[0:10] #creating a loop for  all the elements as text"
   ]
  },
  {
   "cell_type": "code",
   "execution_count": 11,
   "id": "3ad91474",
   "metadata": {},
   "outputs": [],
   "source": [
    "Titles=pd.DataFrame(Job_Title) #Making a dataframe"
   ]
  },
  {
   "cell_type": "code",
   "execution_count": 12,
   "id": "af621ab8",
   "metadata": {},
   "outputs": [
    {
     "data": {
      "text/plain": [
       "[<selenium.webdriver.remote.webelement.WebElement (session=\"a82058fa44cc346fafe5b0bcbe1c8b2d\", element=\"6da67ffb-d246-4e31-af8d-eb451c1e47f5\")>,\n",
       " <selenium.webdriver.remote.webelement.WebElement (session=\"a82058fa44cc346fafe5b0bcbe1c8b2d\", element=\"2358cd92-310e-4a50-a535-7e7a11e8c4db\")>,\n",
       " <selenium.webdriver.remote.webelement.WebElement (session=\"a82058fa44cc346fafe5b0bcbe1c8b2d\", element=\"ccbe7aa5-9fdd-477c-af08-dcf2c028514d\")>,\n",
       " <selenium.webdriver.remote.webelement.WebElement (session=\"a82058fa44cc346fafe5b0bcbe1c8b2d\", element=\"8573c8f7-0b58-46b3-ab63-4e5deb84bc07\")>,\n",
       " <selenium.webdriver.remote.webelement.WebElement (session=\"a82058fa44cc346fafe5b0bcbe1c8b2d\", element=\"c4040b2f-606e-4e3b-8664-215ab2f2a538\")>,\n",
       " <selenium.webdriver.remote.webelement.WebElement (session=\"a82058fa44cc346fafe5b0bcbe1c8b2d\", element=\"7cb701d3-1008-4b07-9f48-f9b7261b53f8\")>,\n",
       " <selenium.webdriver.remote.webelement.WebElement (session=\"a82058fa44cc346fafe5b0bcbe1c8b2d\", element=\"90781fc9-34f0-4a14-80ca-8dcec7f76854\")>,\n",
       " <selenium.webdriver.remote.webelement.WebElement (session=\"a82058fa44cc346fafe5b0bcbe1c8b2d\", element=\"d6d0bb9c-5d7c-46fe-93e0-94200367f280\")>,\n",
       " <selenium.webdriver.remote.webelement.WebElement (session=\"a82058fa44cc346fafe5b0bcbe1c8b2d\", element=\"6bbd8092-3e86-4071-a4b2-ccea41338817\")>,\n",
       " <selenium.webdriver.remote.webelement.WebElement (session=\"a82058fa44cc346fafe5b0bcbe1c8b2d\", element=\"a159f13b-b8a0-4a91-a96c-ac93eb903ab4\")>]"
      ]
     },
     "execution_count": 12,
     "metadata": {},
     "output_type": "execute_result"
    }
   ],
   "source": [
    "Company_tag=driver.find_elements_by_xpath(\"//a[@class='subTitle ellipsis fleft']\")\n",
    "Company_tag[0:10] #Scrapping the company name from the web driver"
   ]
  },
  {
   "cell_type": "code",
   "execution_count": 13,
   "id": "7224ac1c",
   "metadata": {},
   "outputs": [
    {
     "data": {
      "text/plain": [
       "['NXP Semiconductors',\n",
       " 'EY',\n",
       " 'Imaginative Brains LLP',\n",
       " 'Intel',\n",
       " 'Flipkart',\n",
       " 'Walmart',\n",
       " 'Rise Finconnect Private Limited',\n",
       " 'METRO Cash & Carry',\n",
       " 'Genpact',\n",
       " 'Leading US MNC into Analytics']"
      ]
     },
     "execution_count": 13,
     "metadata": {},
     "output_type": "execute_result"
    }
   ],
   "source": [
    "for i in Company_tag:\n",
    "    Company_Name.append(i.text)\n",
    "Company_Name[0:10]"
   ]
  },
  {
   "cell_type": "code",
   "execution_count": 14,
   "id": "11544907",
   "metadata": {},
   "outputs": [],
   "source": [
    "Company_Names=pd.DataFrame(Company_Name) #Making a dataframe"
   ]
  },
  {
   "cell_type": "code",
   "execution_count": 15,
   "id": "cbebd8c7",
   "metadata": {},
   "outputs": [
    {
     "data": {
      "text/plain": [
       "[<selenium.webdriver.remote.webelement.WebElement (session=\"a82058fa44cc346fafe5b0bcbe1c8b2d\", element=\"7a26779d-6020-4a43-b610-085914e331ca\")>,\n",
       " <selenium.webdriver.remote.webelement.WebElement (session=\"a82058fa44cc346fafe5b0bcbe1c8b2d\", element=\"764e0a2b-d2d1-48df-887c-31320db6e147\")>,\n",
       " <selenium.webdriver.remote.webelement.WebElement (session=\"a82058fa44cc346fafe5b0bcbe1c8b2d\", element=\"f089cd83-e71f-4c5a-8512-d4d5865dc5b7\")>,\n",
       " <selenium.webdriver.remote.webelement.WebElement (session=\"a82058fa44cc346fafe5b0bcbe1c8b2d\", element=\"71d33a54-4a8a-45df-a1f6-9991c9a405de\")>,\n",
       " <selenium.webdriver.remote.webelement.WebElement (session=\"a82058fa44cc346fafe5b0bcbe1c8b2d\", element=\"ed6cfdea-48e1-416d-a274-e93fdc77b262\")>,\n",
       " <selenium.webdriver.remote.webelement.WebElement (session=\"a82058fa44cc346fafe5b0bcbe1c8b2d\", element=\"f14d7f05-4ca1-4ac8-9f17-5e037273a6e5\")>,\n",
       " <selenium.webdriver.remote.webelement.WebElement (session=\"a82058fa44cc346fafe5b0bcbe1c8b2d\", element=\"4e16a8cd-2690-4350-84d3-1fd119259536\")>,\n",
       " <selenium.webdriver.remote.webelement.WebElement (session=\"a82058fa44cc346fafe5b0bcbe1c8b2d\", element=\"f530571e-3c17-46db-b20d-fe817eaf9b00\")>,\n",
       " <selenium.webdriver.remote.webelement.WebElement (session=\"a82058fa44cc346fafe5b0bcbe1c8b2d\", element=\"472e2312-0ba0-41cd-b28c-7ab5b9e64ddc\")>,\n",
       " <selenium.webdriver.remote.webelement.WebElement (session=\"a82058fa44cc346fafe5b0bcbe1c8b2d\", element=\"36551efc-e8f9-49b6-9aac-9cbc72851355\")>]"
      ]
     },
     "execution_count": 15,
     "metadata": {},
     "output_type": "execute_result"
    }
   ],
   "source": [
    "Location_tag=driver.find_elements_by_xpath(\"//li[@class='fleft grey-text br2 placeHolderLi location']/span[1]\")\n",
    "Location_tag[0:10] #Scrapping the location"
   ]
  },
  {
   "cell_type": "code",
   "execution_count": 16,
   "id": "d02f2d31",
   "metadata": {},
   "outputs": [
    {
     "data": {
      "text/plain": [
       "['Bangalore/Bengaluru',\n",
       " 'Bangalore/Bengaluru',\n",
       " 'Bangalore/Bengaluru, Delhi / NCR, Mumbai (All Areas)',\n",
       " 'Bangalore/Bengaluru',\n",
       " 'Bangalore/Bengaluru',\n",
       " 'Bangalore/Bengaluru',\n",
       " 'Bangalore/Bengaluru',\n",
       " 'Bangalore/Bengaluru',\n",
       " 'Bangalore/Bengaluru',\n",
       " 'Gurgaon/Gurugram, Bangalore/Bengaluru, Delhi / NCR']"
      ]
     },
     "execution_count": 16,
     "metadata": {},
     "output_type": "execute_result"
    }
   ],
   "source": [
    "for i in Location_tag:\n",
    "    Location.append(i.text)\n",
    "Location[0:10]"
   ]
  },
  {
   "cell_type": "code",
   "execution_count": 17,
   "id": "b05cce99",
   "metadata": {},
   "outputs": [],
   "source": [
    "Locations=pd.DataFrame(Location)"
   ]
  },
  {
   "cell_type": "code",
   "execution_count": 18,
   "id": "d6bd3e61",
   "metadata": {},
   "outputs": [
    {
     "data": {
      "text/plain": [
       "[<selenium.webdriver.remote.webelement.WebElement (session=\"a82058fa44cc346fafe5b0bcbe1c8b2d\", element=\"78282b11-f65d-414e-b7d6-f703b2722c22\")>,\n",
       " <selenium.webdriver.remote.webelement.WebElement (session=\"a82058fa44cc346fafe5b0bcbe1c8b2d\", element=\"8a749a76-b1f3-42e1-868f-515aa60ba1f4\")>,\n",
       " <selenium.webdriver.remote.webelement.WebElement (session=\"a82058fa44cc346fafe5b0bcbe1c8b2d\", element=\"f3264757-cc3e-4f9f-b041-bd4ad7287f28\")>,\n",
       " <selenium.webdriver.remote.webelement.WebElement (session=\"a82058fa44cc346fafe5b0bcbe1c8b2d\", element=\"a1c870e5-b465-4a48-b4bf-d65315aaf48d\")>,\n",
       " <selenium.webdriver.remote.webelement.WebElement (session=\"a82058fa44cc346fafe5b0bcbe1c8b2d\", element=\"579a9395-db2d-424a-a623-49e96ca27519\")>,\n",
       " <selenium.webdriver.remote.webelement.WebElement (session=\"a82058fa44cc346fafe5b0bcbe1c8b2d\", element=\"f8e146c0-8e90-44ca-97fa-f4c9c8867b2c\")>,\n",
       " <selenium.webdriver.remote.webelement.WebElement (session=\"a82058fa44cc346fafe5b0bcbe1c8b2d\", element=\"69e8a299-a8fb-4582-8db6-af4d734d8eba\")>,\n",
       " <selenium.webdriver.remote.webelement.WebElement (session=\"a82058fa44cc346fafe5b0bcbe1c8b2d\", element=\"6ba20188-7da7-44a0-b67d-956b63b39e6c\")>,\n",
       " <selenium.webdriver.remote.webelement.WebElement (session=\"a82058fa44cc346fafe5b0bcbe1c8b2d\", element=\"11d97ea2-6a77-45a9-90ef-a4a81231aa9e\")>,\n",
       " <selenium.webdriver.remote.webelement.WebElement (session=\"a82058fa44cc346fafe5b0bcbe1c8b2d\", element=\"52515ad0-127c-45fd-bb9c-423f114022c4\")>]"
      ]
     },
     "execution_count": 18,
     "metadata": {},
     "output_type": "execute_result"
    }
   ],
   "source": [
    "Experience_tag=driver.find_elements_by_xpath(\"//li[@class='fleft grey-text br2 placeHolderLi experience']/span\")\n",
    "Experience_tag[0:10] #Scraping experience"
   ]
  },
  {
   "cell_type": "code",
   "execution_count": 19,
   "id": "1ae6de46",
   "metadata": {},
   "outputs": [
    {
     "data": {
      "text/plain": [
       "['2-5 Yrs',\n",
       " '0-1 Yrs',\n",
       " '5-10 Yrs',\n",
       " '3-6 Yrs',\n",
       " '3-7 Yrs',\n",
       " '4-7 Yrs',\n",
       " '2-6 Yrs',\n",
       " '3-8 Yrs',\n",
       " '2-6 Yrs',\n",
       " '2-7 Yrs']"
      ]
     },
     "execution_count": 19,
     "metadata": {},
     "output_type": "execute_result"
    }
   ],
   "source": [
    "for i in Experience_tag:\n",
    "    Experience.append(i.text)\n",
    "Experience[0:10]"
   ]
  },
  {
   "cell_type": "code",
   "execution_count": 20,
   "id": "35992681",
   "metadata": {},
   "outputs": [],
   "source": [
    "Experiences=pd.DataFrame(Experience)"
   ]
  },
  {
   "cell_type": "code",
   "execution_count": 21,
   "id": "d402d200",
   "metadata": {},
   "outputs": [
    {
     "data": {
      "text/html": [
       "<div>\n",
       "<style scoped>\n",
       "    .dataframe tbody tr th:only-of-type {\n",
       "        vertical-align: middle;\n",
       "    }\n",
       "\n",
       "    .dataframe tbody tr th {\n",
       "        vertical-align: top;\n",
       "    }\n",
       "\n",
       "    .dataframe thead th {\n",
       "        text-align: right;\n",
       "    }\n",
       "</style>\n",
       "<table border=\"1\" class=\"dataframe\">\n",
       "  <thead>\n",
       "    <tr style=\"text-align: right;\">\n",
       "      <th></th>\n",
       "      <th>Job_Title</th>\n",
       "      <th>Company</th>\n",
       "      <th>Location</th>\n",
       "      <th>Experience</th>\n",
       "    </tr>\n",
       "  </thead>\n",
       "  <tbody>\n",
       "    <tr>\n",
       "      <th>0</th>\n",
       "      <td>Business Data Analyst</td>\n",
       "      <td>NXP Semiconductors</td>\n",
       "      <td>Bangalore/Bengaluru</td>\n",
       "      <td>2-5 Yrs</td>\n",
       "    </tr>\n",
       "    <tr>\n",
       "      <th>1</th>\n",
       "      <td>EY GDS Data Analyst-Finland based project</td>\n",
       "      <td>EY</td>\n",
       "      <td>Bangalore/Bengaluru</td>\n",
       "      <td>0-1 Yrs</td>\n",
       "    </tr>\n",
       "    <tr>\n",
       "      <th>2</th>\n",
       "      <td>Business &amp; Data Analyst - Alteryx (London)</td>\n",
       "      <td>Imaginative Brains LLP</td>\n",
       "      <td>Bangalore/Bengaluru, Delhi / NCR, Mumbai (All ...</td>\n",
       "      <td>5-10 Yrs</td>\n",
       "    </tr>\n",
       "    <tr>\n",
       "      <th>3</th>\n",
       "      <td>Data Analyst - Data and Analytics</td>\n",
       "      <td>Intel</td>\n",
       "      <td>Bangalore/Bengaluru</td>\n",
       "      <td>3-6 Yrs</td>\n",
       "    </tr>\n",
       "    <tr>\n",
       "      <th>4</th>\n",
       "      <td>Senior Data Analyst</td>\n",
       "      <td>Flipkart</td>\n",
       "      <td>Bangalore/Bengaluru</td>\n",
       "      <td>3-7 Yrs</td>\n",
       "    </tr>\n",
       "    <tr>\n",
       "      <th>5</th>\n",
       "      <td>Senior Data Analyst</td>\n",
       "      <td>Walmart</td>\n",
       "      <td>Bangalore/Bengaluru</td>\n",
       "      <td>4-7 Yrs</td>\n",
       "    </tr>\n",
       "    <tr>\n",
       "      <th>6</th>\n",
       "      <td>Data Analyst - Data Science, 3 To 5 Years</td>\n",
       "      <td>Rise Finconnect Private Limited</td>\n",
       "      <td>Bangalore/Bengaluru</td>\n",
       "      <td>2-6 Yrs</td>\n",
       "    </tr>\n",
       "    <tr>\n",
       "      <th>7</th>\n",
       "      <td>Data Analyst / Business Analyst</td>\n",
       "      <td>METRO Cash &amp; Carry</td>\n",
       "      <td>Bangalore/Bengaluru</td>\n",
       "      <td>3-8 Yrs</td>\n",
       "    </tr>\n",
       "    <tr>\n",
       "      <th>8</th>\n",
       "      <td>Genpact Hiring For Data Analyst</td>\n",
       "      <td>Genpact</td>\n",
       "      <td>Bangalore/Bengaluru</td>\n",
       "      <td>2-6 Yrs</td>\n",
       "    </tr>\n",
       "    <tr>\n",
       "      <th>9</th>\n",
       "      <td>data analyst/ data analytics / Business analys...</td>\n",
       "      <td>Leading US MNC into Analytics</td>\n",
       "      <td>Gurgaon/Gurugram, Bangalore/Bengaluru, Delhi /...</td>\n",
       "      <td>2-7 Yrs</td>\n",
       "    </tr>\n",
       "  </tbody>\n",
       "</table>\n",
       "</div>"
      ],
      "text/plain": [
       "                                           Job_Title  \\\n",
       "0                              Business Data Analyst   \n",
       "1          EY GDS Data Analyst-Finland based project   \n",
       "2         Business & Data Analyst - Alteryx (London)   \n",
       "3                  Data Analyst - Data and Analytics   \n",
       "4                                Senior Data Analyst   \n",
       "5                                Senior Data Analyst   \n",
       "6          Data Analyst - Data Science, 3 To 5 Years   \n",
       "7                    Data Analyst / Business Analyst   \n",
       "8                    Genpact Hiring For Data Analyst   \n",
       "9  data analyst/ data analytics / Business analys...   \n",
       "\n",
       "                           Company  \\\n",
       "0               NXP Semiconductors   \n",
       "1                               EY   \n",
       "2           Imaginative Brains LLP   \n",
       "3                            Intel   \n",
       "4                         Flipkart   \n",
       "5                          Walmart   \n",
       "6  Rise Finconnect Private Limited   \n",
       "7               METRO Cash & Carry   \n",
       "8                          Genpact   \n",
       "9    Leading US MNC into Analytics   \n",
       "\n",
       "                                            Location Experience  \n",
       "0                                Bangalore/Bengaluru    2-5 Yrs  \n",
       "1                                Bangalore/Bengaluru    0-1 Yrs  \n",
       "2  Bangalore/Bengaluru, Delhi / NCR, Mumbai (All ...   5-10 Yrs  \n",
       "3                                Bangalore/Bengaluru    3-6 Yrs  \n",
       "4                                Bangalore/Bengaluru    3-7 Yrs  \n",
       "5                                Bangalore/Bengaluru    4-7 Yrs  \n",
       "6                                Bangalore/Bengaluru    2-6 Yrs  \n",
       "7                                Bangalore/Bengaluru    3-8 Yrs  \n",
       "8                                Bangalore/Bengaluru    2-6 Yrs  \n",
       "9  Gurgaon/Gurugram, Bangalore/Bengaluru, Delhi /...    2-7 Yrs  "
      ]
     },
     "execution_count": 21,
     "metadata": {},
     "output_type": "execute_result"
    }
   ],
   "source": [
    "Data_Analyst=pd.concat([Titles,Company_Names,Locations,Experiences],axis=1)\n",
    "Data_Analyst.columns=[\"Job_Title\",\"Company\",\"Location\",\"Experience\"]\n",
    "Data_Analyst.head(10) #concatenating all the dataframes and creating a column"
   ]
  },
  {
   "cell_type": "markdown",
   "id": "801f9993",
   "metadata": {},
   "source": [
    "# Data Scientist"
   ]
  },
  {
   "cell_type": "code",
   "execution_count": 22,
   "id": "08cd6e5a",
   "metadata": {},
   "outputs": [],
   "source": [
    "driver.get(\"https://www.naukri.com/\") #loading the website"
   ]
  },
  {
   "cell_type": "code",
   "execution_count": 23,
   "id": "25bdb9d8",
   "metadata": {},
   "outputs": [],
   "source": [
    "search_designation=driver.find_element_by_xpath(\"/html/body/div/div[2]/div[3]/div/div/div[1]/div/div/div/input\")\n",
    "search_designation.send_keys(\"Data Scientist\") #searching designation via X_path"
   ]
  },
  {
   "cell_type": "code",
   "execution_count": 24,
   "id": "b6e58749",
   "metadata": {},
   "outputs": [],
   "source": [
    "search_location=driver.find_element_by_xpath(\"/html/body/div/div[2]/div[3]/div/div/div[5]/div/div/div/input\")\n",
    "search_location.send_keys(\"Bangalore\") #searching location via X_path"
   ]
  },
  {
   "cell_type": "code",
   "execution_count": 25,
   "id": "9d15aa40",
   "metadata": {},
   "outputs": [],
   "source": [
    "search_button=driver.find_element_by_xpath(\"/html/body/div/div[2]/div[3]/div/div/div[6]\")\n",
    "search_button.click() #clicking search buttin via Xpath location"
   ]
  },
  {
   "cell_type": "code",
   "execution_count": 26,
   "id": "2e86989d",
   "metadata": {},
   "outputs": [],
   "source": [
    "Job_Title=[]\n",
    "Company_Name=[]\n",
    "Location=[]\n",
    "Experience=[] #creating empty list to store the data"
   ]
  },
  {
   "cell_type": "code",
   "execution_count": 27,
   "id": "abed032d",
   "metadata": {},
   "outputs": [
    {
     "data": {
      "text/plain": [
       "[<selenium.webdriver.remote.webelement.WebElement (session=\"a82058fa44cc346fafe5b0bcbe1c8b2d\", element=\"7c1a6241-dc23-43e1-b103-157065303901\")>,\n",
       " <selenium.webdriver.remote.webelement.WebElement (session=\"a82058fa44cc346fafe5b0bcbe1c8b2d\", element=\"8f084a0e-ac97-44f0-bff5-3b3d5697330b\")>,\n",
       " <selenium.webdriver.remote.webelement.WebElement (session=\"a82058fa44cc346fafe5b0bcbe1c8b2d\", element=\"77b42713-f623-43e3-810f-8dff9e72cf2d\")>,\n",
       " <selenium.webdriver.remote.webelement.WebElement (session=\"a82058fa44cc346fafe5b0bcbe1c8b2d\", element=\"96d11455-3f42-4c02-9319-5eccec2f0f36\")>,\n",
       " <selenium.webdriver.remote.webelement.WebElement (session=\"a82058fa44cc346fafe5b0bcbe1c8b2d\", element=\"f532b461-42ae-4bca-ba41-7691662f1ada\")>,\n",
       " <selenium.webdriver.remote.webelement.WebElement (session=\"a82058fa44cc346fafe5b0bcbe1c8b2d\", element=\"85f4e97a-58a6-41af-98c6-f51b057f8239\")>,\n",
       " <selenium.webdriver.remote.webelement.WebElement (session=\"a82058fa44cc346fafe5b0bcbe1c8b2d\", element=\"540714ff-1445-48ae-89a8-3b30120156af\")>,\n",
       " <selenium.webdriver.remote.webelement.WebElement (session=\"a82058fa44cc346fafe5b0bcbe1c8b2d\", element=\"913660e8-4c85-4c2b-bcf7-8c72d7138ddc\")>,\n",
       " <selenium.webdriver.remote.webelement.WebElement (session=\"a82058fa44cc346fafe5b0bcbe1c8b2d\", element=\"210259f2-9569-4b32-b488-fe44d8ee00c2\")>,\n",
       " <selenium.webdriver.remote.webelement.WebElement (session=\"a82058fa44cc346fafe5b0bcbe1c8b2d\", element=\"7cfcc977-f5e3-4959-b9ff-60f76aceaeca\")>]"
      ]
     },
     "execution_count": 27,
     "metadata": {},
     "output_type": "execute_result"
    }
   ],
   "source": [
    "Title_tag=driver.find_elements_by_xpath(\"//a[@class='title fw500 ellipsis']\")\n",
    "Title_tag[0:10] #Scrapping the title"
   ]
  },
  {
   "cell_type": "code",
   "execution_count": 28,
   "id": "40010040",
   "metadata": {},
   "outputs": [
    {
     "data": {
      "text/plain": [
       "['AI Technologist Vacancy',\n",
       " 'Job Opening with Wipro For Data Scientist position',\n",
       " 'Data Scientist',\n",
       " 'Senior Data Scientist',\n",
       " 'Senior Data Scientist',\n",
       " 'Data Scientist',\n",
       " 'Data Scientist',\n",
       " 'Data Scientist - Immediate Joiners',\n",
       " 'Data Scientist- AI/ML- R&D',\n",
       " 'Urgent Hiring For AI Data Scientist']"
      ]
     },
     "execution_count": 28,
     "metadata": {},
     "output_type": "execute_result"
    }
   ],
   "source": [
    "for i in Title_tag:\n",
    "    Job_Title.append(i.text)\n",
    "Job_Title[0:10]"
   ]
  },
  {
   "cell_type": "code",
   "execution_count": 29,
   "id": "6966aff6",
   "metadata": {},
   "outputs": [],
   "source": [
    "Job_Titles=pd.DataFrame(Job_Title)"
   ]
  },
  {
   "cell_type": "code",
   "execution_count": 30,
   "id": "7ec6d185",
   "metadata": {},
   "outputs": [
    {
     "data": {
      "text/plain": [
       "[<selenium.webdriver.remote.webelement.WebElement (session=\"a82058fa44cc346fafe5b0bcbe1c8b2d\", element=\"477d5d73-b7bc-42b0-8aa8-99389c22db3a\")>,\n",
       " <selenium.webdriver.remote.webelement.WebElement (session=\"a82058fa44cc346fafe5b0bcbe1c8b2d\", element=\"4f517db4-5722-4f97-b4d6-ba55b2f1dc3b\")>,\n",
       " <selenium.webdriver.remote.webelement.WebElement (session=\"a82058fa44cc346fafe5b0bcbe1c8b2d\", element=\"c47a05e0-5a75-4eb9-a5f3-ca7e43269506\")>,\n",
       " <selenium.webdriver.remote.webelement.WebElement (session=\"a82058fa44cc346fafe5b0bcbe1c8b2d\", element=\"0b9ab95b-7155-4c3f-8259-903a2ee6f258\")>,\n",
       " <selenium.webdriver.remote.webelement.WebElement (session=\"a82058fa44cc346fafe5b0bcbe1c8b2d\", element=\"c50a348c-839f-426e-b004-5be8aede4636\")>,\n",
       " <selenium.webdriver.remote.webelement.WebElement (session=\"a82058fa44cc346fafe5b0bcbe1c8b2d\", element=\"5918884a-8028-48a0-80b4-3d3e59b34154\")>,\n",
       " <selenium.webdriver.remote.webelement.WebElement (session=\"a82058fa44cc346fafe5b0bcbe1c8b2d\", element=\"ca542d19-8891-4c7e-8b9e-d10efc0e9094\")>,\n",
       " <selenium.webdriver.remote.webelement.WebElement (session=\"a82058fa44cc346fafe5b0bcbe1c8b2d\", element=\"724e1d98-2746-4f12-abe8-59c15810fda7\")>,\n",
       " <selenium.webdriver.remote.webelement.WebElement (session=\"a82058fa44cc346fafe5b0bcbe1c8b2d\", element=\"0dafc0f2-cee3-459e-a004-d8c752b93c8a\")>,\n",
       " <selenium.webdriver.remote.webelement.WebElement (session=\"a82058fa44cc346fafe5b0bcbe1c8b2d\", element=\"25cac52b-85c5-4961-bb5a-8fb3f3999559\")>]"
      ]
     },
     "execution_count": 30,
     "metadata": {},
     "output_type": "execute_result"
    }
   ],
   "source": [
    "Company_tag=driver.find_elements_by_xpath(\"//a[@class='subTitle ellipsis fleft']\")\n",
    "Company_tag[0:10] #Scraping Company"
   ]
  },
  {
   "cell_type": "code",
   "execution_count": 31,
   "id": "242c2c55",
   "metadata": {},
   "outputs": [
    {
     "data": {
      "text/plain": [
       "['Wipro',\n",
       " 'Wipro',\n",
       " 'Genpact',\n",
       " 'Walmart',\n",
       " 'Walmart',\n",
       " 'Genpact',\n",
       " 'Genpact',\n",
       " 'Bristlecone',\n",
       " 'EXL',\n",
       " 'Ashkom Media India Private Limited']"
      ]
     },
     "execution_count": 31,
     "metadata": {},
     "output_type": "execute_result"
    }
   ],
   "source": [
    "for i in Company_tag:\n",
    "    Company_Name.append(i.text)\n",
    "Company_Name[0:10]"
   ]
  },
  {
   "cell_type": "code",
   "execution_count": 32,
   "id": "b81e2768",
   "metadata": {},
   "outputs": [],
   "source": [
    "Companies=pd.DataFrame(Company_Name)"
   ]
  },
  {
   "cell_type": "code",
   "execution_count": 33,
   "id": "0536fc46",
   "metadata": {},
   "outputs": [
    {
     "data": {
      "text/plain": [
       "[<selenium.webdriver.remote.webelement.WebElement (session=\"a82058fa44cc346fafe5b0bcbe1c8b2d\", element=\"788c4d63-10ed-49e2-9ac0-48cae701efff\")>,\n",
       " <selenium.webdriver.remote.webelement.WebElement (session=\"a82058fa44cc346fafe5b0bcbe1c8b2d\", element=\"9103044e-1393-4386-ba1d-c5cfce9fce94\")>,\n",
       " <selenium.webdriver.remote.webelement.WebElement (session=\"a82058fa44cc346fafe5b0bcbe1c8b2d\", element=\"1f6fb448-0ddc-4932-9527-a1bcb1c671aa\")>,\n",
       " <selenium.webdriver.remote.webelement.WebElement (session=\"a82058fa44cc346fafe5b0bcbe1c8b2d\", element=\"7e834eac-ce6e-4656-958d-c4045be7b48f\")>,\n",
       " <selenium.webdriver.remote.webelement.WebElement (session=\"a82058fa44cc346fafe5b0bcbe1c8b2d\", element=\"24305eec-2875-4f97-b19b-3d45357c84ee\")>,\n",
       " <selenium.webdriver.remote.webelement.WebElement (session=\"a82058fa44cc346fafe5b0bcbe1c8b2d\", element=\"58a5452e-7acf-425c-af3b-94ac9341e51a\")>,\n",
       " <selenium.webdriver.remote.webelement.WebElement (session=\"a82058fa44cc346fafe5b0bcbe1c8b2d\", element=\"af90695a-5ff6-4091-bb07-1befc1cc5887\")>,\n",
       " <selenium.webdriver.remote.webelement.WebElement (session=\"a82058fa44cc346fafe5b0bcbe1c8b2d\", element=\"9e94222e-3c66-4c56-aab7-f0625ee11110\")>,\n",
       " <selenium.webdriver.remote.webelement.WebElement (session=\"a82058fa44cc346fafe5b0bcbe1c8b2d\", element=\"e3d03296-124a-45e6-a5d7-e2f232c09758\")>,\n",
       " <selenium.webdriver.remote.webelement.WebElement (session=\"a82058fa44cc346fafe5b0bcbe1c8b2d\", element=\"807f9d48-b274-4e7a-9efb-322c5fde4743\")>]"
      ]
     },
     "execution_count": 33,
     "metadata": {},
     "output_type": "execute_result"
    }
   ],
   "source": [
    "Location_tag=driver.find_elements_by_xpath(\"//li[@class='fleft grey-text br2 placeHolderLi location']/span\")\n",
    "Location_tag[0:10] #Scrapping location"
   ]
  },
  {
   "cell_type": "code",
   "execution_count": 34,
   "id": "00ac3f72",
   "metadata": {},
   "outputs": [
    {
     "data": {
      "text/plain": [
       "['Kolkata, Hyderabad/Secunderabad, Pune, Ahmedabad, Chennai, Bangalore/Bengaluru, Delhi / NCR, Mumbai (All Areas)',\n",
       " 'Kolkata, Hyderabad/Secunderabad, Chennai, Bangalore/Bengaluru, Delhi / NCR, Mumbai (All Areas)',\n",
       " 'Bangalore/Bengaluru',\n",
       " 'Bangalore/Bengaluru',\n",
       " 'Bangalore/Bengaluru',\n",
       " 'Bangalore/Bengaluru',\n",
       " 'Hyderabad/Secunderabad, Bangalore/Bengaluru, Delhi / NCR',\n",
       " 'Noida, Mumbai, Pune, Bangalore/Bengaluru',\n",
       " 'Noida, Hyderabad/Secunderabad, Pune, Gurgaon/Gurugram, Chennai, Bangalore/Bengaluru, Delhi / NCR',\n",
       " 'New Delhi, Bangalore/Bengaluru, Mumbai (All Areas)']"
      ]
     },
     "execution_count": 34,
     "metadata": {},
     "output_type": "execute_result"
    }
   ],
   "source": [
    "for i in Location_tag:\n",
    "    Location.append(i.text)\n",
    "Location[0:10]"
   ]
  },
  {
   "cell_type": "code",
   "execution_count": 35,
   "id": "b95bf1ec",
   "metadata": {},
   "outputs": [],
   "source": [
    "Locations=pd.DataFrame(Location)"
   ]
  },
  {
   "cell_type": "code",
   "execution_count": 36,
   "id": "f2ed4dbd",
   "metadata": {},
   "outputs": [
    {
     "data": {
      "text/plain": [
       "[<selenium.webdriver.remote.webelement.WebElement (session=\"a82058fa44cc346fafe5b0bcbe1c8b2d\", element=\"f4a1a043-35c6-4889-adfc-d7878c2b4601\")>,\n",
       " <selenium.webdriver.remote.webelement.WebElement (session=\"a82058fa44cc346fafe5b0bcbe1c8b2d\", element=\"4c12bdc0-c677-49e7-8b0c-12a15f498a7d\")>,\n",
       " <selenium.webdriver.remote.webelement.WebElement (session=\"a82058fa44cc346fafe5b0bcbe1c8b2d\", element=\"e82d2c31-cf64-4f97-bc9c-067c3dd24311\")>,\n",
       " <selenium.webdriver.remote.webelement.WebElement (session=\"a82058fa44cc346fafe5b0bcbe1c8b2d\", element=\"00dd1fde-0734-4bce-a006-4eeea6e3186b\")>,\n",
       " <selenium.webdriver.remote.webelement.WebElement (session=\"a82058fa44cc346fafe5b0bcbe1c8b2d\", element=\"c6f8767d-48be-4a6b-8a77-f8ffbab30bf8\")>,\n",
       " <selenium.webdriver.remote.webelement.WebElement (session=\"a82058fa44cc346fafe5b0bcbe1c8b2d\", element=\"80309ee2-bf36-483a-adff-b578d6639f9a\")>,\n",
       " <selenium.webdriver.remote.webelement.WebElement (session=\"a82058fa44cc346fafe5b0bcbe1c8b2d\", element=\"57c1becf-347f-449d-85a9-78041185df64\")>,\n",
       " <selenium.webdriver.remote.webelement.WebElement (session=\"a82058fa44cc346fafe5b0bcbe1c8b2d\", element=\"7b4494cf-363a-468b-93a5-4397d829b866\")>,\n",
       " <selenium.webdriver.remote.webelement.WebElement (session=\"a82058fa44cc346fafe5b0bcbe1c8b2d\", element=\"ba970c92-26bc-403d-923b-0538ac4ffaeb\")>,\n",
       " <selenium.webdriver.remote.webelement.WebElement (session=\"a82058fa44cc346fafe5b0bcbe1c8b2d\", element=\"0663982b-d6eb-4ea9-8c3f-a7ac40aa2b3f\")>]"
      ]
     },
     "execution_count": 36,
     "metadata": {},
     "output_type": "execute_result"
    }
   ],
   "source": [
    "Experience_tag=driver.find_elements_by_xpath(\"//li[@class='fleft grey-text br2 placeHolderLi experience']/span\")\n",
    "Experience_tag[0:10] #Scraping experience"
   ]
  },
  {
   "cell_type": "code",
   "execution_count": 37,
   "id": "8daeb7b5",
   "metadata": {},
   "outputs": [
    {
     "data": {
      "text/plain": [
       "['6-11 Yrs',\n",
       " '2-7 Yrs',\n",
       " '5-7 Yrs',\n",
       " '5-9 Yrs',\n",
       " '5-9 Yrs',\n",
       " '7-12 Yrs',\n",
       " '5-8 Yrs',\n",
       " '5-8 Yrs',\n",
       " '2-6 Yrs',\n",
       " '1-4 Yrs']"
      ]
     },
     "execution_count": 37,
     "metadata": {},
     "output_type": "execute_result"
    }
   ],
   "source": [
    "for i in Experience_tag:\n",
    "    Experience.append(i.text)\n",
    "Experience[0:10]\n"
   ]
  },
  {
   "cell_type": "code",
   "execution_count": 38,
   "id": "e0397e5d",
   "metadata": {},
   "outputs": [],
   "source": [
    "Experiences=pd.DataFrame(Experience)"
   ]
  },
  {
   "cell_type": "code",
   "execution_count": 39,
   "id": "69edc34d",
   "metadata": {},
   "outputs": [
    {
     "data": {
      "text/html": [
       "<div>\n",
       "<style scoped>\n",
       "    .dataframe tbody tr th:only-of-type {\n",
       "        vertical-align: middle;\n",
       "    }\n",
       "\n",
       "    .dataframe tbody tr th {\n",
       "        vertical-align: top;\n",
       "    }\n",
       "\n",
       "    .dataframe thead th {\n",
       "        text-align: right;\n",
       "    }\n",
       "</style>\n",
       "<table border=\"1\" class=\"dataframe\">\n",
       "  <thead>\n",
       "    <tr style=\"text-align: right;\">\n",
       "      <th></th>\n",
       "      <th>Job Title</th>\n",
       "      <th>Company_Name</th>\n",
       "      <th>Location</th>\n",
       "      <th>Experience</th>\n",
       "    </tr>\n",
       "  </thead>\n",
       "  <tbody>\n",
       "    <tr>\n",
       "      <th>0</th>\n",
       "      <td>AI Technologist Vacancy</td>\n",
       "      <td>Wipro</td>\n",
       "      <td>Kolkata, Hyderabad/Secunderabad, Pune, Ahmedab...</td>\n",
       "      <td>6-11 Yrs</td>\n",
       "    </tr>\n",
       "    <tr>\n",
       "      <th>1</th>\n",
       "      <td>Job Opening with Wipro For Data Scientist posi...</td>\n",
       "      <td>Wipro</td>\n",
       "      <td>Kolkata, Hyderabad/Secunderabad, Chennai, Bang...</td>\n",
       "      <td>2-7 Yrs</td>\n",
       "    </tr>\n",
       "    <tr>\n",
       "      <th>2</th>\n",
       "      <td>Data Scientist</td>\n",
       "      <td>Genpact</td>\n",
       "      <td>Bangalore/Bengaluru</td>\n",
       "      <td>5-7 Yrs</td>\n",
       "    </tr>\n",
       "    <tr>\n",
       "      <th>3</th>\n",
       "      <td>Senior Data Scientist</td>\n",
       "      <td>Walmart</td>\n",
       "      <td>Bangalore/Bengaluru</td>\n",
       "      <td>5-9 Yrs</td>\n",
       "    </tr>\n",
       "    <tr>\n",
       "      <th>4</th>\n",
       "      <td>Senior Data Scientist</td>\n",
       "      <td>Walmart</td>\n",
       "      <td>Bangalore/Bengaluru</td>\n",
       "      <td>5-9 Yrs</td>\n",
       "    </tr>\n",
       "    <tr>\n",
       "      <th>5</th>\n",
       "      <td>Data Scientist</td>\n",
       "      <td>Genpact</td>\n",
       "      <td>Bangalore/Bengaluru</td>\n",
       "      <td>7-12 Yrs</td>\n",
       "    </tr>\n",
       "    <tr>\n",
       "      <th>6</th>\n",
       "      <td>Data Scientist</td>\n",
       "      <td>Genpact</td>\n",
       "      <td>Hyderabad/Secunderabad, Bangalore/Bengaluru, D...</td>\n",
       "      <td>5-8 Yrs</td>\n",
       "    </tr>\n",
       "    <tr>\n",
       "      <th>7</th>\n",
       "      <td>Data Scientist - Immediate Joiners</td>\n",
       "      <td>Bristlecone</td>\n",
       "      <td>Noida, Mumbai, Pune, Bangalore/Bengaluru</td>\n",
       "      <td>5-8 Yrs</td>\n",
       "    </tr>\n",
       "    <tr>\n",
       "      <th>8</th>\n",
       "      <td>Data Scientist- AI/ML- R&amp;D</td>\n",
       "      <td>EXL</td>\n",
       "      <td>Noida, Hyderabad/Secunderabad, Pune, Gurgaon/G...</td>\n",
       "      <td>2-6 Yrs</td>\n",
       "    </tr>\n",
       "    <tr>\n",
       "      <th>9</th>\n",
       "      <td>Urgent Hiring For AI Data Scientist</td>\n",
       "      <td>Ashkom Media India Private Limited</td>\n",
       "      <td>New Delhi, Bangalore/Bengaluru, Mumbai (All Ar...</td>\n",
       "      <td>1-4 Yrs</td>\n",
       "    </tr>\n",
       "  </tbody>\n",
       "</table>\n",
       "</div>"
      ],
      "text/plain": [
       "                                           Job Title  \\\n",
       "0                            AI Technologist Vacancy   \n",
       "1  Job Opening with Wipro For Data Scientist posi...   \n",
       "2                                     Data Scientist   \n",
       "3                              Senior Data Scientist   \n",
       "4                              Senior Data Scientist   \n",
       "5                                     Data Scientist   \n",
       "6                                     Data Scientist   \n",
       "7                 Data Scientist - Immediate Joiners   \n",
       "8                         Data Scientist- AI/ML- R&D   \n",
       "9                Urgent Hiring For AI Data Scientist   \n",
       "\n",
       "                         Company_Name  \\\n",
       "0                               Wipro   \n",
       "1                               Wipro   \n",
       "2                             Genpact   \n",
       "3                             Walmart   \n",
       "4                             Walmart   \n",
       "5                             Genpact   \n",
       "6                             Genpact   \n",
       "7                         Bristlecone   \n",
       "8                                 EXL   \n",
       "9  Ashkom Media India Private Limited   \n",
       "\n",
       "                                            Location Experience  \n",
       "0  Kolkata, Hyderabad/Secunderabad, Pune, Ahmedab...   6-11 Yrs  \n",
       "1  Kolkata, Hyderabad/Secunderabad, Chennai, Bang...    2-7 Yrs  \n",
       "2                                Bangalore/Bengaluru    5-7 Yrs  \n",
       "3                                Bangalore/Bengaluru    5-9 Yrs  \n",
       "4                                Bangalore/Bengaluru    5-9 Yrs  \n",
       "5                                Bangalore/Bengaluru   7-12 Yrs  \n",
       "6  Hyderabad/Secunderabad, Bangalore/Bengaluru, D...    5-8 Yrs  \n",
       "7           Noida, Mumbai, Pune, Bangalore/Bengaluru    5-8 Yrs  \n",
       "8  Noida, Hyderabad/Secunderabad, Pune, Gurgaon/G...    2-6 Yrs  \n",
       "9  New Delhi, Bangalore/Bengaluru, Mumbai (All Ar...    1-4 Yrs  "
      ]
     },
     "execution_count": 39,
     "metadata": {},
     "output_type": "execute_result"
    }
   ],
   "source": [
    "Data_Scientist=pd.concat([Job_Titles,Companies,Locations,Experiences],axis=1)\n",
    "Data_Scientist.columns=[\"Job Title\",\"Company_Name\",\"Location\",\"Experience\"]\n",
    "Data_Scientist.head(10) #Concatenating the dataframe with column names"
   ]
  },
  {
   "cell_type": "markdown",
   "id": "2e2c142d",
   "metadata": {},
   "source": [
    "# Data Scientist_Using Filters"
   ]
  },
  {
   "cell_type": "code",
   "execution_count": 40,
   "id": "7246e0fa",
   "metadata": {},
   "outputs": [],
   "source": [
    "driver.get(\"https://www.naukri.com/\") #Loading the website"
   ]
  },
  {
   "cell_type": "code",
   "execution_count": 41,
   "id": "0c70e1b3",
   "metadata": {},
   "outputs": [],
   "source": [
    "search_designation=driver.find_element_by_xpath(\"/html/body/div/div[2]/div[3]/div/div/div[1]/div/div/div/input\")\n",
    "search_designation.send_keys(\"Data Scientist\") #searching data scientist via xpath"
   ]
  },
  {
   "cell_type": "code",
   "execution_count": 42,
   "id": "e8343d3a",
   "metadata": {},
   "outputs": [],
   "source": [
    "search_button=driver.find_element_by_xpath(\"/html/body/div/div[2]/div[3]/div/div/div[6]\")\n",
    "search_button.click() #clicking on the search button via Xpath location"
   ]
  },
  {
   "cell_type": "code",
   "execution_count": 44,
   "id": "48c72eae",
   "metadata": {},
   "outputs": [],
   "source": [
    "Location_Filter=driver.find_element_by_xpath(\"/html/body/div[1]/div[3]/div[2]/section[1]/div[2]/div[5]/div[2]/div[3]/label/p/span[1]\")\n",
    "Location_Filter.click() #clicking on the filter button via Xpath location"
   ]
  },
  {
   "cell_type": "code",
   "execution_count": 45,
   "id": "fb827fc2",
   "metadata": {},
   "outputs": [],
   "source": [
    "Salary_Filter=driver.find_element_by_xpath(\"/html/body/div[1]/div[3]/div[2]/section[1]/div[2]/div[6]/div[2]/div[2]/label/p/span[1]\")\n",
    "Salary_Filter.click() #clicking on the salary button via Xpath location"
   ]
  },
  {
   "cell_type": "code",
   "execution_count": 46,
   "id": "ca6c78ed",
   "metadata": {},
   "outputs": [],
   "source": [
    "Job_Title=[]\n",
    "Company_Name=[]\n",
    "Location=[]\n",
    "Experience=[] #creating empty list"
   ]
  },
  {
   "cell_type": "code",
   "execution_count": 49,
   "id": "14306380",
   "metadata": {},
   "outputs": [
    {
     "data": {
      "text/plain": [
       "[<selenium.webdriver.remote.webelement.WebElement (session=\"a82058fa44cc346fafe5b0bcbe1c8b2d\", element=\"9d052517-2d96-4e00-bef5-0fca36fc0aef\")>,\n",
       " <selenium.webdriver.remote.webelement.WebElement (session=\"a82058fa44cc346fafe5b0bcbe1c8b2d\", element=\"9616ce6f-9959-4671-994c-992cb3c1ab0c\")>,\n",
       " <selenium.webdriver.remote.webelement.WebElement (session=\"a82058fa44cc346fafe5b0bcbe1c8b2d\", element=\"b4f8b01a-4b8a-4a65-9f49-fbeddc115e70\")>,\n",
       " <selenium.webdriver.remote.webelement.WebElement (session=\"a82058fa44cc346fafe5b0bcbe1c8b2d\", element=\"7234cc7c-c827-474f-904a-520f49be42c9\")>,\n",
       " <selenium.webdriver.remote.webelement.WebElement (session=\"a82058fa44cc346fafe5b0bcbe1c8b2d\", element=\"15452480-2cfc-4ffc-8466-76524c022a8c\")>,\n",
       " <selenium.webdriver.remote.webelement.WebElement (session=\"a82058fa44cc346fafe5b0bcbe1c8b2d\", element=\"806d1cd7-aeed-427d-bbb1-4155c25b5d7b\")>,\n",
       " <selenium.webdriver.remote.webelement.WebElement (session=\"a82058fa44cc346fafe5b0bcbe1c8b2d\", element=\"5133c9c9-396c-4352-b9fe-edbf7482ab8d\")>,\n",
       " <selenium.webdriver.remote.webelement.WebElement (session=\"a82058fa44cc346fafe5b0bcbe1c8b2d\", element=\"08fe2403-d3c3-4265-a9b9-2f69ba87e922\")>,\n",
       " <selenium.webdriver.remote.webelement.WebElement (session=\"a82058fa44cc346fafe5b0bcbe1c8b2d\", element=\"2cb68f37-ea01-4d5f-8f61-bd00caf9aa43\")>,\n",
       " <selenium.webdriver.remote.webelement.WebElement (session=\"a82058fa44cc346fafe5b0bcbe1c8b2d\", element=\"26a652ed-3c17-4285-ad5c-afa26fb9ed87\")>]"
      ]
     },
     "execution_count": 49,
     "metadata": {},
     "output_type": "execute_result"
    }
   ],
   "source": [
    "Title_tag=driver.find_elements_by_xpath(\"//a[@class='title fw500 ellipsis']\")\n",
    "Title_tag[0:10] #Scraping titles"
   ]
  },
  {
   "cell_type": "code",
   "execution_count": 50,
   "id": "a69b0a1e",
   "metadata": {},
   "outputs": [
    {
     "data": {
      "text/plain": [
       "['Job Opening with Wipro For Data Scientist position',\n",
       " 'Data Scientist - Machine learning AI',\n",
       " 'Data Scientist -Machine Learning with Python',\n",
       " 'Data Scientist',\n",
       " 'Data Scientist - MIND Infotech',\n",
       " 'Data Scientist - MIND Infotech',\n",
       " 'Data Scientist - Predictive Analytics',\n",
       " 'Data Scientist - Internet Jobs - II',\n",
       " 'Machine Learning Engineer | Data Engineer | Data Scientist',\n",
       " 'Dot Net Developer']"
      ]
     },
     "execution_count": 50,
     "metadata": {},
     "output_type": "execute_result"
    }
   ],
   "source": [
    "for i in Title_tag:\n",
    "    Job_Title.append(i.text)\n",
    "    \n",
    "Job_Title[0:10]\n",
    "    "
   ]
  },
  {
   "cell_type": "code",
   "execution_count": 51,
   "id": "118926ef",
   "metadata": {},
   "outputs": [],
   "source": [
    "Job_Titles=pd.DataFrame(Job_Title)"
   ]
  },
  {
   "cell_type": "code",
   "execution_count": 52,
   "id": "f6aab065",
   "metadata": {},
   "outputs": [
    {
     "data": {
      "text/plain": [
       "[<selenium.webdriver.remote.webelement.WebElement (session=\"a82058fa44cc346fafe5b0bcbe1c8b2d\", element=\"4fe863fb-ca23-429a-b18b-4007bd07fc00\")>,\n",
       " <selenium.webdriver.remote.webelement.WebElement (session=\"a82058fa44cc346fafe5b0bcbe1c8b2d\", element=\"a10a25b7-f710-4357-aaf0-d7c823250e92\")>,\n",
       " <selenium.webdriver.remote.webelement.WebElement (session=\"a82058fa44cc346fafe5b0bcbe1c8b2d\", element=\"fead0d60-964f-4c35-8f9f-ddd558a69c05\")>,\n",
       " <selenium.webdriver.remote.webelement.WebElement (session=\"a82058fa44cc346fafe5b0bcbe1c8b2d\", element=\"5f5dd593-a757-4355-89df-b1a5d5dc0643\")>,\n",
       " <selenium.webdriver.remote.webelement.WebElement (session=\"a82058fa44cc346fafe5b0bcbe1c8b2d\", element=\"2238d45d-36ac-417c-b270-4eab10264945\")>,\n",
       " <selenium.webdriver.remote.webelement.WebElement (session=\"a82058fa44cc346fafe5b0bcbe1c8b2d\", element=\"0133a494-818b-412b-ac8a-c85ddc4a1abf\")>,\n",
       " <selenium.webdriver.remote.webelement.WebElement (session=\"a82058fa44cc346fafe5b0bcbe1c8b2d\", element=\"4a6c030e-43dd-458d-b3d9-e34770df889e\")>,\n",
       " <selenium.webdriver.remote.webelement.WebElement (session=\"a82058fa44cc346fafe5b0bcbe1c8b2d\", element=\"01490915-d958-410d-88f9-e79597732e7b\")>,\n",
       " <selenium.webdriver.remote.webelement.WebElement (session=\"a82058fa44cc346fafe5b0bcbe1c8b2d\", element=\"b597f8e9-ea89-4880-a4b0-53aab1cec8d8\")>,\n",
       " <selenium.webdriver.remote.webelement.WebElement (session=\"a82058fa44cc346fafe5b0bcbe1c8b2d\", element=\"79f03642-299f-4e92-90cf-c6caa13b162d\")>]"
      ]
     },
     "execution_count": 52,
     "metadata": {},
     "output_type": "execute_result"
    }
   ],
   "source": [
    "Company_tag=driver.find_elements_by_xpath(\"//a[@class='subTitle ellipsis fleft']\")\n",
    "Company_tag[0:10] #Scrapping company"
   ]
  },
  {
   "cell_type": "code",
   "execution_count": 53,
   "id": "95a82d8c",
   "metadata": {},
   "outputs": [
    {
     "data": {
      "text/plain": [
       "['Wipro',\n",
       " 'Teq Analytics',\n",
       " 'Genpact',\n",
       " 'SS Supply Chain Solutions Pvt. Ltd. (3SC)',\n",
       " 'MOTHERSONSUMI INFOTECH & DESIGNS LIMITED',\n",
       " 'MOTHERSONSUMI INFOTECH & DESIGNS LIMITED',\n",
       " 'Confidential',\n",
       " 'Jobs Territory',\n",
       " 'Tidyquant (OPC) Private Limited',\n",
       " 'Nibha Infotech Private Limited']"
      ]
     },
     "execution_count": 53,
     "metadata": {},
     "output_type": "execute_result"
    }
   ],
   "source": [
    "for i in Company_tag:\n",
    "    Company_Name.append(i.text)\n",
    "    \n",
    "Company_Name[0:10]"
   ]
  },
  {
   "cell_type": "code",
   "execution_count": 54,
   "id": "ca8c293c",
   "metadata": {},
   "outputs": [],
   "source": [
    "Company_Names=pd.DataFrame(Company_Name)"
   ]
  },
  {
   "cell_type": "code",
   "execution_count": 55,
   "id": "2d3aa3e0",
   "metadata": {},
   "outputs": [
    {
     "data": {
      "text/plain": [
       "[<selenium.webdriver.remote.webelement.WebElement (session=\"a82058fa44cc346fafe5b0bcbe1c8b2d\", element=\"d0041ad8-33bb-4ef2-8712-6f44d132e5e2\")>,\n",
       " <selenium.webdriver.remote.webelement.WebElement (session=\"a82058fa44cc346fafe5b0bcbe1c8b2d\", element=\"2b0e5008-8947-4f05-9891-6b1a478dd99e\")>,\n",
       " <selenium.webdriver.remote.webelement.WebElement (session=\"a82058fa44cc346fafe5b0bcbe1c8b2d\", element=\"c35c97ad-0e7a-418e-b406-cc33c9675dc1\")>,\n",
       " <selenium.webdriver.remote.webelement.WebElement (session=\"a82058fa44cc346fafe5b0bcbe1c8b2d\", element=\"d97ef0c3-551e-43af-a1c8-d5fbd114893d\")>,\n",
       " <selenium.webdriver.remote.webelement.WebElement (session=\"a82058fa44cc346fafe5b0bcbe1c8b2d\", element=\"20d8b009-5705-4e6f-acbf-cb63b149d493\")>,\n",
       " <selenium.webdriver.remote.webelement.WebElement (session=\"a82058fa44cc346fafe5b0bcbe1c8b2d\", element=\"162d8af5-8b0e-41d1-9c1a-9802e23e705d\")>,\n",
       " <selenium.webdriver.remote.webelement.WebElement (session=\"a82058fa44cc346fafe5b0bcbe1c8b2d\", element=\"be198916-a80b-44dc-819b-fa97d3053ec9\")>,\n",
       " <selenium.webdriver.remote.webelement.WebElement (session=\"a82058fa44cc346fafe5b0bcbe1c8b2d\", element=\"6caea21d-1dfb-4895-bb6d-ca2b33dfdeb1\")>,\n",
       " <selenium.webdriver.remote.webelement.WebElement (session=\"a82058fa44cc346fafe5b0bcbe1c8b2d\", element=\"b654f106-d5a2-418f-98bd-cf27269dada4\")>,\n",
       " <selenium.webdriver.remote.webelement.WebElement (session=\"a82058fa44cc346fafe5b0bcbe1c8b2d\", element=\"aac49673-7978-4996-93d1-0480d1cdf896\")>]"
      ]
     },
     "execution_count": 55,
     "metadata": {},
     "output_type": "execute_result"
    }
   ],
   "source": [
    "Location_tag=driver.find_elements_by_xpath(\"//li[@class='fleft grey-text br2 placeHolderLi location']/span[1]\")\n",
    "Location_tag[0:10] #Scraping Location"
   ]
  },
  {
   "cell_type": "code",
   "execution_count": 56,
   "id": "4756230b",
   "metadata": {},
   "outputs": [
    {
     "data": {
      "text/plain": [
       "['Kolkata, Hyderabad/Secunderabad, Chennai, Bangalore/Bengaluru, Delhi / NCR, Mumbai (All Areas)',\n",
       " 'Bangalore/Bengaluru, Delhi / NCR, Mumbai (All Areas)',\n",
       " 'Noida, New Delhi, Gurgaon/Gurugram, Delhi / NCR',\n",
       " 'Pune, Gurgaon/Gurugram, Bangalore/Bengaluru',\n",
       " 'Noida',\n",
       " 'Noida',\n",
       " 'Noida, Mumbai, Chandigarh, Hyderabad/Secunderabad, Pune, Chennai, Gurgaon/Gurugram, Coimbatore, Bangalore/Bengaluru',\n",
       " 'Bangalore/Bengaluru, Delhi / NCR, Mumbai (All Areas)',\n",
       " 'Chennai, Bangalore/Bengaluru, Delhi / NCR(Sector-8 Noida)',\n",
       " 'Gurgaon/Gurugram, Delhi / NCR']"
      ]
     },
     "execution_count": 56,
     "metadata": {},
     "output_type": "execute_result"
    }
   ],
   "source": [
    "for i in Location_tag:\n",
    "    Location.append(i.text)\n",
    "Location[0:10]"
   ]
  },
  {
   "cell_type": "code",
   "execution_count": 57,
   "id": "b796513f",
   "metadata": {},
   "outputs": [],
   "source": [
    "Locations=pd.DataFrame(Location)"
   ]
  },
  {
   "cell_type": "code",
   "execution_count": 58,
   "id": "0dd6bbc2",
   "metadata": {},
   "outputs": [
    {
     "data": {
      "text/plain": [
       "[<selenium.webdriver.remote.webelement.WebElement (session=\"a82058fa44cc346fafe5b0bcbe1c8b2d\", element=\"fe76f8c8-9c81-4072-82f1-2df2a370be85\")>,\n",
       " <selenium.webdriver.remote.webelement.WebElement (session=\"a82058fa44cc346fafe5b0bcbe1c8b2d\", element=\"29b6a33c-43c5-4e7e-b599-861c7baeb818\")>,\n",
       " <selenium.webdriver.remote.webelement.WebElement (session=\"a82058fa44cc346fafe5b0bcbe1c8b2d\", element=\"1548ec64-2bae-4c00-9f7c-6c0a7f8c23c8\")>,\n",
       " <selenium.webdriver.remote.webelement.WebElement (session=\"a82058fa44cc346fafe5b0bcbe1c8b2d\", element=\"eb602e02-d886-42dd-ac3b-82b79f1daacf\")>,\n",
       " <selenium.webdriver.remote.webelement.WebElement (session=\"a82058fa44cc346fafe5b0bcbe1c8b2d\", element=\"09c10554-41ca-48e6-a557-37ad272cb581\")>,\n",
       " <selenium.webdriver.remote.webelement.WebElement (session=\"a82058fa44cc346fafe5b0bcbe1c8b2d\", element=\"b92b819c-b8d5-4758-82a9-0ec4a8a84c54\")>,\n",
       " <selenium.webdriver.remote.webelement.WebElement (session=\"a82058fa44cc346fafe5b0bcbe1c8b2d\", element=\"fd5b3870-1e84-4e3e-b52c-7b0af3d79e8d\")>,\n",
       " <selenium.webdriver.remote.webelement.WebElement (session=\"a82058fa44cc346fafe5b0bcbe1c8b2d\", element=\"0cae8364-c7f2-4f90-bcad-1a1205ea73a7\")>,\n",
       " <selenium.webdriver.remote.webelement.WebElement (session=\"a82058fa44cc346fafe5b0bcbe1c8b2d\", element=\"2d48445a-a478-469e-94b9-223465487a66\")>,\n",
       " <selenium.webdriver.remote.webelement.WebElement (session=\"a82058fa44cc346fafe5b0bcbe1c8b2d\", element=\"96ba3655-d455-4453-b642-6ad7863ca4fc\")>]"
      ]
     },
     "execution_count": 58,
     "metadata": {},
     "output_type": "execute_result"
    }
   ],
   "source": [
    "Experience_Tag=driver.find_elements_by_xpath(\"//li[@class='fleft grey-text br2 placeHolderLi experience']/span\")\n",
    "Experience_Tag[0:10] #Scraping experience"
   ]
  },
  {
   "cell_type": "code",
   "execution_count": 59,
   "id": "807e0c12",
   "metadata": {},
   "outputs": [
    {
     "data": {
      "text/plain": [
       "['2-7 Yrs',\n",
       " '3-8 Yrs',\n",
       " '1-4 Yrs',\n",
       " '2-5 Yrs',\n",
       " '4-8 Yrs',\n",
       " '4-8 Yrs',\n",
       " '1-6 Yrs',\n",
       " '3-6 Yrs',\n",
       " '1-3 Yrs',\n",
       " '3-8 Yrs']"
      ]
     },
     "execution_count": 59,
     "metadata": {},
     "output_type": "execute_result"
    }
   ],
   "source": [
    "for i in Experience_Tag:\n",
    "    Experience.append(i.text)\n",
    "Experience[0:10]"
   ]
  },
  {
   "cell_type": "code",
   "execution_count": 60,
   "id": "f505fef3",
   "metadata": {},
   "outputs": [],
   "source": [
    "Experiences=pd.DataFrame(Experience)"
   ]
  },
  {
   "cell_type": "code",
   "execution_count": 61,
   "id": "00353a0a",
   "metadata": {},
   "outputs": [
    {
     "data": {
      "text/html": [
       "<div>\n",
       "<style scoped>\n",
       "    .dataframe tbody tr th:only-of-type {\n",
       "        vertical-align: middle;\n",
       "    }\n",
       "\n",
       "    .dataframe tbody tr th {\n",
       "        vertical-align: top;\n",
       "    }\n",
       "\n",
       "    .dataframe thead th {\n",
       "        text-align: right;\n",
       "    }\n",
       "</style>\n",
       "<table border=\"1\" class=\"dataframe\">\n",
       "  <thead>\n",
       "    <tr style=\"text-align: right;\">\n",
       "      <th></th>\n",
       "      <th>Job_Title</th>\n",
       "      <th>Company_Name</th>\n",
       "      <th>Location</th>\n",
       "      <th>Experience</th>\n",
       "    </tr>\n",
       "  </thead>\n",
       "  <tbody>\n",
       "    <tr>\n",
       "      <th>0</th>\n",
       "      <td>Job Opening with Wipro For Data Scientist posi...</td>\n",
       "      <td>Wipro</td>\n",
       "      <td>Kolkata, Hyderabad/Secunderabad, Chennai, Bang...</td>\n",
       "      <td>2-7 Yrs</td>\n",
       "    </tr>\n",
       "    <tr>\n",
       "      <th>1</th>\n",
       "      <td>Data Scientist - Machine learning AI</td>\n",
       "      <td>Teq Analytics</td>\n",
       "      <td>Bangalore/Bengaluru, Delhi / NCR, Mumbai (All ...</td>\n",
       "      <td>3-8 Yrs</td>\n",
       "    </tr>\n",
       "    <tr>\n",
       "      <th>2</th>\n",
       "      <td>Data Scientist -Machine Learning with Python</td>\n",
       "      <td>Genpact</td>\n",
       "      <td>Noida, New Delhi, Gurgaon/Gurugram, Delhi / NCR</td>\n",
       "      <td>1-4 Yrs</td>\n",
       "    </tr>\n",
       "    <tr>\n",
       "      <th>3</th>\n",
       "      <td>Data Scientist</td>\n",
       "      <td>SS Supply Chain Solutions Pvt. Ltd. (3SC)</td>\n",
       "      <td>Pune, Gurgaon/Gurugram, Bangalore/Bengaluru</td>\n",
       "      <td>2-5 Yrs</td>\n",
       "    </tr>\n",
       "    <tr>\n",
       "      <th>4</th>\n",
       "      <td>Data Scientist - MIND Infotech</td>\n",
       "      <td>MOTHERSONSUMI INFOTECH &amp; DESIGNS LIMITED</td>\n",
       "      <td>Noida</td>\n",
       "      <td>4-8 Yrs</td>\n",
       "    </tr>\n",
       "    <tr>\n",
       "      <th>5</th>\n",
       "      <td>Data Scientist - MIND Infotech</td>\n",
       "      <td>MOTHERSONSUMI INFOTECH &amp; DESIGNS LIMITED</td>\n",
       "      <td>Noida</td>\n",
       "      <td>4-8 Yrs</td>\n",
       "    </tr>\n",
       "    <tr>\n",
       "      <th>6</th>\n",
       "      <td>Data Scientist - Predictive Analytics</td>\n",
       "      <td>Confidential</td>\n",
       "      <td>Noida, Mumbai, Chandigarh, Hyderabad/Secundera...</td>\n",
       "      <td>1-6 Yrs</td>\n",
       "    </tr>\n",
       "    <tr>\n",
       "      <th>7</th>\n",
       "      <td>Data Scientist - Internet Jobs - II</td>\n",
       "      <td>Jobs Territory</td>\n",
       "      <td>Bangalore/Bengaluru, Delhi / NCR, Mumbai (All ...</td>\n",
       "      <td>3-6 Yrs</td>\n",
       "    </tr>\n",
       "    <tr>\n",
       "      <th>8</th>\n",
       "      <td>Machine Learning Engineer | Data Engineer | Da...</td>\n",
       "      <td>Tidyquant (OPC) Private Limited</td>\n",
       "      <td>Chennai, Bangalore/Bengaluru, Delhi / NCR(Sect...</td>\n",
       "      <td>1-3 Yrs</td>\n",
       "    </tr>\n",
       "    <tr>\n",
       "      <th>9</th>\n",
       "      <td>Dot Net Developer</td>\n",
       "      <td>Nibha Infotech Private Limited</td>\n",
       "      <td>Gurgaon/Gurugram, Delhi / NCR</td>\n",
       "      <td>3-8 Yrs</td>\n",
       "    </tr>\n",
       "  </tbody>\n",
       "</table>\n",
       "</div>"
      ],
      "text/plain": [
       "                                           Job_Title  \\\n",
       "0  Job Opening with Wipro For Data Scientist posi...   \n",
       "1               Data Scientist - Machine learning AI   \n",
       "2       Data Scientist -Machine Learning with Python   \n",
       "3                                     Data Scientist   \n",
       "4                     Data Scientist - MIND Infotech   \n",
       "5                     Data Scientist - MIND Infotech   \n",
       "6              Data Scientist - Predictive Analytics   \n",
       "7                Data Scientist - Internet Jobs - II   \n",
       "8  Machine Learning Engineer | Data Engineer | Da...   \n",
       "9                                  Dot Net Developer   \n",
       "\n",
       "                                Company_Name  \\\n",
       "0                                      Wipro   \n",
       "1                              Teq Analytics   \n",
       "2                                    Genpact   \n",
       "3  SS Supply Chain Solutions Pvt. Ltd. (3SC)   \n",
       "4   MOTHERSONSUMI INFOTECH & DESIGNS LIMITED   \n",
       "5   MOTHERSONSUMI INFOTECH & DESIGNS LIMITED   \n",
       "6                               Confidential   \n",
       "7                             Jobs Territory   \n",
       "8            Tidyquant (OPC) Private Limited   \n",
       "9             Nibha Infotech Private Limited   \n",
       "\n",
       "                                            Location Experience  \n",
       "0  Kolkata, Hyderabad/Secunderabad, Chennai, Bang...    2-7 Yrs  \n",
       "1  Bangalore/Bengaluru, Delhi / NCR, Mumbai (All ...    3-8 Yrs  \n",
       "2    Noida, New Delhi, Gurgaon/Gurugram, Delhi / NCR    1-4 Yrs  \n",
       "3        Pune, Gurgaon/Gurugram, Bangalore/Bengaluru    2-5 Yrs  \n",
       "4                                              Noida    4-8 Yrs  \n",
       "5                                              Noida    4-8 Yrs  \n",
       "6  Noida, Mumbai, Chandigarh, Hyderabad/Secundera...    1-6 Yrs  \n",
       "7  Bangalore/Bengaluru, Delhi / NCR, Mumbai (All ...    3-6 Yrs  \n",
       "8  Chennai, Bangalore/Bengaluru, Delhi / NCR(Sect...    1-3 Yrs  \n",
       "9                      Gurgaon/Gurugram, Delhi / NCR    3-8 Yrs  "
      ]
     },
     "execution_count": 61,
     "metadata": {},
     "output_type": "execute_result"
    }
   ],
   "source": [
    "Filter=pd.concat([Job_Titles,Company_Names,Locations,Experiences],axis=1)\n",
    "Filter.columns=[\"Job_Title\",\"Company_Name\",\"Location\",\"Experience\"]\n",
    "Filter.head(10) #Concatenating the columns"
   ]
  },
  {
   "cell_type": "markdown",
   "id": "83636d74",
   "metadata": {},
   "source": [
    "# Flipkart_Sunglass"
   ]
  },
  {
   "cell_type": "code",
   "execution_count": 236,
   "id": "26497620",
   "metadata": {},
   "outputs": [],
   "source": [
    "driver.get(\"https://www.flipkart.com/\") #Loading the website"
   ]
  },
  {
   "cell_type": "code",
   "execution_count": 237,
   "id": "43e9f8c4",
   "metadata": {},
   "outputs": [],
   "source": [
    "search_designation=driver.find_element_by_xpath(\"/html/body/div[1]/div/div[1]/div[1]/div[2]/div[2]/form/div/div/input\")\n",
    "search_designation.send_keys(\"sunglasses\") #Searching sunglasses by Xpath location"
   ]
  },
  {
   "cell_type": "code",
   "execution_count": 238,
   "id": "3efb99b4",
   "metadata": {},
   "outputs": [],
   "source": [
    "search_button=driver.find_element_by_class_name(\"L0Z3Pu\")\n",
    "search_button.click() #clicking on the search button via class name"
   ]
  },
  {
   "cell_type": "code",
   "execution_count": 239,
   "id": "95ae6b0f",
   "metadata": {},
   "outputs": [],
   "source": [
    "Brand=[]\n",
    "for i in range(0,3):\n",
    "    Brand_Tag=driver.find_elements_by_xpath(\"//div[ @class='_2WkVRV']\")\n",
    "    for i in Brand_Tag:\n",
    "        Brand.append(i.text)\n",
    "    next_button=driver.find_element_by_xpath(\"/html/body/div[1]/div/div[3]/div[1]/div[2]/div[12]/div/div/nav/a[11]\")\n",
    "    next_button.click()\n",
    "    time.sleep(5)\n",
    "        \n",
    "    \n",
    "   # Loop needs to run for 3 pages to scrap 100 data for Brand name"
   ]
  },
  {
   "cell_type": "code",
   "execution_count": 240,
   "id": "122f72bd",
   "metadata": {},
   "outputs": [
    {
     "data": {
      "text/plain": [
       "['Mi',\n",
       " 'SRPM',\n",
       " 'PIRASO',\n",
       " 'Fastrack',\n",
       " 'Fastrack',\n",
       " 'Elligator',\n",
       " 'PIRASO',\n",
       " 'PIRASO',\n",
       " 'PIRASO',\n",
       " 'Fastrack',\n",
       " 'New Specs',\n",
       " 'ROZZETTA CRAFT',\n",
       " 'Mi',\n",
       " 'ROZZETTA CRAFT',\n",
       " 'Fastrack',\n",
       " 'PIRASO',\n",
       " 'SUNBEE',\n",
       " 'Lee Topper',\n",
       " 'New Specs',\n",
       " 'SHAAH COLLECTIONS',\n",
       " 'GANSTA',\n",
       " 'SUNBEE',\n",
       " 'United Colors of Benetton',\n",
       " 'ROZZETTA CRAFT',\n",
       " 'Elligator',\n",
       " 'VINCENT CHASE',\n",
       " 'United Colors of Benetton',\n",
       " 'SRPM',\n",
       " 'ROYAL SON',\n",
       " 'Fastrack',\n",
       " 'AISLIN',\n",
       " 'SRPM',\n",
       " 'Fastrack',\n",
       " 'Lee Topper',\n",
       " 'GANSTA',\n",
       " 'PIRASO',\n",
       " 'VINCENT CHASE',\n",
       " 'PHENOMENAL',\n",
       " 'AISLIN',\n",
       " 'Fastrack',\n",
       " 'PIRASO',\n",
       " 'HRX by Hrithik Roshan',\n",
       " 'Urbanic',\n",
       " 'kingsunglasses',\n",
       " 'ROYAL SON',\n",
       " 'Fastrack',\n",
       " 'SUNBEE',\n",
       " 'AISLIN',\n",
       " 'PIRASO',\n",
       " 'Lee Topper',\n",
       " 'SHAAH COLLECTIONS',\n",
       " 'WROGN',\n",
       " 'ROZZETTA CRAFT',\n",
       " 'Fastrack',\n",
       " 'VINCENT CHASE',\n",
       " 'AISLIN',\n",
       " 'ROZZETTA CRAFT',\n",
       " 'Fastrack',\n",
       " 'PIRASO',\n",
       " 'PHENOMENAL',\n",
       " 'SRPM',\n",
       " 'ROYAL SON',\n",
       " 'NuVew',\n",
       " 'Ray-Ban',\n",
       " 'IZAAN MART',\n",
       " 'VINCENT CHASE',\n",
       " 'kingsunglasses',\n",
       " 'New Specs',\n",
       " 'kingsunglasses',\n",
       " 'Urbanic',\n",
       " 'VINCENT CHASE',\n",
       " 'PIRASO',\n",
       " 'United Colors of Benetton',\n",
       " 'kingsunglasses',\n",
       " 'ROZZETTA CRAFT',\n",
       " 'Fastrack',\n",
       " 'kingsunglasses',\n",
       " 'ROZZETTA CRAFT',\n",
       " 'AISLIN',\n",
       " 'New Specs',\n",
       " 'AISLIN',\n",
       " 'Ray-Ban',\n",
       " 'Anemone',\n",
       " 'VINCENT CHASE',\n",
       " 'Urbanic',\n",
       " 'NuVew',\n",
       " 'Cruze',\n",
       " 'SHAAH COLLECTIONS',\n",
       " 'AISLIN',\n",
       " 'ROYAL SON',\n",
       " 'AISLIN',\n",
       " 'Roadster',\n",
       " 'GANSTA',\n",
       " 'Urbanic',\n",
       " 'elegante',\n",
       " 'kingsunglasses',\n",
       " 'Elligator',\n",
       " 'GANSTA',\n",
       " 'AISLIN']"
      ]
     },
     "execution_count": 240,
     "metadata": {},
     "output_type": "execute_result"
    }
   ],
   "source": [
    "Brand[0:99]"
   ]
  },
  {
   "cell_type": "code",
   "execution_count": 241,
   "id": "3972c512",
   "metadata": {},
   "outputs": [],
   "source": [
    "Brands=pd.DataFrame(Brand)"
   ]
  },
  {
   "cell_type": "code",
   "execution_count": 242,
   "id": "e3de191a",
   "metadata": {},
   "outputs": [],
   "source": [
    "Product_Description=[]\n",
    "for i in range(0,2):\n",
    "    Product_Tag=driver.find_elements_by_xpath(\"//a[@class='IRpwTa']\")\n",
    "    for i in Product_Tag:\n",
    "           Product_Description.append(i.text)\n",
    "    next_button=driver.find_element_by_xpath(\"/html/body/div[1]/div/div[3]/div[1]/div[2]/div[12]/div/div/nav/a[11]\")\n",
    "    next_button.click()\n",
    "    time.sleep(5)  # Loop needs to run for 3 pages to scrap 100 data for Product Description"
   ]
  },
  {
   "cell_type": "code",
   "execution_count": 243,
   "id": "063111fd",
   "metadata": {},
   "outputs": [
    {
     "data": {
      "text/plain": [
       "['UV Protection Wayfarer Sunglasses (53)',\n",
       " 'Others Cat-eye, Retro Square, Wayfarer Sunglasses (54)',\n",
       " 'UV Protection, Gradient Wayfarer Sunglasses (53)',\n",
       " 'Others Retro Square Sunglasses (Free Size)',\n",
       " 'UV Protection, Riding Glasses Wayfarer Sunglasses (56)',\n",
       " 'UV Protection Wayfarer Sunglasses (50)',\n",
       " 'UV Protection Retro Square Sunglasses (41)',\n",
       " 'Mirrored Round Sunglasses (53)',\n",
       " 'UV Protection Aviator Sunglasses (61)',\n",
       " 'UV Protection Retro Square Sunglasses (60)',\n",
       " 'UV Protection Wrap-around Sunglasses (Free Size)',\n",
       " 'UV Protection Aviator, Round Sunglasses (Free Size)',\n",
       " 'UV Protection Round Sunglasses (50)',\n",
       " 'Gradient Wayfarer Sunglasses (Free Size)',\n",
       " 'Mirrored Retro Square Sunglasses (57)',\n",
       " 'UV Protection Round Sunglasses (Free Size)',\n",
       " 'Polarized Retro Square Sunglasses (62)',\n",
       " 'UV Protection Rectangular, Retro Square Sunglasses (55)',\n",
       " 'Polarized, UV Protection Round Sunglasses (52)',\n",
       " 'UV Protection, Gradient Cat-eye Sunglasses (61)',\n",
       " 'UV Protection Wayfarer Sunglasses (56)',\n",
       " 'Polarized Aviator Sunglasses (58)',\n",
       " 'UV Protection, Mirrored Wayfarer Sunglasses (Free Size)',\n",
       " 'UV Protection, Gradient Round Sunglasses (58)',\n",
       " 'UV Protection Rectangular Sunglasses (50)',\n",
       " 'UV Protection Round Sunglasses (Free Size)',\n",
       " 'UV Protection, Night Vision Sports Sunglasses (Free Siz...',\n",
       " 'UV Protection Rectangular, Over-sized Sunglasses (Free ...',\n",
       " 'UV Protection Rectangular Sunglasses (Free Size)',\n",
       " 'Mirrored Aviator Sunglasses (Free Size)',\n",
       " 'HALF JACKET 2.0 XL Round Sunglass',\n",
       " 'UV Protection, Mirrored Aviator Sunglasses (Free Size)',\n",
       " 'UV Protection Wayfarer Sunglasses (Free Size)',\n",
       " 'UV Protection, Gradient, Riding Glasses Sunglass',\n",
       " 'UV Protection, Polarized, Mirrored Wayfarer Sunglasses ...',\n",
       " 'UV Protection Round Sunglasses (53)',\n",
       " 'UV Protection, Mirrored Clubmaster Sunglasses (54)',\n",
       " 'UV Protection Oval Sunglasses (52)',\n",
       " 'Polarized, UV Protection Sports Sunglasses (68)',\n",
       " 'UV Protection Wayfarer Sunglasses (Free Size)',\n",
       " 'Polarized, UV Protection Aviator Sunglasses (53)',\n",
       " 'UV Protection Round Sunglasses (54)',\n",
       " 'UV Protection, Night Vision Aviator Sunglasses (58)',\n",
       " 'UV Protection Aviator Sunglasses (56)',\n",
       " 'UV Protection Oval, Aviator Sunglasses (59)',\n",
       " 'Toughened Glass Lens, UV Protection Aviator Sunglasses ...',\n",
       " 'UV Protection Round Sunglasses (53)',\n",
       " 'Polarized, UV Protection, Mirrored Round Sunglasses (56...',\n",
       " 'UV Protection Round, Shield Sunglasses (55)',\n",
       " 'Night Vision, UV Protection, Polarized Wrap-around Sung...',\n",
       " 'UV Protection Aviator Sunglasses (58)',\n",
       " 'Polarized, UV Protection, Mirrored Aviator Sunglasses (...',\n",
       " 'UV Protection, Mirrored, Night Vision, Riding Glasses S...',\n",
       " 'Polarized, UV Protection Retro Square Sunglasses (54)',\n",
       " 'UV Protection Wayfarer Sunglasses (55)',\n",
       " 'Riding Glasses, UV Protection Round Sunglasses (50)',\n",
       " 'UV Protection, Gradient Cat-eye, Wayfarer Sunglasses (6...',\n",
       " 'UV Protection, Mirrored Wayfarer Sunglasses (57)',\n",
       " 'UV Protection, Gradient Wayfarer Sunglasses (58)',\n",
       " 'UV Protection Rectangular Sunglasses (60)',\n",
       " 'Polarized Aviator Sunglasses (57)',\n",
       " 'UV Protection, Polarized Wrap-around, Sports Sunglasses...',\n",
       " 'UV Protection Retro Square Sunglasses (Free Size)',\n",
       " 'Polarized, UV Protection Retro Square Sunglasses (54)',\n",
       " 'Polarized, UV Protection Aviator Sunglasses (57)',\n",
       " 'UV Protection Wayfarer Sunglasses (Free Size)',\n",
       " 'UV Protection Wayfarer, Rectangular Sunglasses (62)',\n",
       " 'Polarized, UV Protection Wayfarer, Round Sunglasses (58...',\n",
       " 'UV Protection, Gradient Aviator Sunglasses (58)',\n",
       " 'UV Protection Wrap-around Sunglasses (63)',\n",
       " 'Others Retro Square Sunglasses (55)',\n",
       " 'Polarized, UV Protection Retro Square Sunglasses (55)',\n",
       " 'Mirrored, Night Vision, UV Protection, Riding Glasses S...',\n",
       " 'UV Protection Wayfarer Sunglasses (46)',\n",
       " 'UV Protection Round Sunglasses (47)',\n",
       " 'UV Protection Sports Sunglasses (68)',\n",
       " 'Polarized Wayfarer Sunglasses (52)']"
      ]
     },
     "execution_count": 243,
     "metadata": {},
     "output_type": "execute_result"
    }
   ],
   "source": [
    "Product_Description[0:99]"
   ]
  },
  {
   "cell_type": "code",
   "execution_count": 244,
   "id": "12203a5b",
   "metadata": {},
   "outputs": [],
   "source": [
    "Product_Descriptions=pd.DataFrame(Product_Description)"
   ]
  },
  {
   "cell_type": "code",
   "execution_count": 245,
   "id": "73d939f5",
   "metadata": {},
   "outputs": [],
   "source": [
    "Price=[]\n",
    "for i in range(0,3):\n",
    "    Price_Tag=driver.find_elements_by_xpath(\"//div[@class='_30jeq3']\")\n",
    "    for i in Price_Tag:\n",
    "           Price.append(i.text)\n",
    "    next_button=driver.find_element_by_xpath(\"/html/body/div[1]/div/div[3]/div[1]/div[2]/div[12]/div/div/nav/a[11]\")\n",
    "    next_button.click()\n",
    "    time.sleep(5)\n",
    " # Loop needs to run for 3 pages to scrap 100 data for Price"
   ]
  },
  {
   "cell_type": "code",
   "execution_count": 246,
   "id": "ce6f1521",
   "metadata": {},
   "outputs": [
    {
     "data": {
      "text/plain": [
       "['₹836',\n",
       " '₹9,599',\n",
       " '₹387',\n",
       " '₹699',\n",
       " '₹220',\n",
       " '₹220',\n",
       " '₹504',\n",
       " '₹299',\n",
       " '₹111',\n",
       " '₹210',\n",
       " '₹12,029',\n",
       " '₹8,629',\n",
       " '₹185',\n",
       " '₹525',\n",
       " '₹899',\n",
       " '₹559',\n",
       " '₹501',\n",
       " '₹135',\n",
       " '₹115',\n",
       " '₹1,309',\n",
       " '₹836',\n",
       " '₹215',\n",
       " '₹768',\n",
       " '₹399',\n",
       " '₹548',\n",
       " '₹768',\n",
       " '₹335',\n",
       " '₹443',\n",
       " '₹164',\n",
       " '₹443',\n",
       " '₹519',\n",
       " '₹9,599',\n",
       " '₹185',\n",
       " '₹1,289',\n",
       " '₹160',\n",
       " '₹1,007',\n",
       " '₹589',\n",
       " '₹219',\n",
       " '₹299',\n",
       " '₹105',\n",
       " '₹836',\n",
       " '₹9,599',\n",
       " '₹387',\n",
       " '₹699',\n",
       " '₹220',\n",
       " '₹220',\n",
       " '₹504',\n",
       " '₹299',\n",
       " '₹111',\n",
       " '₹210',\n",
       " '₹12,029',\n",
       " '₹8,629',\n",
       " '₹185',\n",
       " '₹525',\n",
       " '₹899',\n",
       " '₹559',\n",
       " '₹501',\n",
       " '₹135',\n",
       " '₹115',\n",
       " '₹1,309',\n",
       " '₹836',\n",
       " '₹215',\n",
       " '₹768',\n",
       " '₹399',\n",
       " '₹548',\n",
       " '₹768',\n",
       " '₹335',\n",
       " '₹443',\n",
       " '₹164',\n",
       " '₹443',\n",
       " '₹519',\n",
       " '₹9,599',\n",
       " '₹185',\n",
       " '₹1,289',\n",
       " '₹160',\n",
       " '₹1,007',\n",
       " '₹589',\n",
       " '₹219',\n",
       " '₹299',\n",
       " '₹105',\n",
       " '₹836',\n",
       " '₹9,599',\n",
       " '₹387',\n",
       " '₹699',\n",
       " '₹220',\n",
       " '₹220',\n",
       " '₹504',\n",
       " '₹299',\n",
       " '₹111',\n",
       " '₹210',\n",
       " '₹12,029',\n",
       " '₹8,629',\n",
       " '₹185',\n",
       " '₹525',\n",
       " '₹899',\n",
       " '₹559',\n",
       " '₹501',\n",
       " '₹135',\n",
       " '₹115']"
      ]
     },
     "execution_count": 246,
     "metadata": {},
     "output_type": "execute_result"
    }
   ],
   "source": [
    "Price[0:99]"
   ]
  },
  {
   "cell_type": "code",
   "execution_count": 247,
   "id": "2b3e8cd4",
   "metadata": {},
   "outputs": [],
   "source": [
    "Prices=pd.DataFrame(Price)"
   ]
  },
  {
   "cell_type": "code",
   "execution_count": 248,
   "id": "e83a70fe",
   "metadata": {},
   "outputs": [],
   "source": [
    "Discount=[]\n",
    "for i in range(0,3):\n",
    "    Discount_Tag=driver.find_elements_by_xpath(\"//div[@class='_3Ay6Sb']\")\n",
    "    for i in Discount_Tag:\n",
    "           Discount.append(i.text)\n",
    "    next_button=driver.find_element_by_xpath(\"/html/body/div[1]/div/div[3]/div[1]/div[2]/div[12]/div/div/nav/a[11]\")\n",
    "    next_button.click()\n",
    "    time.sleep(5)  # Loop needs to run for 3 pages to scrap 100 data for Discount"
   ]
  },
  {
   "cell_type": "code",
   "execution_count": 249,
   "id": "711cdb40",
   "metadata": {},
   "outputs": [
    {
     "data": {
      "text/plain": [
       "['80% off',\n",
       " '11% off',\n",
       " '87% off',\n",
       " '65% off',\n",
       " '79% off',\n",
       " '45% off',\n",
       " '76% off',\n",
       " '78% off',\n",
       " '77% off',\n",
       " '57% off',\n",
       " '11% off',\n",
       " '10% off',\n",
       " '79% off',\n",
       " '79% off',\n",
       " '64% off',\n",
       " '72% off',\n",
       " '84% off',\n",
       " '88% off',\n",
       " '76% off',\n",
       " '45% off',\n",
       " '80% off',\n",
       " '78% off',\n",
       " '58% off',\n",
       " '80% off',\n",
       " '63% off',\n",
       " '58% off',\n",
       " '67% off',\n",
       " '86% off',\n",
       " '67% off',\n",
       " '82% off',\n",
       " '79% off',\n",
       " '11% off',\n",
       " '38% off',\n",
       " '45% off',\n",
       " '87% off',\n",
       " '49% off',\n",
       " '73% off',\n",
       " '85% off',\n",
       " '70% off',\n",
       " '82% off',\n",
       " '80% off',\n",
       " '11% off',\n",
       " '87% off',\n",
       " '65% off',\n",
       " '79% off',\n",
       " '45% off',\n",
       " '76% off',\n",
       " '78% off',\n",
       " '77% off',\n",
       " '57% off',\n",
       " '11% off',\n",
       " '10% off',\n",
       " '79% off',\n",
       " '79% off',\n",
       " '64% off',\n",
       " '72% off',\n",
       " '84% off',\n",
       " '88% off',\n",
       " '76% off',\n",
       " '45% off',\n",
       " '80% off',\n",
       " '78% off',\n",
       " '58% off',\n",
       " '80% off',\n",
       " '63% off',\n",
       " '58% off',\n",
       " '67% off',\n",
       " '86% off',\n",
       " '67% off',\n",
       " '82% off',\n",
       " '79% off',\n",
       " '11% off',\n",
       " '38% off',\n",
       " '45% off',\n",
       " '87% off',\n",
       " '49% off',\n",
       " '73% off',\n",
       " '85% off',\n",
       " '70% off',\n",
       " '82% off',\n",
       " '80% off',\n",
       " '11% off',\n",
       " '87% off',\n",
       " '65% off',\n",
       " '79% off',\n",
       " '45% off',\n",
       " '76% off',\n",
       " '78% off',\n",
       " '77% off',\n",
       " '57% off',\n",
       " '11% off',\n",
       " '10% off',\n",
       " '79% off',\n",
       " '79% off',\n",
       " '64% off',\n",
       " '72% off',\n",
       " '84% off',\n",
       " '88% off',\n",
       " '76% off']"
      ]
     },
     "execution_count": 249,
     "metadata": {},
     "output_type": "execute_result"
    }
   ],
   "source": [
    "Discount[0:99]"
   ]
  },
  {
   "cell_type": "code",
   "execution_count": 250,
   "id": "f1bdbe07",
   "metadata": {},
   "outputs": [],
   "source": [
    "Discounts=pd.DataFrame(Discount)"
   ]
  },
  {
   "cell_type": "code",
   "execution_count": 253,
   "id": "b7a3e22c",
   "metadata": {},
   "outputs": [
    {
     "data": {
      "text/html": [
       "<div>\n",
       "<style scoped>\n",
       "    .dataframe tbody tr th:only-of-type {\n",
       "        vertical-align: middle;\n",
       "    }\n",
       "\n",
       "    .dataframe tbody tr th {\n",
       "        vertical-align: top;\n",
       "    }\n",
       "\n",
       "    .dataframe thead th {\n",
       "        text-align: right;\n",
       "    }\n",
       "</style>\n",
       "<table border=\"1\" class=\"dataframe\">\n",
       "  <thead>\n",
       "    <tr style=\"text-align: right;\">\n",
       "      <th></th>\n",
       "      <th>Brand</th>\n",
       "      <th>Product_Description</th>\n",
       "      <th>Price</th>\n",
       "      <th>Discount</th>\n",
       "    </tr>\n",
       "  </thead>\n",
       "  <tbody>\n",
       "    <tr>\n",
       "      <th>0</th>\n",
       "      <td>Mi</td>\n",
       "      <td>UV Protection Wayfarer Sunglasses (53)</td>\n",
       "      <td>₹836</td>\n",
       "      <td>80% off</td>\n",
       "    </tr>\n",
       "    <tr>\n",
       "      <th>1</th>\n",
       "      <td>SRPM</td>\n",
       "      <td>Others Cat-eye, Retro Square, Wayfarer Sunglas...</td>\n",
       "      <td>₹9,599</td>\n",
       "      <td>11% off</td>\n",
       "    </tr>\n",
       "    <tr>\n",
       "      <th>2</th>\n",
       "      <td>PIRASO</td>\n",
       "      <td>UV Protection, Gradient Wayfarer Sunglasses (53)</td>\n",
       "      <td>₹387</td>\n",
       "      <td>87% off</td>\n",
       "    </tr>\n",
       "    <tr>\n",
       "      <th>3</th>\n",
       "      <td>Fastrack</td>\n",
       "      <td>Others Retro Square Sunglasses (Free Size)</td>\n",
       "      <td>₹699</td>\n",
       "      <td>65% off</td>\n",
       "    </tr>\n",
       "    <tr>\n",
       "      <th>4</th>\n",
       "      <td>Fastrack</td>\n",
       "      <td>UV Protection, Riding Glasses Wayfarer Sunglas...</td>\n",
       "      <td>₹220</td>\n",
       "      <td>79% off</td>\n",
       "    </tr>\n",
       "  </tbody>\n",
       "</table>\n",
       "</div>"
      ],
      "text/plain": [
       "      Brand                                Product_Description   Price  \\\n",
       "0        Mi             UV Protection Wayfarer Sunglasses (53)    ₹836   \n",
       "1      SRPM  Others Cat-eye, Retro Square, Wayfarer Sunglas...  ₹9,599   \n",
       "2    PIRASO   UV Protection, Gradient Wayfarer Sunglasses (53)    ₹387   \n",
       "3  Fastrack         Others Retro Square Sunglasses (Free Size)    ₹699   \n",
       "4  Fastrack  UV Protection, Riding Glasses Wayfarer Sunglas...    ₹220   \n",
       "\n",
       "  Discount  \n",
       "0  80% off  \n",
       "1  11% off  \n",
       "2  87% off  \n",
       "3  65% off  \n",
       "4  79% off  "
      ]
     },
     "execution_count": 253,
     "metadata": {},
     "output_type": "execute_result"
    }
   ],
   "source": [
    "Flipkart_Sunglass=pd.concat([Brands,Product_Descriptions,Prices,Discounts],axis=1)\n",
    "Flipkart_Sunglass.columns=['Brand','Product_Description','Price','Discount']\n",
    "Flipkart_Sunglass.head() #Concatenating all the dataframe and making a column"
   ]
  },
  {
   "cell_type": "markdown",
   "id": "e9fe7e1f",
   "metadata": {},
   "source": [
    "# Iphone 11 Review"
   ]
  },
  {
   "cell_type": "code",
   "execution_count": 113,
   "id": "f8cecb0f",
   "metadata": {},
   "outputs": [],
   "source": [
    "driver.get(\"https://www.flipkart.com/apple-iphone-11-black-64-gb-includes-earpods-power-adapter/product-reviews/itm0f37c2240b217?pid=MOBFKCTSVZAXUHGR&lid=LSTMOBFKCTSVZAXUHGREPBFGI&marketplace=FLIPKART\") #loading the website"
   ]
  },
  {
   "cell_type": "code",
   "execution_count": 114,
   "id": "4d4ce595",
   "metadata": {},
   "outputs": [],
   "source": [
    "Rating=[]\n",
    "for i in range(0,11):\n",
    "    Rating_Tag=driver.find_elements_by_xpath(\"//div[@class='_3LWZlK _1BLPMq']\")\n",
    "    for i in Rating_Tag:\n",
    "           Rating.append(i.text)\n",
    "    next_button=driver.find_element_by_xpath(\"/html/body/div/div/div[3]/div/div/div[2]/div[13]/div/div/nav/a[11]\")\n",
    "    next_button.click()\n",
    "    time.sleep(5)\n",
    " # Loop needs to run for 11 pages to scrap 100 data for Rating"
   ]
  },
  {
   "cell_type": "code",
   "execution_count": 115,
   "id": "962c1a38",
   "metadata": {},
   "outputs": [
    {
     "data": {
      "text/plain": [
       "['5',\n",
       " '5',\n",
       " '5',\n",
       " '5',\n",
       " '5',\n",
       " '5',\n",
       " '5',\n",
       " '5',\n",
       " '4',\n",
       " '5',\n",
       " '5',\n",
       " '5',\n",
       " '5',\n",
       " '5',\n",
       " '5',\n",
       " '5',\n",
       " '5',\n",
       " '5',\n",
       " '5',\n",
       " '5',\n",
       " '5',\n",
       " '5',\n",
       " '5',\n",
       " '5',\n",
       " '5',\n",
       " '5',\n",
       " '5',\n",
       " '5',\n",
       " '5',\n",
       " '5',\n",
       " '5',\n",
       " '5',\n",
       " '5',\n",
       " '5',\n",
       " '5',\n",
       " '5',\n",
       " '4',\n",
       " '5',\n",
       " '5',\n",
       " '5',\n",
       " '5',\n",
       " '3',\n",
       " '4',\n",
       " '5',\n",
       " '4',\n",
       " '5',\n",
       " '5',\n",
       " '5',\n",
       " '5',\n",
       " '5',\n",
       " '5',\n",
       " '5',\n",
       " '5',\n",
       " '5',\n",
       " '4',\n",
       " '5',\n",
       " '5',\n",
       " '4',\n",
       " '4',\n",
       " '5',\n",
       " '5',\n",
       " '4',\n",
       " '3',\n",
       " '4',\n",
       " '5',\n",
       " '5',\n",
       " '5',\n",
       " '5',\n",
       " '4',\n",
       " '5',\n",
       " '5',\n",
       " '5',\n",
       " '5',\n",
       " '5',\n",
       " '5',\n",
       " '5',\n",
       " '5',\n",
       " '5',\n",
       " '5',\n",
       " '5',\n",
       " '5',\n",
       " '5',\n",
       " '5',\n",
       " '5',\n",
       " '5',\n",
       " '4',\n",
       " '5',\n",
       " '5',\n",
       " '5',\n",
       " '5',\n",
       " '5',\n",
       " '5',\n",
       " '5',\n",
       " '5',\n",
       " '4',\n",
       " '5',\n",
       " '5',\n",
       " '3',\n",
       " '5']"
      ]
     },
     "execution_count": 115,
     "metadata": {},
     "output_type": "execute_result"
    }
   ],
   "source": [
    "Rating[0:99]"
   ]
  },
  {
   "cell_type": "code",
   "execution_count": 116,
   "id": "b7fb9dfd",
   "metadata": {},
   "outputs": [],
   "source": [
    "Ratings=pd.DataFrame(Rating) #making a dataframe"
   ]
  },
  {
   "cell_type": "code",
   "execution_count": 117,
   "id": "e39b2c3e",
   "metadata": {},
   "outputs": [],
   "source": [
    "Summary=[]\n",
    "for i in range(0,11):\n",
    "    Summary_Tag=driver.find_elements_by_xpath(\"//p[@class='_2-N8zT']\")\n",
    "    for i in Summary_Tag:\n",
    "           Summary.append(i.text)\n",
    "    next_button=driver.find_element_by_xpath(\"/html/body/div/div/div[3]/div/div/div[2]/div[13]/div/div/nav/a[11]\")\n",
    "    next_button.click()\n",
    "    time.sleep(5)  # Loop needs to run for 11 pages to scrap 100 data for summary"
   ]
  },
  {
   "cell_type": "code",
   "execution_count": 118,
   "id": "abe73e0a",
   "metadata": {},
   "outputs": [
    {
     "data": {
      "text/plain": [
       "['Terrific',\n",
       " 'Best in the market!',\n",
       " 'Horrible',\n",
       " 'Terrific purchase',\n",
       " 'Highly recommended',\n",
       " 'Wonderful',\n",
       " 'Waste of money!',\n",
       " 'Excellent',\n",
       " 'Perfect product!',\n",
       " 'Worth every penny',\n",
       " 'Simply awesome',\n",
       " 'Terrific purchase',\n",
       " 'Terrible product',\n",
       " 'Simply awesome... cannot expose in word....',\n",
       " 'Perfect product!',\n",
       " 'Fabulous!',\n",
       " 'Best in the market!',\n",
       " 'Worth every penny',\n",
       " 'Brilliant',\n",
       " 'Terrific',\n",
       " 'Classy product',\n",
       " 'Excellent',\n",
       " 'Nice product',\n",
       " 'Fabulous!',\n",
       " 'Fabulous!',\n",
       " 'Great product',\n",
       " 'Delightful',\n",
       " 'Classy product',\n",
       " 'Super!',\n",
       " 'Terrific',\n",
       " 'Wonderful',\n",
       " 'Mind-blowing purchase',\n",
       " 'genuine Product.',\n",
       " 'Terrific purchase',\n",
       " 'Classy product',\n",
       " 'Wonderful',\n",
       " 'Terrific',\n",
       " 'Terrific purchase',\n",
       " 'Highly recommended',\n",
       " 'Perfect product!',\n",
       " 'Must buy!',\n",
       " 'Wonderful',\n",
       " 'Must buy!',\n",
       " 'Brilliant',\n",
       " 'Wonderful',\n",
       " 'Must buy!',\n",
       " 'Terrific',\n",
       " 'Best in the market!',\n",
       " 'Wonderful',\n",
       " 'Brilliant',\n",
       " 'Super!',\n",
       " 'Excellent',\n",
       " 'Simply awesome',\n",
       " 'Highly recommended',\n",
       " \"Don't waste your money\",\n",
       " 'Good choice',\n",
       " 'Highly recommended',\n",
       " 'Terrific purchase',\n",
       " 'Brilliant',\n",
       " 'Not recommended at all',\n",
       " 'Classy product',\n",
       " 'Simply awesome',\n",
       " 'Fair',\n",
       " 'Terrific purchase',\n",
       " 'Highly recommended',\n",
       " 'Classy product',\n",
       " 'Terrific purchase',\n",
       " 'Worth every penny',\n",
       " 'Moderate',\n",
       " 'Good choice',\n",
       " 'Highly recommended',\n",
       " 'Wonderful',\n",
       " 'Wonderful',\n",
       " 'Excellent',\n",
       " 'Just wow!',\n",
       " 'Delightful',\n",
       " 'Brilliant',\n",
       " 'Brilliant',\n",
       " 'Really Nice',\n",
       " 'Worth the money',\n",
       " 'Worst experience ever!',\n",
       " 'Waste of money!',\n",
       " 'Awesome',\n",
       " 'Utterly Disappointed',\n",
       " 'Terrific',\n",
       " 'Just okay',\n",
       " 'Best in the market!',\n",
       " 'Not good',\n",
       " 'Utterly Disappointed',\n",
       " 'Absolute rubbish!',\n",
       " 'Awesome',\n",
       " 'Good choice',\n",
       " 'Classy product',\n",
       " 'Not recommended at all',\n",
       " 'Simply awesome',\n",
       " 'Super!',\n",
       " 'Wonderful',\n",
       " 'Wonderful',\n",
       " 'Simply awesome']"
      ]
     },
     "execution_count": 118,
     "metadata": {},
     "output_type": "execute_result"
    }
   ],
   "source": [
    "Summary[0:99]"
   ]
  },
  {
   "cell_type": "code",
   "execution_count": 119,
   "id": "69942c48",
   "metadata": {},
   "outputs": [],
   "source": [
    "Summaries=pd.DataFrame(Summary)"
   ]
  },
  {
   "cell_type": "code",
   "execution_count": 120,
   "id": "2246fc88",
   "metadata": {},
   "outputs": [],
   "source": [
    "Review=[]\n",
    "for i in range(0,11):\n",
    "    Review_Tag=driver.find_elements_by_xpath(\"//div[@class='t-ZTKy']\")\n",
    "    for i in Review_Tag:\n",
    "           Review.append(i.text.replace(\"\\n\",\" \"))\n",
    "    next_button=driver.find_element_by_xpath(\"/html/body/div/div/div[3]/div/div/div[2]/div[13]/div/div/nav/a[11]\")\n",
    "    next_button.click()\n",
    "    time.sleep(5)  # Loop needs to run for 11 pages to scrap 100 data for Brand name"
   ]
  },
  {
   "cell_type": "code",
   "execution_count": 121,
   "id": "88025037",
   "metadata": {},
   "outputs": [
    {
     "data": {
      "text/plain": [
       "['Best',\n",
       " 'awsm Product',\n",
       " 'love 📱🍎',\n",
       " 'Such a Fabulous product…… value for Money….. Performance just awesome.',\n",
       " 'Love this product😍😘',\n",
       " 'Phone Is Good Hated the delivery service',\n",
       " 'Camera quality is really improved. Battery life needs to be improved. It would be better if we can get super amoled screen in such high price point.',\n",
       " 'Good Phone By Apple',\n",
       " 'Good',\n",
       " 'Nice',\n",
       " 'This phone is bullet and water spooruf specifically',\n",
       " 'Nice performance... I will give 5 star',\n",
       " \"Apple diehard fan. If you're switching to IOS, 11 is the best version I could suggest.\",\n",
       " 'Great phone!! Apart from screen resolution everything is fantastic. Could have made full hd with this price range. Battery back up is awesome. Really a great phone which can handle multi tasking very easily.',\n",
       " 'It’s a good upgrade from iPhone 7, better batteries and camera, you won’t be able to determine performance difference from its earlier model iPhone 7 or any older models because iPhone never lag or freeze no matter which application/games we run , as it’s loaded with bionic processor and optimised iOS , iOS always complements its hardware',\n",
       " 'Excellent display, deep bass stereo sound delivered by phone speakers, excellent battery and camera. Supremely fluid interface...',\n",
       " '3months running I will review after a year again',\n",
       " 'Value For Money , Gret Experience, Loved It.',\n",
       " 'absolutely stunning.... looks so perfect in hand.. in time delivery by flipkart and continuous customer support for any doubts... this phone definitely raise your looks...',\n",
       " 'What a iphone!!! ❤❤💯💯💯💪🏻💥💥💥',\n",
       " 'Best phone for ever.',\n",
       " 'Awesome camera Good performance value for money',\n",
       " 'Best Mobile For Videography and photography',\n",
       " 'Best Device for gaming but too much heat',\n",
       " 'Excellent phone... great performance..very good camera.. Overall power pack..war machine',\n",
       " 'Super',\n",
       " 'I got a scratch in display glass.',\n",
       " 'Top quality',\n",
       " 'Value for money and apple did great job in battery performance. Overall performance is excellent',\n",
       " '1st time iphone user needs to buy charger.',\n",
       " 'Good',\n",
       " 'I LOVE THIS PHONE❤️❤️❤️❤️❤️❤️❤️🙈😍😍😍😍😍😍😍😍😍😍🤑🤑🤑🤑🤑🤑🤑🤑🤞🤞🤞🤞🤞🤞🤞🤞',\n",
       " 'This phone gets overheat from the day 1 usage..I just played couple videos from YouTube and it is generating heat..',\n",
       " 'bought 4 my daughter n she loved it',\n",
       " 'Good',\n",
       " 'I was really surprised by it’s battery performance and level of security. I feel that’s it’s worth upgrading from android to iPhone. 😇😇😇',\n",
       " 'So nice loved it',\n",
       " 'Superb Camera',\n",
       " 'Nice dynamic range. Upgrade from oneplus 6',\n",
       " 'I am iphone years since 10 years , so i feel nothing much change than camera clarity , screen resolution and speed , on all iphone upgrades Value for money',\n",
       " 'Superb phone',\n",
       " 'Excellent product',\n",
       " 'I’m upgraded from iPhone 7plus to iphone 11 but in comparison iPhone 11 is really good n amazing experience',\n",
       " 'love it❤❤',\n",
       " 'Fantastic service. Product is awesome. Much appreciated.',\n",
       " 'I love this colour',\n",
       " 'I have been using this phone for 1 month now everything is good apart from one thing whenever I plug in for charging it just heats like it will blast and I experience the same thing while playing games for continuously 15 minutes',\n",
       " 'Product is awesome but the packing was below average. Not even included an air bubble covering. Once I opened I as absolutely disappointed with the packing. Expected a better packing. Please improve flipkart please improve.',\n",
       " 'Osm phone',\n",
       " 'Good i phone 11',\n",
       " 'Great',\n",
       " 'Loving it.',\n",
       " 'Best budget device ever 💯',\n",
       " 'Superb mobile Thank you apple',\n",
       " 'My first i phone . It is osm . Battery backup is superb . go for it .. Best deal .',\n",
       " 'I am someone who does research for more than months to buy a phone. While this research, I delayed and got only 2 model colours. If you are someone looking forward to have iOS device, you should not think and go for this. If you are someone who compare this device with Samsung M and S series and oneplus 9 series. Delivered in a day! I was so worried till I unboxed and looked into model, camera, battery life. This device is manufactured by Apple but not manufactured in India (China). Phone is ... READ MORE',\n",
       " \"Amazing product at the best possible price! Was confused about the 5G thing but because of it, it doesn't made sense to spend extra bucks on iPhone 12 as the rollout of 5G will take time. Got this product for around 41k after exchanging an old phone plus discount from axis bank card and at that price it was a steal.\",\n",
       " 'Will Update after two months of usage',\n",
       " 'Great experience with this iPhone after upgrading from iPhone 6.',\n",
       " 'Best in class! Satisfied,thanks Flipkart.',\n",
       " 'Good product from apple but why charger and earphone are missing ?',\n",
       " \"Awesome feel.. Its my first IPhone. Android to iphone update is just awesome. Only thing obseved i lost whats app backup. Couldn't migrate whats app. All other things are good. Value for money.\",\n",
       " 'Best Iphone In this Price range.Don’t be so confuse just close your eyes and Place the Order 🔥',\n",
       " 'It’s was good',\n",
       " 'My first iPhone and it feels great. If you are looking for better camera then go for pro version. I would recommend everyone who wants to use for the first time or coming from the older version and don’t have the budget for pro.',\n",
       " 'Excellent product..... excellent delivery and competitive pricing.',\n",
       " 'Very nice',\n",
       " 'Stunning.. Absolutely loving it.',\n",
       " 'Value for money',\n",
       " \"1. The product packaging is good. 2. The product was delivered on time. 3. The display is excellent. 4. The battery doesn't last for more than 4-5 hours. 5. The phone got heat up while charging. 6. The phone is pretty smooth. 7. For 1st time user you have to buy your iphone charger in advance, as you will not get one from it. 8. Camera quality is average. 9. Build quality is good. 10. Face lock/ unlock is very fast.\",\n",
       " 'Performance Battery Camera is ok But deeply unhappy for not providing charger.like Brazil india should fine apple for not providing charger.',\n",
       " 'Awesome value for money performance is smooth. Received brand new box nice packing original device.',\n",
       " 'Osme',\n",
       " 'Definately worth the prize',\n",
       " 'Nice',\n",
       " 'Awesome product very happy',\n",
       " 'Value for money',\n",
       " \"It's awesome iphone 11 also camera is good quality\",\n",
       " \"Product is nice, but it's little difficult for Android users, bcoz you can't take your what's app backup, apart from this all fine\",\n",
       " \"If you don't have an iPhone,well, you don't have an iPhone.\",\n",
       " 'Overall Aww.. my 1st ever apple device.',\n",
       " 'Some time phone will hit automatically but all performance are good ...btry backup is good',\n",
       " 'Nice And Value For Money',\n",
       " 'Awesome phone . I love it😘😘😘 My Fast iPhone',\n",
       " 'good product',\n",
       " 'Love this phone😍😍',\n",
       " 'Awesome phone as always from Apple',\n",
       " 'Amazing phone with great camera.I am very happy with its camera performance.',\n",
       " 'Value for money',\n",
       " 'Awesome product',\n",
       " 'Pretty good so far, will add on after using few months.',\n",
       " 'Excellent phone',\n",
       " 'Very good',\n",
       " 'Best phone',\n",
       " 'Ultimate use',\n",
       " 'I bought first time iOS device and i got to know its value for money. Amazing tech.',\n",
       " 'Good mobile',\n",
       " 'Good',\n",
       " 'iPhones are worth every penny, they are expensive and make a hole in your pocket but once you start using the phone you’ll definitely like it!']"
      ]
     },
     "execution_count": 121,
     "metadata": {},
     "output_type": "execute_result"
    }
   ],
   "source": [
    "Review[0:99]"
   ]
  },
  {
   "cell_type": "code",
   "execution_count": 122,
   "id": "423a59e3",
   "metadata": {},
   "outputs": [],
   "source": [
    "Reviews=pd.DataFrame(Review)"
   ]
  },
  {
   "cell_type": "code",
   "execution_count": 123,
   "id": "640174a6",
   "metadata": {},
   "outputs": [
    {
     "data": {
      "text/html": [
       "<div>\n",
       "<style scoped>\n",
       "    .dataframe tbody tr th:only-of-type {\n",
       "        vertical-align: middle;\n",
       "    }\n",
       "\n",
       "    .dataframe tbody tr th {\n",
       "        vertical-align: top;\n",
       "    }\n",
       "\n",
       "    .dataframe thead th {\n",
       "        text-align: right;\n",
       "    }\n",
       "</style>\n",
       "<table border=\"1\" class=\"dataframe\">\n",
       "  <thead>\n",
       "    <tr style=\"text-align: right;\">\n",
       "      <th></th>\n",
       "      <th>Rating</th>\n",
       "      <th>Summary</th>\n",
       "      <th>Review</th>\n",
       "    </tr>\n",
       "  </thead>\n",
       "  <tbody>\n",
       "    <tr>\n",
       "      <th>0</th>\n",
       "      <td>5</td>\n",
       "      <td>Terrific</td>\n",
       "      <td>Best</td>\n",
       "    </tr>\n",
       "    <tr>\n",
       "      <th>1</th>\n",
       "      <td>5</td>\n",
       "      <td>Best in the market!</td>\n",
       "      <td>awsm Product</td>\n",
       "    </tr>\n",
       "    <tr>\n",
       "      <th>2</th>\n",
       "      <td>5</td>\n",
       "      <td>Horrible</td>\n",
       "      <td>love 📱🍎</td>\n",
       "    </tr>\n",
       "    <tr>\n",
       "      <th>3</th>\n",
       "      <td>5</td>\n",
       "      <td>Terrific purchase</td>\n",
       "      <td>Such a Fabulous product…… value for Money….. P...</td>\n",
       "    </tr>\n",
       "    <tr>\n",
       "      <th>4</th>\n",
       "      <td>5</td>\n",
       "      <td>Highly recommended</td>\n",
       "      <td>Love this product😍😘</td>\n",
       "    </tr>\n",
       "    <tr>\n",
       "      <th>...</th>\n",
       "      <td>...</td>\n",
       "      <td>...</td>\n",
       "      <td>...</td>\n",
       "    </tr>\n",
       "    <tr>\n",
       "      <th>95</th>\n",
       "      <td>5</td>\n",
       "      <td>Super!</td>\n",
       "      <td>I bought first time iOS device and i got to kn...</td>\n",
       "    </tr>\n",
       "    <tr>\n",
       "      <th>96</th>\n",
       "      <td>5</td>\n",
       "      <td>Wonderful</td>\n",
       "      <td>Good mobile</td>\n",
       "    </tr>\n",
       "    <tr>\n",
       "      <th>97</th>\n",
       "      <td>3</td>\n",
       "      <td>Wonderful</td>\n",
       "      <td>Good</td>\n",
       "    </tr>\n",
       "    <tr>\n",
       "      <th>98</th>\n",
       "      <td>5</td>\n",
       "      <td>Simply awesome</td>\n",
       "      <td>iPhones are worth every penny, they are expens...</td>\n",
       "    </tr>\n",
       "    <tr>\n",
       "      <th>99</th>\n",
       "      <td>5</td>\n",
       "      <td>Brilliant</td>\n",
       "      <td>Product recived in perfect condition, packing ...</td>\n",
       "    </tr>\n",
       "  </tbody>\n",
       "</table>\n",
       "<p>100 rows × 3 columns</p>\n",
       "</div>"
      ],
      "text/plain": [
       "   Rating              Summary  \\\n",
       "0       5             Terrific   \n",
       "1       5  Best in the market!   \n",
       "2       5             Horrible   \n",
       "3       5    Terrific purchase   \n",
       "4       5   Highly recommended   \n",
       "..    ...                  ...   \n",
       "95      5               Super!   \n",
       "96      5            Wonderful   \n",
       "97      3            Wonderful   \n",
       "98      5       Simply awesome   \n",
       "99      5            Brilliant   \n",
       "\n",
       "                                               Review  \n",
       "0                                                Best  \n",
       "1                                        awsm Product  \n",
       "2                                             love 📱🍎  \n",
       "3   Such a Fabulous product…… value for Money….. P...  \n",
       "4                                 Love this product😍😘  \n",
       "..                                                ...  \n",
       "95  I bought first time iOS device and i got to kn...  \n",
       "96                                        Good mobile  \n",
       "97                                               Good  \n",
       "98  iPhones are worth every penny, they are expens...  \n",
       "99  Product recived in perfect condition, packing ...  \n",
       "\n",
       "[100 rows x 3 columns]"
      ]
     },
     "execution_count": 123,
     "metadata": {},
     "output_type": "execute_result"
    }
   ],
   "source": [
    "Iphone_Review=pd.concat([Ratings,Summaries,Reviews],axis=1)\n",
    "Iphone_Review.columns=[\"Rating\",\"Summary\",\"Review\"]\n",
    "Iphone_Review.head(100) #Concatenating all the columns"
   ]
  },
  {
   "cell_type": "markdown",
   "id": "d7a85c24",
   "metadata": {},
   "source": [
    "# FlipKart Sneakers"
   ]
  },
  {
   "cell_type": "code",
   "execution_count": 124,
   "id": "1bdb8c2a",
   "metadata": {},
   "outputs": [],
   "source": [
    "driver.get(\"https://www.flipkart.com/\") #loading the website"
   ]
  },
  {
   "cell_type": "code",
   "execution_count": 125,
   "id": "f419e9b6",
   "metadata": {},
   "outputs": [],
   "source": [
    "search_designation=driver.find_element_by_xpath(\"/html/body/div[1]/div/div[1]/div[1]/div[2]/div[2]/form/div/div/input\")\n",
    "search_designation.send_keys(\"sneakers\") #type the keyword sneakers via Xpath location"
   ]
  },
  {
   "cell_type": "code",
   "execution_count": 126,
   "id": "d2ad66b7",
   "metadata": {},
   "outputs": [],
   "source": [
    "search_button=driver.find_element_by_class_name(\"L0Z3Pu\")\n",
    "search_button.click() #clicking on the search button via class name"
   ]
  },
  {
   "cell_type": "code",
   "execution_count": 128,
   "id": "287f5aeb",
   "metadata": {},
   "outputs": [],
   "source": [
    "Brand=[]\n",
    "for i in range(0,3):\n",
    "    Brand_Tag=driver.find_elements_by_xpath(\"//div[@class='_2WkVRV']\")\n",
    "    for i in Brand_Tag:\n",
    "        Brand.append(i.text)\n",
    "    next_button=driver.find_element_by_xpath(\"/html/body/div[1]/div/div[3]/div[1]/div[2]/div[12]/div/div/nav/a[11]\")\n",
    "    next_button.click()\n",
    "    time.sleep(5)  # Loop needs to run for 3 pages to scrap 100 data for Brand name"
   ]
  },
  {
   "cell_type": "code",
   "execution_count": 129,
   "id": "9e066fe0",
   "metadata": {},
   "outputs": [
    {
     "data": {
      "text/plain": [
       "['SFR',\n",
       " 'BIRDE',\n",
       " 'BRUTON',\n",
       " 'WOODLAND',\n",
       " 'Layasa',\n",
       " 'BRUTON',\n",
       " 'Magnolia',\n",
       " 'Robbie jones',\n",
       " 'BRUTON',\n",
       " 'URBANBOX',\n",
       " 'Labbin',\n",
       " 'Robbie jones',\n",
       " 'Robbie jones',\n",
       " 'PUMA',\n",
       " 'Kraasa',\n",
       " 'BRUTON',\n",
       " 'KWIK FIT',\n",
       " 'aadi',\n",
       " 'Robbie jones',\n",
       " 'D-SNEAKERZ',\n",
       " 'CAMPUS',\n",
       " 'Dicy',\n",
       " 'ASTEROID',\n",
       " 'U.S. POLO ASSN.',\n",
       " 'bluemaker',\n",
       " 'PUMA',\n",
       " 'HOTSTYLE',\n",
       " 'Robbie jones',\n",
       " 'PUMA',\n",
       " 'Kraasa',\n",
       " 'CLYMB',\n",
       " \"LEVI'S\",\n",
       " 'ONECENTRE',\n",
       " 'Nobelite',\n",
       " 'ASTEROID',\n",
       " 'aadi',\n",
       " 'Robbie jones',\n",
       " 'Kzaara',\n",
       " 'BRUTON',\n",
       " 'Kraasa',\n",
       " 'SCATCHITE',\n",
       " 'NAUTICA',\n",
       " 'RED CHIEF',\n",
       " 'AKIMBO',\n",
       " 'Roadster',\n",
       " 'ZF Klub',\n",
       " 'corsac',\n",
       " 'Robbie jones',\n",
       " 'Layasa',\n",
       " 'U.S. POLO ASSN.',\n",
       " 'PUMA',\n",
       " 'Airland',\n",
       " 'Numenzo',\n",
       " 'LE GREEM',\n",
       " 'U.S. POLO ASSN.',\n",
       " 'BRUTON',\n",
       " 'JACK & JONES',\n",
       " 'SPARX',\n",
       " 'aadi',\n",
       " \"LEVI'S\",\n",
       " 'Chevit',\n",
       " \"LEVI'S\",\n",
       " 'AJANTA',\n",
       " 'U.S. POLO ASSN.',\n",
       " 'KNIGHTWING',\n",
       " 'Echor',\n",
       " 'Numenzo',\n",
       " 'KNIGHT WALKERS',\n",
       " 'revord',\n",
       " 'luxury fashion',\n",
       " 'Layasa',\n",
       " 'Dizzler',\n",
       " 'WOODLAND',\n",
       " 'AMICO',\n",
       " 'PROVOGUE',\n",
       " 'Kraasa',\n",
       " 'WHITE WALKERS',\n",
       " 'WHITE WALKERS',\n",
       " 'BRUTON',\n",
       " 'ADIDAS',\n",
       " 'ASIAN',\n",
       " 'RED TAPE',\n",
       " 'aadi',\n",
       " 'Adidas Original',\n",
       " 'REEBOK CLASSICS',\n",
       " 'Xtoon',\n",
       " 'Chevit',\n",
       " 'Zixer',\n",
       " 'BRUTON',\n",
       " 'PROVOGUE',\n",
       " 'LEE COOPER',\n",
       " 'Zixer',\n",
       " 'PUMA',\n",
       " 'PUMA',\n",
       " 'SPARX',\n",
       " 'ROCKFIELD',\n",
       " 'DUCATI',\n",
       " 'REEBOK CLASSICS',\n",
       " \"LEVI'S\"]"
      ]
     },
     "execution_count": 129,
     "metadata": {},
     "output_type": "execute_result"
    }
   ],
   "source": [
    "Brand[0:99]"
   ]
  },
  {
   "cell_type": "code",
   "execution_count": 130,
   "id": "5ab9f464",
   "metadata": {},
   "outputs": [],
   "source": [
    "Brands=pd.DataFrame(Brand) #Creating a dataframe"
   ]
  },
  {
   "cell_type": "code",
   "execution_count": 131,
   "id": "b2aa6d86",
   "metadata": {},
   "outputs": [],
   "source": [
    "Product_Description=[]\n",
    "for i in range(0,3):\n",
    "    Description_Tag=driver.find_elements_by_xpath(\"//div[@class='_2B099V']/a[1]\")\n",
    "    for i in Description_Tag:\n",
    "        Product_Description.append(i.text)\n",
    "    next_button=driver.find_element_by_xpath(\"/html/body/div[1]/div/div[3]/div[1]/div[2]/div[12]/div/div/nav/a[11]\")\n",
    "    next_button.click()\n",
    "    time.sleep(5) # Loop needs to run for 3 pages to scrap 100 data for Product Description"
   ]
  },
  {
   "cell_type": "code",
   "execution_count": 132,
   "id": "d1ea2bca",
   "metadata": {},
   "outputs": [
    {
     "data": {
      "text/plain": [
       "['Brave Sneakers For Men',\n",
       " 'HRX by Hrithik Roshan Men Black Perforated Gamescape Sn...',\n",
       " 'Sneakers For Men',\n",
       " 'JFWGEORGE KNIT LACE UP Sneakers For Men',\n",
       " 'Nautica Men Charcoal Grey Solid Regular Sneakers Sneake...',\n",
       " 'Jfwgeorge Knit Lace Up Sneakers For Men',\n",
       " 'SD-323 Sneakers For Men',\n",
       " 'Shark-41 Sneakers For Men',\n",
       " 'Sneakers For Men',\n",
       " 'Sneakers For Men',\n",
       " 'Sneakers For Men',\n",
       " 'CLASSIC LEATHER Sneakers For Men',\n",
       " 'SM-641 Sneakers For Men',\n",
       " \"Nike Court Legacy Canvas Men's Shoes Sneakers For Men\",\n",
       " 'MARTINEZ 2.0 Sneakers For Men',\n",
       " 'White Sneaker For Men Sneakers For Men',\n",
       " 'RICO Sneakers For Men',\n",
       " 'Sneakers For Men',\n",
       " 'Sneakers For Men',\n",
       " 'Rubber Casual/Walking Shoes/Outdoor Ultra Lightweight S...',\n",
       " 'JFWBENNY KNIT SLIP ON Sneakers For Men',\n",
       " 'Sneakers For Men',\n",
       " 'Sneakers For Men',\n",
       " 'Sneakers For Men',\n",
       " 'Athleisure Sneakers For Men',\n",
       " 'SM-607 Sneakers For Men',\n",
       " 'Sneakers For Men',\n",
       " 'Mesh | Ultralightweight | Comfortable | Breathable Walk...',\n",
       " 'Sneakers For Men',\n",
       " 'Sneakers For Men',\n",
       " 'Athleisure Sneakers For Men',\n",
       " 'Sneakers For Men',\n",
       " 'Athleisure Sneakers For Men',\n",
       " 'Sneakers For Men',\n",
       " 'PREMIUM WHITE LATEST CASUAL SNEAKERS (WHITE) Sneakers F...',\n",
       " 'Style Rider BP Sneakers For Men',\n",
       " 'Fashion and Stylish Soft Ultralight Lace Up Sneakers Ca...',\n",
       " 'BMW MMS Neo Cat Sneakers For Men',\n",
       " 'Modern Trendy Sneakers Shoes Sneakers For Men',\n",
       " 'RS-Fast Sneakers For Men',\n",
       " 'COURT TOURINO Sneakers For Men',\n",
       " 'Model name: New Latest Affordable Range of Combo Pack o...',\n",
       " 'Sneakers For Men',\n",
       " 'Sneakers For Men',\n",
       " 'Sneakers For Men',\n",
       " \"Men's Ultraforce Mid-top Athletic-Inspired Retro Fashio...\",\n",
       " 'Smash Vulc Sneakers For Men',\n",
       " 'BAYLOR 2.0 Sneakers For Men',\n",
       " 'Platform Chunky Trainer/Sneakers -BOOM Mid Top Shoes fo...',\n",
       " 'SWIFT ESS Sneakers For Men',\n",
       " 'Stylish Party Wear Fashionable Lightweight New arrival ...',\n",
       " 'Sneakers For Men',\n",
       " 'CR-1 Sneakers For Men',\n",
       " '237 Sneakers For Men',\n",
       " 'MARTINEZ 2.0 Sneakers For Men',\n",
       " 'SUPERMATCH Sneakers For Men',\n",
       " \"Men's Ultraforce Mid-top Athletic-Inspired Retro Fashio...\",\n",
       " 'Sneakers For Men',\n",
       " 'Exclusive dancing sneaker For Boys||Funky dancing sneak...',\n",
       " 'Puma Smash v2 L Sneakers For Men',\n",
       " 'Combo Pack of 3 Casual Shoes Sneakers For Men',\n",
       " 'Sneakers For Men',\n",
       " \"Men's Hiking & Trekking Faux Casual Lace-ups Boots Snea...\",\n",
       " 'EVAW2 Sneakers For Men',\n",
       " 'Subtle Grace Canvas Shoes For Men',\n",
       " 'Sneakers For Men',\n",
       " 'Fashion Outdoor Canvas Casual Light Weight Lace-up Even...',\n",
       " 'FUTURE RIDER PLAY ON Sneakers For Men',\n",
       " 'Sneakers For Men',\n",
       " 'R78 Trek Sneakers For Men',\n",
       " 'MAPF1 Electron E Sneakers For Men',\n",
       " '574 Sneakers For Men',\n",
       " 'Men 192 Sneakers For Men',\n",
       " 'Sneakers For Men',\n",
       " 'Comfy Mid-Top Casual Chunky Streetwear Fashion Sneakers...',\n",
       " 'WATERPROOF-03cBLACKGRYY Sneakers For Men',\n",
       " \"Levi's Men's Lancer Sneakers Sneakers For Men\",\n",
       " 'Athleisure Sneakers For Men',\n",
       " 'GEL-PTG Sneakers For Men',\n",
       " 'MAPF1 Drift Cat Delta Sneakers For Men',\n",
       " 'Stylish White Casual Sneakers | White Party Wear Sneake...',\n",
       " 'Quarter block Sneakers For Men',\n",
       " 'Chapel Sneakers For Men',\n",
       " 'x KL Denver Sneakers For Men',\n",
       " '6 Sneakers For Men',\n",
       " 'Casual Shoes Combo For Men Daily Wear Sneakers Pack 3 S...',\n",
       " \"BALANCER Men's Fashion Sneakers Lace-Up Trainers Basket...\",\n",
       " 'Sneakers For Men',\n",
       " 'KS-02 Canvas Casual Partywear Outdoor Shoes For Boys Sn...',\n",
       " 'Latest Design Stylish Pack of 3 Casual Sneakers Shoes F...',\n",
       " 'Future-04 casual shoes for men | Latest Stylish Casual ...',\n",
       " 'SM-641 Sneakers For Men',\n",
       " 'Sneakers For Men',\n",
       " 'Sneakers For Men',\n",
       " 'Sneakers For Men',\n",
       " 'White Boots || High Tops || Sneakers For Men',\n",
       " 'Backcourt Mid Sneakers For Men',\n",
       " 'Smart Casual Combo Pack of 02 Pairs 01 Casual Sneakers ...',\n",
       " 'Future Rider Twofold Sneakers For Men']"
      ]
     },
     "execution_count": 132,
     "metadata": {},
     "output_type": "execute_result"
    }
   ],
   "source": [
    "Product_Description[0:99]"
   ]
  },
  {
   "cell_type": "code",
   "execution_count": 133,
   "id": "86a4c016",
   "metadata": {},
   "outputs": [],
   "source": [
    "Product_Descriptions=pd.DataFrame(Product_Description)"
   ]
  },
  {
   "cell_type": "code",
   "execution_count": 134,
   "id": "65eb37f6",
   "metadata": {},
   "outputs": [],
   "source": [
    "Price=[]\n",
    "for i in range(0,3):\n",
    "    Price_Tag=driver.find_elements_by_xpath(\"//div[@class='_30jeq3']\")\n",
    "    for i in Price_Tag:\n",
    "           Price.append(i.text)\n",
    "    next_button=driver.find_element_by_xpath(\"/html/body/div[1]/div/div[3]/div[1]/div[2]/div[12]/div/div/nav/a[11]\")\n",
    "    next_button.click()\n",
    "    time.sleep(5) # Loop needs to run for 3 pages to scrap 100 data for Price"
   ]
  },
  {
   "cell_type": "code",
   "execution_count": 135,
   "id": "d01ddf42",
   "metadata": {},
   "outputs": [
    {
     "data": {
      "text/plain": [
       "['₹455',\n",
       " '₹1,763',\n",
       " '₹1,502',\n",
       " '₹1,999',\n",
       " '₹492',\n",
       " '₹369',\n",
       " '₹1,499',\n",
       " '₹899',\n",
       " '₹399',\n",
       " '₹530',\n",
       " '₹449',\n",
       " '₹1,220',\n",
       " '₹479',\n",
       " '₹758',\n",
       " '₹1,754',\n",
       " '₹449',\n",
       " '₹3,579',\n",
       " '₹500',\n",
       " '₹3,919',\n",
       " '₹549',\n",
       " '₹179',\n",
       " '₹891',\n",
       " '₹4,839',\n",
       " '₹699',\n",
       " '₹3,227',\n",
       " '₹2,409',\n",
       " '₹569',\n",
       " '₹3,719',\n",
       " '₹1,052',\n",
       " '₹1,174',\n",
       " '₹818',\n",
       " '₹399',\n",
       " '₹688',\n",
       " '₹449',\n",
       " '₹551',\n",
       " '₹524',\n",
       " '₹374',\n",
       " '₹229',\n",
       " '₹1,399',\n",
       " '₹499',\n",
       " '₹455',\n",
       " '₹1,763',\n",
       " '₹1,502',\n",
       " '₹1,999',\n",
       " '₹492',\n",
       " '₹369',\n",
       " '₹1,499',\n",
       " '₹899',\n",
       " '₹399',\n",
       " '₹530',\n",
       " '₹449',\n",
       " '₹1,220',\n",
       " '₹479',\n",
       " '₹758',\n",
       " '₹1,754',\n",
       " '₹449',\n",
       " '₹3,579',\n",
       " '₹500',\n",
       " '₹3,919',\n",
       " '₹549',\n",
       " '₹179',\n",
       " '₹891',\n",
       " '₹4,839',\n",
       " '₹699',\n",
       " '₹3,227',\n",
       " '₹2,409',\n",
       " '₹569',\n",
       " '₹3,719',\n",
       " '₹1,052',\n",
       " '₹1,174',\n",
       " '₹818',\n",
       " '₹399',\n",
       " '₹688',\n",
       " '₹449',\n",
       " '₹551',\n",
       " '₹524',\n",
       " '₹374',\n",
       " '₹229',\n",
       " '₹1,399',\n",
       " '₹499',\n",
       " '₹455',\n",
       " '₹1,763',\n",
       " '₹1,502',\n",
       " '₹1,999',\n",
       " '₹492',\n",
       " '₹369',\n",
       " '₹1,499',\n",
       " '₹899',\n",
       " '₹399',\n",
       " '₹530',\n",
       " '₹449',\n",
       " '₹1,220',\n",
       " '₹479',\n",
       " '₹758',\n",
       " '₹1,754',\n",
       " '₹449',\n",
       " '₹3,579',\n",
       " '₹500',\n",
       " '₹3,919']"
      ]
     },
     "execution_count": 135,
     "metadata": {},
     "output_type": "execute_result"
    }
   ],
   "source": [
    "Price[0:99]"
   ]
  },
  {
   "cell_type": "code",
   "execution_count": 136,
   "id": "996c60a8",
   "metadata": {},
   "outputs": [],
   "source": [
    "Discount=[]\n",
    "for i in range(0,3):\n",
    "    Discount_Tag=driver.find_elements_by_xpath(\"//div[@class='_3Ay6Sb']\")\n",
    "    for i in Discount_Tag:\n",
    "           Discount.append(i.text.replace('\\n',''))\n",
    "    next_button=driver.find_element_by_xpath(\"/html/body/div[1]/div/div[3]/div[1]/div[2]/div[12]/div/div/nav/a[11]\")\n",
    "    next_button.click()\n",
    "    time.sleep(5) # Loop needs to run for 3 pages to scrap 100 data for Discount"
   ]
  },
  {
   "cell_type": "code",
   "execution_count": 137,
   "id": "6e86735d",
   "metadata": {},
   "outputs": [
    {
     "data": {
      "text/plain": [
       "['54% off',\n",
       " '49% off',\n",
       " '66% off',\n",
       " '50% off',\n",
       " '55% off',\n",
       " '53% off',\n",
       " '57% off',\n",
       " '80% off',\n",
       " '80% off',\n",
       " '77% off',\n",
       " '25% off',\n",
       " '15% off',\n",
       " '52% off',\n",
       " '80% off',\n",
       " '55% off',\n",
       " '55% off',\n",
       " '48% off',\n",
       " '72% off',\n",
       " '44% off',\n",
       " '45% off',\n",
       " '64% off',\n",
       " '15% off',\n",
       " '46% off',\n",
       " '65% off',\n",
       " '41% off',\n",
       " '46% off',\n",
       " '43% off',\n",
       " '46% off',\n",
       " '64% off',\n",
       " '75% off',\n",
       " '80% off',\n",
       " '60% off',\n",
       " '47% off',\n",
       " '65% off',\n",
       " '65% off',\n",
       " '59% off',\n",
       " '71% off',\n",
       " '54% off',\n",
       " '60% off',\n",
       " '50% off',\n",
       " '54% off',\n",
       " '49% off',\n",
       " '66% off',\n",
       " '50% off',\n",
       " '55% off',\n",
       " '53% off',\n",
       " '57% off',\n",
       " '80% off',\n",
       " '80% off',\n",
       " '77% off',\n",
       " '25% off',\n",
       " '15% off',\n",
       " '52% off',\n",
       " '80% off',\n",
       " '55% off',\n",
       " '55% off',\n",
       " '48% off',\n",
       " '72% off',\n",
       " '44% off',\n",
       " '45% off',\n",
       " '64% off',\n",
       " '15% off',\n",
       " '46% off',\n",
       " '65% off',\n",
       " '41% off',\n",
       " '46% off',\n",
       " '43% off',\n",
       " '46% off',\n",
       " '64% off',\n",
       " '75% off',\n",
       " '80% off',\n",
       " '60% off',\n",
       " '47% off',\n",
       " '65% off',\n",
       " '65% off',\n",
       " '59% off',\n",
       " '71% off',\n",
       " '54% off',\n",
       " '60% off',\n",
       " '50% off',\n",
       " '54% off',\n",
       " '49% off',\n",
       " '66% off',\n",
       " '50% off',\n",
       " '55% off',\n",
       " '53% off',\n",
       " '57% off',\n",
       " '80% off',\n",
       " '80% off',\n",
       " '77% off',\n",
       " '25% off',\n",
       " '15% off',\n",
       " '52% off',\n",
       " '80% off',\n",
       " '55% off',\n",
       " '55% off',\n",
       " '48% off',\n",
       " '72% off',\n",
       " '44% off']"
      ]
     },
     "execution_count": 137,
     "metadata": {},
     "output_type": "execute_result"
    }
   ],
   "source": [
    "Discount[0:99]"
   ]
  },
  {
   "cell_type": "code",
   "execution_count": 138,
   "id": "e4539f82",
   "metadata": {},
   "outputs": [
    {
     "data": {
      "text/html": [
       "<div>\n",
       "<style scoped>\n",
       "    .dataframe tbody tr th:only-of-type {\n",
       "        vertical-align: middle;\n",
       "    }\n",
       "\n",
       "    .dataframe tbody tr th {\n",
       "        vertical-align: top;\n",
       "    }\n",
       "\n",
       "    .dataframe thead th {\n",
       "        text-align: right;\n",
       "    }\n",
       "</style>\n",
       "<table border=\"1\" class=\"dataframe\">\n",
       "  <thead>\n",
       "    <tr style=\"text-align: right;\">\n",
       "      <th></th>\n",
       "      <th>0</th>\n",
       "    </tr>\n",
       "  </thead>\n",
       "  <tbody>\n",
       "    <tr>\n",
       "      <th>0</th>\n",
       "      <td>₹987 67% off</td>\n",
       "    </tr>\n",
       "    <tr>\n",
       "      <th>1</th>\n",
       "      <td>₹199 60% off</td>\n",
       "    </tr>\n",
       "    <tr>\n",
       "      <th>2</th>\n",
       "      <td>₹645 77% off</td>\n",
       "    </tr>\n",
       "    <tr>\n",
       "      <th>3</th>\n",
       "      <td>₹220 55% off</td>\n",
       "    </tr>\n",
       "    <tr>\n",
       "      <th>4</th>\n",
       "      <td>₹447 55% off</td>\n",
       "    </tr>\n",
       "    <tr>\n",
       "      <th>...</th>\n",
       "      <td>...</td>\n",
       "    </tr>\n",
       "    <tr>\n",
       "      <th>94</th>\n",
       "      <td>₹129 74% off</td>\n",
       "    </tr>\n",
       "    <tr>\n",
       "      <th>95</th>\n",
       "      <td>₹1,049 47% off</td>\n",
       "    </tr>\n",
       "    <tr>\n",
       "      <th>96</th>\n",
       "      <td>₹167 83% off</td>\n",
       "    </tr>\n",
       "    <tr>\n",
       "      <th>97</th>\n",
       "      <td>₹399 73% off</td>\n",
       "    </tr>\n",
       "    <tr>\n",
       "      <th>98</th>\n",
       "      <td>₹120 69% off</td>\n",
       "    </tr>\n",
       "  </tbody>\n",
       "</table>\n",
       "<p>99 rows × 1 columns</p>\n",
       "</div>"
      ],
      "text/plain": [
       "                 0\n",
       "0     ₹987 67% off\n",
       "1     ₹199 60% off\n",
       "2     ₹645 77% off\n",
       "3     ₹220 55% off\n",
       "4     ₹447 55% off\n",
       "..             ...\n",
       "94    ₹129 74% off\n",
       "95  ₹1,049 47% off\n",
       "96    ₹167 83% off\n",
       "97    ₹399 73% off\n",
       "98    ₹120 69% off\n",
       "\n",
       "[99 rows x 1 columns]"
      ]
     },
     "execution_count": 138,
     "metadata": {},
     "output_type": "execute_result"
    }
   ],
   "source": [
    "Total_Price=Prices+\" \"+Discounts\n",
    "Total_Price[0:99] #adding price and discount to get the data in one column"
   ]
  },
  {
   "cell_type": "code",
   "execution_count": 139,
   "id": "3f95d8a8",
   "metadata": {},
   "outputs": [],
   "source": [
    "Price=pd.DataFrame(Total_Price)"
   ]
  },
  {
   "cell_type": "code",
   "execution_count": 140,
   "id": "bc104a17",
   "metadata": {},
   "outputs": [
    {
     "data": {
      "text/html": [
       "<div>\n",
       "<style scoped>\n",
       "    .dataframe tbody tr th:only-of-type {\n",
       "        vertical-align: middle;\n",
       "    }\n",
       "\n",
       "    .dataframe tbody tr th {\n",
       "        vertical-align: top;\n",
       "    }\n",
       "\n",
       "    .dataframe thead th {\n",
       "        text-align: right;\n",
       "    }\n",
       "</style>\n",
       "<table border=\"1\" class=\"dataframe\">\n",
       "  <thead>\n",
       "    <tr style=\"text-align: right;\">\n",
       "      <th></th>\n",
       "      <th>Brand</th>\n",
       "      <th>Product_Description</th>\n",
       "      <th>Price</th>\n",
       "    </tr>\n",
       "  </thead>\n",
       "  <tbody>\n",
       "    <tr>\n",
       "      <th>0</th>\n",
       "      <td>SFR</td>\n",
       "      <td>Brave Sneakers For Men</td>\n",
       "      <td>₹987 67% off</td>\n",
       "    </tr>\n",
       "    <tr>\n",
       "      <th>1</th>\n",
       "      <td>BIRDE</td>\n",
       "      <td>HRX by Hrithik Roshan Men Black Perforated Gam...</td>\n",
       "      <td>₹199 60% off</td>\n",
       "    </tr>\n",
       "    <tr>\n",
       "      <th>2</th>\n",
       "      <td>BRUTON</td>\n",
       "      <td>Sneakers For Men</td>\n",
       "      <td>₹645 77% off</td>\n",
       "    </tr>\n",
       "    <tr>\n",
       "      <th>3</th>\n",
       "      <td>WOODLAND</td>\n",
       "      <td>JFWGEORGE KNIT LACE UP Sneakers For Men</td>\n",
       "      <td>₹220 55% off</td>\n",
       "    </tr>\n",
       "    <tr>\n",
       "      <th>4</th>\n",
       "      <td>Layasa</td>\n",
       "      <td>Nautica Men Charcoal Grey Solid Regular Sneake...</td>\n",
       "      <td>₹447 55% off</td>\n",
       "    </tr>\n",
       "    <tr>\n",
       "      <th>...</th>\n",
       "      <td>...</td>\n",
       "      <td>...</td>\n",
       "      <td>...</td>\n",
       "    </tr>\n",
       "    <tr>\n",
       "      <th>95</th>\n",
       "      <td>ROCKFIELD</td>\n",
       "      <td>White Boots || High Tops || Sneakers For Men</td>\n",
       "      <td>₹1,049 47% off</td>\n",
       "    </tr>\n",
       "    <tr>\n",
       "      <th>96</th>\n",
       "      <td>DUCATI</td>\n",
       "      <td>Backcourt Mid Sneakers For Men</td>\n",
       "      <td>₹167 83% off</td>\n",
       "    </tr>\n",
       "    <tr>\n",
       "      <th>97</th>\n",
       "      <td>REEBOK CLASSICS</td>\n",
       "      <td>Smart Casual Combo Pack of 02 Pairs 01 Casual ...</td>\n",
       "      <td>₹399 73% off</td>\n",
       "    </tr>\n",
       "    <tr>\n",
       "      <th>98</th>\n",
       "      <td>LEVI'S</td>\n",
       "      <td>Future Rider Twofold Sneakers For Men</td>\n",
       "      <td>₹120 69% off</td>\n",
       "    </tr>\n",
       "    <tr>\n",
       "      <th>99</th>\n",
       "      <td>RODDICK SHOES</td>\n",
       "      <td>611 Black casual sneakers shoes for men Sneake...</td>\n",
       "      <td>₹525 83% off</td>\n",
       "    </tr>\n",
       "  </tbody>\n",
       "</table>\n",
       "<p>100 rows × 3 columns</p>\n",
       "</div>"
      ],
      "text/plain": [
       "              Brand                                Product_Description  \\\n",
       "0               SFR                             Brave Sneakers For Men   \n",
       "1             BIRDE  HRX by Hrithik Roshan Men Black Perforated Gam...   \n",
       "2            BRUTON                                   Sneakers For Men   \n",
       "3          WOODLAND            JFWGEORGE KNIT LACE UP Sneakers For Men   \n",
       "4            Layasa  Nautica Men Charcoal Grey Solid Regular Sneake...   \n",
       "..              ...                                                ...   \n",
       "95        ROCKFIELD       White Boots || High Tops || Sneakers For Men   \n",
       "96           DUCATI                     Backcourt Mid Sneakers For Men   \n",
       "97  REEBOK CLASSICS  Smart Casual Combo Pack of 02 Pairs 01 Casual ...   \n",
       "98           LEVI'S              Future Rider Twofold Sneakers For Men   \n",
       "99    RODDICK SHOES  611 Black casual sneakers shoes for men Sneake...   \n",
       "\n",
       "             Price  \n",
       "0     ₹987 67% off  \n",
       "1     ₹199 60% off  \n",
       "2     ₹645 77% off  \n",
       "3     ₹220 55% off  \n",
       "4     ₹447 55% off  \n",
       "..             ...  \n",
       "95  ₹1,049 47% off  \n",
       "96    ₹167 83% off  \n",
       "97    ₹399 73% off  \n",
       "98    ₹120 69% off  \n",
       "99    ₹525 83% off  \n",
       "\n",
       "[100 rows x 3 columns]"
      ]
     },
     "execution_count": 140,
     "metadata": {},
     "output_type": "execute_result"
    }
   ],
   "source": [
    "Sneakers=pd.concat([Brands,Product_Descriptions,Price],axis=1)\n",
    "Sneakers.columns=['Brand','Product_Description','Price']\n",
    "Sneakers.head(100) #Total 100 columns with concatenation and column name"
   ]
  },
  {
   "cell_type": "markdown",
   "id": "47a55f17",
   "metadata": {},
   "source": [
    "# Myntra Shoes"
   ]
  },
  {
   "cell_type": "code",
   "execution_count": 141,
   "id": "fda39efb",
   "metadata": {},
   "outputs": [],
   "source": [
    "driver.get(\"https://www.myntra.com/shoes\") #Loading the website"
   ]
  },
  {
   "cell_type": "code",
   "execution_count": 142,
   "id": "5275afb4",
   "metadata": {},
   "outputs": [],
   "source": [
    "Price_Filter=driver.find_element_by_xpath(\"/html/body/div[2]/div/div[1]/main/div[3]/div[1]/section/div/div[5]/ul/li[2]/label\")\n",
    "Price_Filter.click() #Clicking on the price filter by Xpath location"
   ]
  },
  {
   "cell_type": "code",
   "execution_count": 143,
   "id": "4d471fb3",
   "metadata": {},
   "outputs": [],
   "source": [
    "Colour_Filter=driver.find_element_by_xpath(\"/html/body/div[2]/div/div[1]/main/div[3]/div[1]/section/div/div[6]/ul/li[1]/label\")\n",
    "Colour_Filter.click() #Clicking on the colour filter by Xpath location"
   ]
  },
  {
   "cell_type": "code",
   "execution_count": 144,
   "id": "90ba9082",
   "metadata": {},
   "outputs": [],
   "source": [
    "#The below class name gave all the required data, hence splitted the data by '\\n'and have seperately taken the three parts."
   ]
  },
  {
   "cell_type": "code",
   "execution_count": 145,
   "id": "e43c402b",
   "metadata": {},
   "outputs": [],
   "source": [
    "Brand=[]\n",
    "for i in range(0,2):\n",
    "    Brand_Tag=driver.find_elements_by_xpath(\"//div[@class='product-productMetaInfo']\")\n",
    "    for i in Brand_Tag:\n",
    "        Brand.append(i.text.split(\"\\n\")[0])\n",
    "    next_button=driver.find_element_by_xpath(\"/html/body/div[2]/div/div[1]/main/div[3]/div[2]/div/div[2]/section/div[2]/ul/li[12]\")\n",
    "    next_button.click()\n",
    "    time.sleep(5)\n",
    "   # Ran the loop twice to get all 100 data from 2 pages and have taken the first part of the splitted data for brand name"
   ]
  },
  {
   "cell_type": "code",
   "execution_count": 146,
   "id": "474e9983",
   "metadata": {},
   "outputs": [
    {
     "data": {
      "text/plain": [
       "['Skechers',\n",
       " 'UNDER ARMOUR',\n",
       " 'PUMA Motorsport',\n",
       " 'Puma',\n",
       " 'Puma',\n",
       " 'Nike',\n",
       " 'Skechers',\n",
       " 'UNDER ARMOUR',\n",
       " 'Puma',\n",
       " 'Puma',\n",
       " 'Nike',\n",
       " 'Nike',\n",
       " 'Puma',\n",
       " 'UNDER ARMOUR',\n",
       " 'UNDER ARMOUR',\n",
       " 'Puma',\n",
       " 'Vans',\n",
       " 'ADIDAS',\n",
       " 'Reebok',\n",
       " 'Skechers',\n",
       " 'UNDER ARMOUR',\n",
       " 'Hush Puppies',\n",
       " 'Skechers',\n",
       " 'Geox',\n",
       " 'UNDER ARMOUR',\n",
       " 'Geox',\n",
       " 'ADIDAS',\n",
       " 'ADIDAS',\n",
       " 'Hush Puppies',\n",
       " 'J.FONTINI',\n",
       " 'Geox',\n",
       " 'Columbia',\n",
       " 'Puma',\n",
       " 'ASICS',\n",
       " 'Geox',\n",
       " 'Geox',\n",
       " 'Geox',\n",
       " 'Geox',\n",
       " 'ADIDAS',\n",
       " 'Geox',\n",
       " 'Geox',\n",
       " 'UNDER ARMOUR',\n",
       " 'Columbia',\n",
       " 'Geox',\n",
       " 'Geox',\n",
       " 'UNDER ARMOUR',\n",
       " 'Geox',\n",
       " 'ADIDAS',\n",
       " 'Saint G',\n",
       " 'EVADICT By Decathlon',\n",
       " 'EVADICT By Decathlon',\n",
       " 'Geox',\n",
       " 'Geox',\n",
       " 'LOUIS STITCH',\n",
       " 'KIPRUN By Decathlon',\n",
       " 'J.FONTINI',\n",
       " 'ASICS',\n",
       " 'Clarks',\n",
       " 'DAVINCHI',\n",
       " 'Geox',\n",
       " 'Geox',\n",
       " 'Clarks',\n",
       " 'Saint G',\n",
       " 'Clarks',\n",
       " 'Bugatti',\n",
       " 'Bugatti',\n",
       " 'Heel & Buckle London',\n",
       " 'Saint G',\n",
       " 'Geox',\n",
       " 'Saint G',\n",
       " 'Saint G',\n",
       " 'Geox',\n",
       " 'Geox',\n",
       " 'Geox',\n",
       " 'Louis Philippe',\n",
       " 'Quechua By Decathlon',\n",
       " 'Kenkoh',\n",
       " 'Geox',\n",
       " 'DAVINCHI',\n",
       " 'Saint G',\n",
       " 'Geox',\n",
       " 'Geox',\n",
       " 'FILA',\n",
       " 'Geox',\n",
       " 'J.FONTINI',\n",
       " 'ECCO',\n",
       " 'Columbia',\n",
       " 'Geox',\n",
       " 'FILA',\n",
       " 'ASICS',\n",
       " 'Columbia',\n",
       " 'Cole Haan',\n",
       " 'Geox',\n",
       " 'J.FONTINI',\n",
       " 'Clarks',\n",
       " 'Geox',\n",
       " 'J.FONTINI',\n",
       " 'Heel & Buckle London',\n",
       " 'Geox',\n",
       " 'Geox']"
      ]
     },
     "execution_count": 146,
     "metadata": {},
     "output_type": "execute_result"
    }
   ],
   "source": [
    "Brand"
   ]
  },
  {
   "cell_type": "code",
   "execution_count": 147,
   "id": "d1b3a104",
   "metadata": {},
   "outputs": [],
   "source": [
    "Brands=pd.DataFrame(Brand)"
   ]
  },
  {
   "cell_type": "code",
   "execution_count": 148,
   "id": "d6f0626d",
   "metadata": {},
   "outputs": [],
   "source": [
    "Product_Description=[]\n",
    "for i in range(0,2):\n",
    "    Description_Tag=driver.find_elements_by_xpath(\"//div[@class='product-productMetaInfo']\")\n",
    "    for i in Description_Tag:\n",
    "        Product_Description.append(i.text.split(\"\\n\")[1])\n",
    "    next_button=driver.find_element_by_xpath(\"/html/body/div[2]/div/div[1]/main/div[3]/div[2]/div/div[2]/section/div[2]/ul/li[12]\")\n",
    "    next_button.click()\n",
    "    time.sleep(5)\n",
    "    # Ran the loop twice to get all 100 data from 2 pages and have taken the second part of the splitted data for product description"
   ]
  },
  {
   "cell_type": "code",
   "execution_count": 149,
   "id": "e7fdbde9",
   "metadata": {},
   "outputs": [
    {
     "data": {
      "text/plain": [
       "['Men Leather Formal Loafers',\n",
       " 'Men Woven Design Leather Slip-On Sneakers',\n",
       " 'Men Leather Loafers',\n",
       " 'Men Solid Boat Shoes',\n",
       " 'Men Driving Shoes',\n",
       " 'Men Leather Derbys',\n",
       " 'Men Leather Loafers',\n",
       " 'Leather Heeled Knee Boots',\n",
       " 'Leather Stiletto Pumps',\n",
       " 'Men Solid Leather Formal Loafers',\n",
       " 'Women Samira Natural Leather Black Narrow Width',\n",
       " 'Women PU Sneakers',\n",
       " 'Men SNOWTREKKER Trekking Shoes',\n",
       " 'Men Striped Leather Sneakers',\n",
       " 'Leather Ankle Boots',\n",
       " 'Women Leather Pumps',\n",
       " 'Women Eternity Nitro Running',\n",
       " 'Leather Kitten Mules',\n",
       " 'Leather Wedge Sandals',\n",
       " 'Men Woven Design Leather Loafers',\n",
       " 'Women Leather Heeled Loafers',\n",
       " 'Kumba Narrow Sandals',\n",
       " 'Men Solid Leather Formal Loafers',\n",
       " 'Slip-On Casual Loafers',\n",
       " 'Women Sahara Open Toe Flats',\n",
       " 'Unisex Boston Clogs',\n",
       " 'Sonora Open Toe Flats',\n",
       " 'Men Solid Leather Formal Derbys',\n",
       " 'High-Top Block Heeled Boots',\n",
       " 'Suede Leather Snug Boots',\n",
       " 'Bend Low Regular Shoes',\n",
       " 'Women Leather Flat Boots',\n",
       " 'Women Slip-On Sneakers',\n",
       " 'Men Leather Derbys',\n",
       " 'Men Slip-On Sneakers',\n",
       " 'Men Slip-On Formal Shoes',\n",
       " 'High-Top Block Heeled Boots',\n",
       " 'Solid Slip On Shoes',\n",
       " 'Men Leather Formal Derbys',\n",
       " 'Women Air Zoom Winflo 7 Run',\n",
       " 'Men Colourblocked Sneakers',\n",
       " 'Men Striped Ozelia Sneakers',\n",
       " 'Women Solid Horsebit Loafers',\n",
       " 'Men Air Max Dawn Sneakers',\n",
       " 'Men Jamming 2.0 Running Shoes',\n",
       " 'Men ARCH FIT ROAD WALKER',\n",
       " 'Men Monster Vertex Sneakers',\n",
       " 'Women Solid Leather Flats',\n",
       " 'Men Leather Derbys',\n",
       " 'Men Leather Formal Loafers',\n",
       " 'Leather Open Toe Flats',\n",
       " 'Women AIR ELEMENT 2 Sneakers',\n",
       " 'Women Leather High-Top Sneakers',\n",
       " 'Men Leather Loafers',\n",
       " 'Textured Leather Block Peep Toes',\n",
       " 'Narrow Width Open Toe Flats',\n",
       " 'Women Open Toe Flats',\n",
       " 'Men Leather Formal Loafers',\n",
       " 'Men Leather Formal Brogues',\n",
       " 'Leather Kitten Heel Boots',\n",
       " 'Men Leather Formal Loafers',\n",
       " 'Leather Ankle Boots',\n",
       " 'Men Solid Suede Sneakers',\n",
       " 'Bend Black Narrow-Width Shoes',\n",
       " 'Women Arizona Black Slides',\n",
       " 'Andermatt Unisex Casual Shoes',\n",
       " 'Women Mary Wedges',\n",
       " 'Men Leather Horsebit Loafers',\n",
       " 'Men Ultraboost 22 Running',\n",
       " 'Men Leather Loafers',\n",
       " 'Men Textured Leather Formal Slip-Ons',\n",
       " 'Women Sneakers',\n",
       " 'Men React IR FK3 Running Shoes',\n",
       " 'Unisex NMD_R1 V2 Sneakers',\n",
       " 'Men Winflo 7 Running Shoes',\n",
       " 'Men ZX 2K Boost 2.0 Sneakers',\n",
       " 'Men Solar Glide 5 Running Shoe',\n",
       " 'Leather Suede Block Pumps',\n",
       " 'Men Solid Loafers',\n",
       " 'Men Leather Loafers',\n",
       " 'Men Leather Formal Loafers',\n",
       " 'Men Solid Leather Formal Derbys',\n",
       " 'Men Solid Sneakers',\n",
       " 'Men Leather Flat Boots',\n",
       " 'Men Textured Genuine Leather Formal Oxfords',\n",
       " 'Men Solid Sneakers',\n",
       " 'Women Ballerinas Flats',\n",
       " 'Women Pumps',\n",
       " 'Men Running Shoes',\n",
       " 'Women Solid Leather Pumps',\n",
       " 'Men Leather Driving Shoes',\n",
       " 'GEL-Cumulus Running Shoes',\n",
       " 'Men Formal Slip-On Shoes',\n",
       " 'Men Golf Shoes',\n",
       " 'Men Textured Formal Leather Brogues',\n",
       " 'Men Solid Supercourt Sneakers',\n",
       " 'Men Textured Leather Formal Loafers',\n",
       " 'Men Solid Leather Formal Loafers',\n",
       " 'Men Textured Leather Loafers',\n",
       " 'Men Textured Leather Driving Shoes']"
      ]
     },
     "execution_count": 149,
     "metadata": {},
     "output_type": "execute_result"
    }
   ],
   "source": [
    "Product_Description"
   ]
  },
  {
   "cell_type": "code",
   "execution_count": 150,
   "id": "9f19cbea",
   "metadata": {},
   "outputs": [],
   "source": [
    "Product_Descriptions=pd.DataFrame(Product_Description)"
   ]
  },
  {
   "cell_type": "code",
   "execution_count": 152,
   "id": "53dcaf26",
   "metadata": {},
   "outputs": [],
   "source": [
    "Price=[]\n",
    "for i in range(0,2):\n",
    "    Price_Tag=driver.find_elements_by_xpath(\"//div[@class='product-productMetaInfo']\")\n",
    "    for i in Price_Tag:\n",
    "        Price.append(i.text.split(\"\\n\")[2])\n",
    "    next_button=driver.find_element_by_xpath(\"/html/body/div[2]/div/div[1]/main/div[3]/div[2]/div/div[2]/section/div[2]/ul/li[12]\")\n",
    "    next_button.click()\n",
    "    time.sleep(5)\n",
    "    # Ran the loop twice to get all 100 data from 2 pages and have taken the third part of the splitted data for price"
   ]
  },
  {
   "cell_type": "code",
   "execution_count": 153,
   "id": "3d5af567",
   "metadata": {},
   "outputs": [
    {
     "data": {
      "text/plain": [
       "['Rs. 8499',\n",
       " 'Rs. 7999',\n",
       " 'Rs. 7499',\n",
       " 'Rs. 12999',\n",
       " 'Rs. 9999',\n",
       " 'Rs. 10495',\n",
       " 'Rs. 7499',\n",
       " 'Rs. 8999',\n",
       " 'Rs. 12999',\n",
       " 'Rs. 9999',\n",
       " 'Rs. 10495',\n",
       " 'Rs. 8046Rs. 11495(30% OFF)',\n",
       " 'Rs. 10999',\n",
       " 'Rs. 8999',\n",
       " 'Rs. 11999',\n",
       " 'Rs. 7999',\n",
       " 'Rs. 8249Rs. 10999(25% OFF)',\n",
       " 'Rs. 10499Rs. 14999(30% OFF)',\n",
       " 'Rs. 7999',\n",
       " 'Rs. 7499',\n",
       " 'Rs. 8999',\n",
       " 'Rs. 7199Rs. 7999(10% OFF)',\n",
       " 'Rs. 7999',\n",
       " 'Rs. 9341Rs. 10990(15% OFF)',\n",
       " 'Rs. 11999',\n",
       " 'Rs. 12990',\n",
       " 'Rs. 9899Rs. 17999(45% OFF)',\n",
       " 'Rs. 9999',\n",
       " 'Rs. 7999Rs. 9999(20% OFF)',\n",
       " 'Rs. 8490',\n",
       " 'Rs. 9441Rs. 10490(10% OFF)',\n",
       " 'Rs. 11699Rs. 12999(10% OFF)',\n",
       " 'Rs. 9999',\n",
       " 'Rs. 13999',\n",
       " 'Rs. 9891Rs. 10990(10% OFF)',\n",
       " 'Rs. 8491Rs. 9990(15% OFF)',\n",
       " 'Rs. 9891Rs. 10990(10% OFF)',\n",
       " 'Rs. 8991Rs. 9990(10% OFF)',\n",
       " 'Rs. 13999',\n",
       " 'Rs. 9341Rs. 10990(15% OFF)',\n",
       " 'Rs. 7492Rs. 9990(25% OFF)',\n",
       " 'Rs. 8999Rs. 9999(10% OFF)',\n",
       " 'Rs. 7199Rs. 7999(10% OFF)',\n",
       " 'Rs. 13990',\n",
       " 'Rs. 10990',\n",
       " 'Rs. 8999Rs. 9999(10% OFF)',\n",
       " 'Rs. 12990',\n",
       " 'Rs. 13999',\n",
       " 'Rs. 9810Rs. 10900(10% OFF)',\n",
       " 'Rs. 9239Rs. 10499(12% OFF)',\n",
       " 'Rs. 9239Rs. 10499(12% OFF)',\n",
       " 'Rs. 13990',\n",
       " 'Rs. 11041Rs. 12990(15% OFF)',\n",
       " 'Rs. 3769Rs. 12999(71% OFF)',\n",
       " 'Rs. 7372Rs. 10099(27% OFF)',\n",
       " 'Rs. 8490',\n",
       " 'Rs. 7599Rs. 7999(5% OFF)',\n",
       " 'Rs. 7499',\n",
       " 'Rs. 8990',\n",
       " 'Rs. 8055Rs. 8950(10% OFF)',\n",
       " 'Rs. 7117Rs. 9490(25% OFF)',\n",
       " 'Rs. 7999',\n",
       " 'Rs. 8075Rs. 8500(5% OFF)',\n",
       " 'Rs. 8999',\n",
       " 'Rs. 8999',\n",
       " 'Rs. 13999',\n",
       " 'Rs. 13990',\n",
       " 'Rs. 6557Rs. 7900(17% OFF)',\n",
       " 'Rs. 8992Rs. 11990(25% OFF)',\n",
       " 'Rs. 10355Rs. 10900(5% OFF)',\n",
       " 'Rs. 10710Rs. 11900(10% OFF)',\n",
       " 'Rs. 10791Rs. 11990(10% OFF)',\n",
       " 'Rs. 11990',\n",
       " 'Rs. 9891Rs. 10990(10% OFF)',\n",
       " 'Rs. 9999',\n",
       " 'Rs. 9999',\n",
       " 'Rs. 10400',\n",
       " 'Rs. 10791Rs. 11990(10% OFF)',\n",
       " 'Rs. 8990',\n",
       " 'Rs. 8455Rs. 8900(5% OFF)',\n",
       " 'Rs. 8091Rs. 8990(10% OFF)',\n",
       " 'Rs. 10990',\n",
       " 'Rs. 9999',\n",
       " 'Rs. 7499Rs. 9999(25% OFF)',\n",
       " 'Rs. 7490',\n",
       " 'Rs. 9099Rs. 13999(35% OFF)',\n",
       " 'Rs. 8999Rs. 9999(10% OFF)',\n",
       " 'Rs. 8242Rs. 10990(25% OFF)',\n",
       " 'Rs. 7999',\n",
       " 'Rs. 7999',\n",
       " 'Rs. 8099Rs. 8999(10% OFF)',\n",
       " 'Rs. 11999',\n",
       " 'Rs. 13990',\n",
       " 'Rs. 7990',\n",
       " 'Rs. 9999',\n",
       " 'Rs. 8991Rs. 9990(10% OFF)',\n",
       " 'Rs. 8990',\n",
       " 'Rs. 7990',\n",
       " 'Rs. 8491Rs. 9990(15% OFF)',\n",
       " 'Rs. 8991Rs. 9990(10% OFF)']"
      ]
     },
     "execution_count": 153,
     "metadata": {},
     "output_type": "execute_result"
    }
   ],
   "source": [
    "Price"
   ]
  },
  {
   "cell_type": "code",
   "execution_count": 154,
   "id": "254bf0c8",
   "metadata": {},
   "outputs": [],
   "source": [
    "Prices=pd.DataFrame(Price)"
   ]
  },
  {
   "cell_type": "code",
   "execution_count": 155,
   "id": "f31ad778",
   "metadata": {},
   "outputs": [
    {
     "data": {
      "text/html": [
       "<div>\n",
       "<style scoped>\n",
       "    .dataframe tbody tr th:only-of-type {\n",
       "        vertical-align: middle;\n",
       "    }\n",
       "\n",
       "    .dataframe tbody tr th {\n",
       "        vertical-align: top;\n",
       "    }\n",
       "\n",
       "    .dataframe thead th {\n",
       "        text-align: right;\n",
       "    }\n",
       "</style>\n",
       "<table border=\"1\" class=\"dataframe\">\n",
       "  <thead>\n",
       "    <tr style=\"text-align: right;\">\n",
       "      <th></th>\n",
       "      <th>Brand</th>\n",
       "      <th>Product_Description</th>\n",
       "      <th>Price</th>\n",
       "    </tr>\n",
       "  </thead>\n",
       "  <tbody>\n",
       "    <tr>\n",
       "      <th>0</th>\n",
       "      <td>Skechers</td>\n",
       "      <td>Men Leather Formal Loafers</td>\n",
       "      <td>Rs. 8499</td>\n",
       "    </tr>\n",
       "    <tr>\n",
       "      <th>1</th>\n",
       "      <td>UNDER ARMOUR</td>\n",
       "      <td>Men Woven Design Leather Slip-On Sneakers</td>\n",
       "      <td>Rs. 7999</td>\n",
       "    </tr>\n",
       "    <tr>\n",
       "      <th>2</th>\n",
       "      <td>PUMA Motorsport</td>\n",
       "      <td>Men Leather Loafers</td>\n",
       "      <td>Rs. 7499</td>\n",
       "    </tr>\n",
       "    <tr>\n",
       "      <th>3</th>\n",
       "      <td>Puma</td>\n",
       "      <td>Men Solid Boat Shoes</td>\n",
       "      <td>Rs. 12999</td>\n",
       "    </tr>\n",
       "    <tr>\n",
       "      <th>4</th>\n",
       "      <td>Puma</td>\n",
       "      <td>Men Driving Shoes</td>\n",
       "      <td>Rs. 9999</td>\n",
       "    </tr>\n",
       "    <tr>\n",
       "      <th>...</th>\n",
       "      <td>...</td>\n",
       "      <td>...</td>\n",
       "      <td>...</td>\n",
       "    </tr>\n",
       "    <tr>\n",
       "      <th>95</th>\n",
       "      <td>Geox</td>\n",
       "      <td>Men Solid Supercourt Sneakers</td>\n",
       "      <td>Rs. 8991Rs. 9990(10% OFF)</td>\n",
       "    </tr>\n",
       "    <tr>\n",
       "      <th>96</th>\n",
       "      <td>J.FONTINI</td>\n",
       "      <td>Men Textured Leather Formal Loafers</td>\n",
       "      <td>Rs. 8990</td>\n",
       "    </tr>\n",
       "    <tr>\n",
       "      <th>97</th>\n",
       "      <td>Heel &amp; Buckle London</td>\n",
       "      <td>Men Solid Leather Formal Loafers</td>\n",
       "      <td>Rs. 7990</td>\n",
       "    </tr>\n",
       "    <tr>\n",
       "      <th>98</th>\n",
       "      <td>Geox</td>\n",
       "      <td>Men Textured Leather Loafers</td>\n",
       "      <td>Rs. 8491Rs. 9990(15% OFF)</td>\n",
       "    </tr>\n",
       "    <tr>\n",
       "      <th>99</th>\n",
       "      <td>Geox</td>\n",
       "      <td>Men Textured Leather Driving Shoes</td>\n",
       "      <td>Rs. 8991Rs. 9990(10% OFF)</td>\n",
       "    </tr>\n",
       "  </tbody>\n",
       "</table>\n",
       "<p>100 rows × 3 columns</p>\n",
       "</div>"
      ],
      "text/plain": [
       "                   Brand                        Product_Description  \\\n",
       "0               Skechers                 Men Leather Formal Loafers   \n",
       "1           UNDER ARMOUR  Men Woven Design Leather Slip-On Sneakers   \n",
       "2        PUMA Motorsport                        Men Leather Loafers   \n",
       "3                   Puma                       Men Solid Boat Shoes   \n",
       "4                   Puma                          Men Driving Shoes   \n",
       "..                   ...                                        ...   \n",
       "95                  Geox              Men Solid Supercourt Sneakers   \n",
       "96             J.FONTINI        Men Textured Leather Formal Loafers   \n",
       "97  Heel & Buckle London           Men Solid Leather Formal Loafers   \n",
       "98                  Geox               Men Textured Leather Loafers   \n",
       "99                  Geox         Men Textured Leather Driving Shoes   \n",
       "\n",
       "                        Price  \n",
       "0                    Rs. 8499  \n",
       "1                    Rs. 7999  \n",
       "2                    Rs. 7499  \n",
       "3                   Rs. 12999  \n",
       "4                    Rs. 9999  \n",
       "..                        ...  \n",
       "95  Rs. 8991Rs. 9990(10% OFF)  \n",
       "96                   Rs. 8990  \n",
       "97                   Rs. 7990  \n",
       "98  Rs. 8491Rs. 9990(15% OFF)  \n",
       "99  Rs. 8991Rs. 9990(10% OFF)  \n",
       "\n",
       "[100 rows x 3 columns]"
      ]
     },
     "execution_count": 155,
     "metadata": {},
     "output_type": "execute_result"
    }
   ],
   "source": [
    "Shoes=pd.concat([Brands,Product_Descriptions,Prices],axis=1)\n",
    "Shoes.columns=['Brand','Product_Description','Price']\n",
    "Shoes #Concatenated all the dataframe with column names"
   ]
  },
  {
   "cell_type": "markdown",
   "id": "accf41e3",
   "metadata": {},
   "source": [
    "# Laptops"
   ]
  },
  {
   "cell_type": "code",
   "execution_count": 156,
   "id": "53b8af59",
   "metadata": {},
   "outputs": [],
   "source": [
    "driver.get(\"https://www.amazon.in/\") #Loading the website"
   ]
  },
  {
   "cell_type": "code",
   "execution_count": 157,
   "id": "4aec21de",
   "metadata": {},
   "outputs": [],
   "source": [
    "search_designation=driver.find_element_by_xpath(\"/html/body/div[1]/header/div/div[1]/div[2]/div/form/div[2]/div[1]/input\")\n",
    "search_designation.send_keys(\"Laptops\") #Sending the keys \"laptop\" by locating Xpath"
   ]
  },
  {
   "cell_type": "code",
   "execution_count": 158,
   "id": "9c135f15",
   "metadata": {},
   "outputs": [],
   "source": [
    "Search_Button=driver.find_element_by_xpath(\"/html/body/div[1]/header/div/div[1]/div[2]/div/form/div[3]/div/span/input\")\n",
    "Search_Button.click() #clicking on search button"
   ]
  },
  {
   "cell_type": "code",
   "execution_count": 159,
   "id": "06077252",
   "metadata": {},
   "outputs": [],
   "source": [
    "CPU_Filter=driver.find_element_by_xpath(\"/html/body/div[1]/div[2]/div[1]/div[2]/div/div[3]/span/div[1]/div/div/div[5]/ul[4]/li[11]/span/a/span\")\n",
    "CPU_Filter.click() #clicking on  “Intel Core i7” filter"
   ]
  },
  {
   "cell_type": "code",
   "execution_count": 160,
   "id": "92ead17c",
   "metadata": {},
   "outputs": [],
   "source": [
    "Title=[]\n",
    "Title_tag=driver.find_elements_by_xpath(\"//h2[@class='a-size-mini a-spacing-none a-color-base s-line-clamp-2']\")\n",
    "for i in Title_tag:\n",
    "    Title.append(i.text) #running a loop to get the title of the laptops"
   ]
  },
  {
   "cell_type": "code",
   "execution_count": 161,
   "id": "da9fed6e",
   "metadata": {},
   "outputs": [
    {
     "data": {
      "text/plain": [
       "['Lenovo IdeaPad 5 Pro 11th Gen Intel Core i7 14 inches QHD IPS Thin and Light Laptop (16GB/512GB SSD/Iris Xe Graphics/Windows 11/Office 2021/Backlit/300Nits/Storm Grey/1.41Kg), 82L3006YIN',\n",
       " 'Lenovo Yoga 9 11th Gen Intel Core i7 14\" 4K Ultra HD IPS Touchscreen 2-in-1 Convertible Laptop(16GB/1TB SSD/Windows 11/MS Office 2021/Fingerprint Reader/Shadow Black/Leather Surface/1.44Kg),82BG00BSIN',\n",
       " 'ASUS VivoBook 14 (2021), 14-inch (35.56 cms) FHD, Intel Core i7-1065G7 10th Gen, Thin and Light Laptop (16GB/512GB SSD/Integrated Graphics/Office 2021/Windows 11/Silver/1.6 Kg), X415JA-EK701WS',\n",
       " 'HP Pavilion 14 12th Gen Intel Core i7 16GB SDRAM/1TB SSD 14 inch(35.6cm) FHD,IPS,Micro-Edge Display/Intel UHD Graphics/B&O/Win 11/Alexa Built-in/Backlit KB/FPR/MSO 2021/Natural Silver, 14-dv2015TU',\n",
       " 'Lenovo IdeaPad 5 Pro 11th Gen Intel Core i7 14 inches QHD IPS Thin and Light Laptop (16GB/512GB SSD/Iris Xe Graphics/Windows 11/Office 2021/Backlit/300Nits/Storm Grey/1.41Kg), 82L3006YIN',\n",
       " 'MSI Katana GF66 Gaming, Intel i7-11800H, 15.6\" FHD IPS-Level 144Hz Panel Laptop (16GB/512GB NVMe SSD/Windows 10 Home/Nvidia RTX3050Ti 4GB GDDR6/Black/2.25Kg), 11UD-476IN',\n",
       " 'HP Pavilion x360 11th Gen Intel Core i7 14 inch(35.6 cm) FHD Multitouch 2-in-1 Laptop(16GB RAM/512GB SSD/B&O/Win 11/FPR/Backlit KB/Intel Iris Xe Graphics/Pen/Alexa/MS Office/Silver/1.52Kg) 14-dy1047TU',\n",
       " 'ASUS Vivobook X515JA-EJ701WS Intel Core I7-1065G7 15.6 inches FHD 512 GB SSD /16 GB/Windows 11/Office 2019/1Y (Transparent Silver, 2 kg)',\n",
       " 'ASUS TUF Gaming F15 (2021), 15.6\" (39.62 cms) FHD 144Hz, Intel Core i7-11600H 11th Gen, 4GB RTX 3050 Graphics, Gaming Laptop (16GB/512GB SSD/Windows 10/Office 2019/Gray/2.3 Kg), FX566HCB-HN299TS']"
      ]
     },
     "execution_count": 161,
     "metadata": {},
     "output_type": "execute_result"
    }
   ],
   "source": [
    "Title[0:9] #Taking the top 10 titles"
   ]
  },
  {
   "cell_type": "code",
   "execution_count": 162,
   "id": "6eaca268",
   "metadata": {},
   "outputs": [],
   "source": [
    "Titles=pd.DataFrame(Title) #Creating a dataframe"
   ]
  },
  {
   "cell_type": "code",
   "execution_count": 163,
   "id": "6b9350c4",
   "metadata": {},
   "outputs": [],
   "source": [
    "Price=[]\n",
    "Price_tag=driver.find_elements_by_xpath(\"//span[@class='a-price']\")\n",
    "for i in Price_tag:\n",
    "    Price.append(i.text)\n",
    "#running a loop to get the price of the laptops"
   ]
  },
  {
   "cell_type": "code",
   "execution_count": 164,
   "id": "8bcb4b6d",
   "metadata": {},
   "outputs": [
    {
     "data": {
      "text/plain": [
       "['₹74,614',\n",
       " '₹1,72,990',\n",
       " '₹57,990',\n",
       " '₹86,990',\n",
       " '₹74,614',\n",
       " '₹99,999',\n",
       " '₹84,990',\n",
       " '₹57,300',\n",
       " '₹89,990']"
      ]
     },
     "execution_count": 164,
     "metadata": {},
     "output_type": "execute_result"
    }
   ],
   "source": [
    "Price [0:9]"
   ]
  },
  {
   "cell_type": "code",
   "execution_count": 165,
   "id": "d05b0439",
   "metadata": {},
   "outputs": [],
   "source": [
    "Prices=pd.DataFrame(Price)  #Creating a dataframe"
   ]
  },
  {
   "cell_type": "code",
   "execution_count": 166,
   "id": "da302cd3",
   "metadata": {},
   "outputs": [],
   "source": [
    "Rating=[]\n",
    "Rating_tag=driver.find_elements_by_xpath(\"//a[@class='a-popover-trigger a-declarative']\")\n",
    "for i in Rating_tag:\n",
    "    Rating.append(i.get_attribute('href'))\n",
    "#running a loop to get the ratings of the laptops"
   ]
  },
  {
   "cell_type": "code",
   "execution_count": 167,
   "id": "56d2e2c3",
   "metadata": {},
   "outputs": [
    {
     "data": {
      "text/plain": [
       "['javascript:void(0)',\n",
       " 'javascript:void(0)',\n",
       " 'javascript:void(0)',\n",
       " 'javascript:void(0)',\n",
       " 'javascript:void(0)',\n",
       " 'javascript:void(0)',\n",
       " 'javascript:void(0)',\n",
       " 'javascript:void(0)',\n",
       " 'javascript:void(0)']"
      ]
     },
     "execution_count": 167,
     "metadata": {},
     "output_type": "execute_result"
    }
   ],
   "source": [
    "Rating[0:9]"
   ]
  },
  {
   "cell_type": "code",
   "execution_count": 168,
   "id": "2017ddba",
   "metadata": {},
   "outputs": [],
   "source": [
    "Ratings=pd.DataFrame(Rating) #Creating a dataframe"
   ]
  },
  {
   "cell_type": "code",
   "execution_count": 169,
   "id": "0a2af649",
   "metadata": {},
   "outputs": [
    {
     "data": {
      "text/html": [
       "<div>\n",
       "<style scoped>\n",
       "    .dataframe tbody tr th:only-of-type {\n",
       "        vertical-align: middle;\n",
       "    }\n",
       "\n",
       "    .dataframe tbody tr th {\n",
       "        vertical-align: top;\n",
       "    }\n",
       "\n",
       "    .dataframe thead th {\n",
       "        text-align: right;\n",
       "    }\n",
       "</style>\n",
       "<table border=\"1\" class=\"dataframe\">\n",
       "  <thead>\n",
       "    <tr style=\"text-align: right;\">\n",
       "      <th></th>\n",
       "      <th>Title</th>\n",
       "      <th>Price</th>\n",
       "      <th>Rating</th>\n",
       "    </tr>\n",
       "  </thead>\n",
       "  <tbody>\n",
       "    <tr>\n",
       "      <th>0</th>\n",
       "      <td>Lenovo IdeaPad 5 Pro 11th Gen Intel Core i7 14...</td>\n",
       "      <td>₹74,614</td>\n",
       "      <td>javascript:void(0)</td>\n",
       "    </tr>\n",
       "    <tr>\n",
       "      <th>1</th>\n",
       "      <td>Lenovo Yoga 9 11th Gen Intel Core i7 14\" 4K Ul...</td>\n",
       "      <td>₹1,72,990</td>\n",
       "      <td>javascript:void(0)</td>\n",
       "    </tr>\n",
       "    <tr>\n",
       "      <th>2</th>\n",
       "      <td>ASUS VivoBook 14 (2021), 14-inch (35.56 cms) F...</td>\n",
       "      <td>₹57,990</td>\n",
       "      <td>javascript:void(0)</td>\n",
       "    </tr>\n",
       "    <tr>\n",
       "      <th>3</th>\n",
       "      <td>HP Pavilion 14 12th Gen Intel Core i7 16GB SDR...</td>\n",
       "      <td>₹86,990</td>\n",
       "      <td>javascript:void(0)</td>\n",
       "    </tr>\n",
       "    <tr>\n",
       "      <th>4</th>\n",
       "      <td>Lenovo IdeaPad 5 Pro 11th Gen Intel Core i7 14...</td>\n",
       "      <td>₹74,614</td>\n",
       "      <td>javascript:void(0)</td>\n",
       "    </tr>\n",
       "    <tr>\n",
       "      <th>5</th>\n",
       "      <td>MSI Katana GF66 Gaming, Intel i7-11800H, 15.6\"...</td>\n",
       "      <td>₹99,999</td>\n",
       "      <td>javascript:void(0)</td>\n",
       "    </tr>\n",
       "    <tr>\n",
       "      <th>6</th>\n",
       "      <td>HP Pavilion x360 11th Gen Intel Core i7 14 inc...</td>\n",
       "      <td>₹84,990</td>\n",
       "      <td>javascript:void(0)</td>\n",
       "    </tr>\n",
       "    <tr>\n",
       "      <th>7</th>\n",
       "      <td>ASUS Vivobook X515JA-EJ701WS Intel Core I7-106...</td>\n",
       "      <td>₹57,300</td>\n",
       "      <td>javascript:void(0)</td>\n",
       "    </tr>\n",
       "    <tr>\n",
       "      <th>8</th>\n",
       "      <td>ASUS TUF Gaming F15 (2021), 15.6\" (39.62 cms) ...</td>\n",
       "      <td>₹89,990</td>\n",
       "      <td>javascript:void(0)</td>\n",
       "    </tr>\n",
       "    <tr>\n",
       "      <th>9</th>\n",
       "      <td>HP Victus 11th Gen Intel Core i7-11800H 16.1-i...</td>\n",
       "      <td>₹1,20,062</td>\n",
       "      <td>javascript:void(0)</td>\n",
       "    </tr>\n",
       "  </tbody>\n",
       "</table>\n",
       "</div>"
      ],
      "text/plain": [
       "                                               Title      Price  \\\n",
       "0  Lenovo IdeaPad 5 Pro 11th Gen Intel Core i7 14...    ₹74,614   \n",
       "1  Lenovo Yoga 9 11th Gen Intel Core i7 14\" 4K Ul...  ₹1,72,990   \n",
       "2  ASUS VivoBook 14 (2021), 14-inch (35.56 cms) F...    ₹57,990   \n",
       "3  HP Pavilion 14 12th Gen Intel Core i7 16GB SDR...    ₹86,990   \n",
       "4  Lenovo IdeaPad 5 Pro 11th Gen Intel Core i7 14...    ₹74,614   \n",
       "5  MSI Katana GF66 Gaming, Intel i7-11800H, 15.6\"...    ₹99,999   \n",
       "6  HP Pavilion x360 11th Gen Intel Core i7 14 inc...    ₹84,990   \n",
       "7  ASUS Vivobook X515JA-EJ701WS Intel Core I7-106...    ₹57,300   \n",
       "8  ASUS TUF Gaming F15 (2021), 15.6\" (39.62 cms) ...    ₹89,990   \n",
       "9  HP Victus 11th Gen Intel Core i7-11800H 16.1-i...  ₹1,20,062   \n",
       "\n",
       "               Rating  \n",
       "0  javascript:void(0)  \n",
       "1  javascript:void(0)  \n",
       "2  javascript:void(0)  \n",
       "3  javascript:void(0)  \n",
       "4  javascript:void(0)  \n",
       "5  javascript:void(0)  \n",
       "6  javascript:void(0)  \n",
       "7  javascript:void(0)  \n",
       "8  javascript:void(0)  \n",
       "9  javascript:void(0)  "
      ]
     },
     "execution_count": 169,
     "metadata": {},
     "output_type": "execute_result"
    }
   ],
   "source": [
    "Laptops= pd.concat([Titles,Prices,Ratings],axis=1)\n",
    "Laptops.columns=['Title','Price','Rating']\n",
    "Laptops.head(10) #Concatenating all the dataframe"
   ]
  },
  {
   "cell_type": "markdown",
   "id": "61305dd7",
   "metadata": {},
   "source": [
    "# Ambition Box"
   ]
  },
  {
   "cell_type": "code",
   "execution_count": 170,
   "id": "d62a14f7",
   "metadata": {},
   "outputs": [],
   "source": [
    "driver.get(\"https://www.ambitionbox.com/\") #Loading the website"
   ]
  },
  {
   "cell_type": "code",
   "execution_count": 171,
   "id": "7f470558",
   "metadata": {},
   "outputs": [],
   "source": [
    "Job=driver.find_element_by_xpath(\"/html/body/div[1]/nav/nav/a[6]\")\n",
    "Job.click() #Clicking on job via Xpath location"
   ]
  },
  {
   "cell_type": "code",
   "execution_count": 172,
   "id": "637adbd4",
   "metadata": {},
   "outputs": [],
   "source": [
    "search_designation=driver.find_element_by_xpath(\"/html/body/div/div/div/div[2]/div[1]/div[1]/div/div/div/div/span/input\")\n",
    "search_designation.send_keys(\"Data Scientist\") #Mention the word Data Scientist by Xpath location"
   ]
  },
  {
   "cell_type": "code",
   "execution_count": 176,
   "id": "e5de72e6",
   "metadata": {},
   "outputs": [],
   "source": [
    "Search_button=driver.find_element_by_xpath(\"/html/body/div/div/div/div[2]/div[1]/div[1]/div/div/div/button/span\")\n",
    "Search_button.click() #Clicking on search button by xpath"
   ]
  },
  {
   "cell_type": "code",
   "execution_count": 177,
   "id": "7b12c4da",
   "metadata": {},
   "outputs": [],
   "source": [
    "Location=driver.find_element_by_xpath(\"/html/body/div/div/div/div[2]/div[1]/div[2]/div[1]/div/div/div/div[2]/div[1]/p\")\n",
    "Location.click() #Clicking on location button by xpath"
   ]
  },
  {
   "cell_type": "code",
   "execution_count": 178,
   "id": "3ec2710a",
   "metadata": {},
   "outputs": [],
   "source": [
    "Place=driver.find_element_by_xpath(\"/html/body/div/div/div/div[2]/div[1]/div[2]/div[1]/div/div/div/div[2]/div[2]/div/div[3]/div[1]/div[8]/div/input\")\n",
    "Place.click() #Clicking on location button by xpath"
   ]
  },
  {
   "cell_type": "code",
   "execution_count": 179,
   "id": "72d33d37",
   "metadata": {},
   "outputs": [],
   "source": [
    "Company=[]\n",
    "Company_Tag=driver.find_elements_by_xpath(\"//p[@class='company body-medium']\")\n",
    "for i in Company_Tag:\n",
    "    Company.append(i.text) #Making a loop to get all the company names"
   ]
  },
  {
   "cell_type": "code",
   "execution_count": 180,
   "id": "ae5272fd",
   "metadata": {},
   "outputs": [
    {
     "data": {
      "text/plain": [
       "['GENPACT India Private Limited',\n",
       " 'Optum Global Solutions (India) Private Limited',\n",
       " 'GENPACT India Private Limited',\n",
       " 'Hcl Technologies Limited',\n",
       " 'EXL Services.com ( I ) Pvt. Ltd.',\n",
       " 'Paytm',\n",
       " 'Om Software Internet Solutions Private Limited',\n",
       " 'Paytm',\n",
       " 'MOTHERSONSUMI INFOTECH & DESIGNS LIMITED',\n",
       " 'Ashkom Media India Private Limited']"
      ]
     },
     "execution_count": 180,
     "metadata": {},
     "output_type": "execute_result"
    }
   ],
   "source": [
    "Company"
   ]
  },
  {
   "cell_type": "code",
   "execution_count": 181,
   "id": "837eac6c",
   "metadata": {},
   "outputs": [],
   "source": [
    "Companies=pd.DataFrame(Company)"
   ]
  },
  {
   "cell_type": "code",
   "execution_count": 182,
   "id": "7ce16405",
   "metadata": {},
   "outputs": [],
   "source": [
    "Rating=[]\n",
    "Rating_Tag=driver.find_elements_by_xpath(\"//span[@class='body-small']\")\n",
    "for i in Rating_Tag:\n",
    "    Rating.append(i.text) #Making a loop to get all the rating"
   ]
  },
  {
   "cell_type": "code",
   "execution_count": 183,
   "id": "c0cdd762",
   "metadata": {},
   "outputs": [
    {
     "data": {
      "text/plain": [
       "['4.0', '4.2', '4.0', '3.9', '3.9', '3.7', '4.5', '3.7', '3.3', '3.5']"
      ]
     },
     "execution_count": 183,
     "metadata": {},
     "output_type": "execute_result"
    }
   ],
   "source": [
    "Rating"
   ]
  },
  {
   "cell_type": "code",
   "execution_count": 184,
   "id": "29b6d49c",
   "metadata": {},
   "outputs": [],
   "source": [
    "Ratings=pd.DataFrame(Rating)"
   ]
  },
  {
   "cell_type": "code",
   "execution_count": 185,
   "id": "ea9f9eb5",
   "metadata": {},
   "outputs": [],
   "source": [
    "Time=[]\n",
    "Time_Tag=driver.find_elements_by_xpath(\"//div[@class='other-info']/span[1]\")\n",
    "for i in Time_Tag:\n",
    "    Time.append(i.text) #Making a loop to get all the days posted"
   ]
  },
  {
   "cell_type": "code",
   "execution_count": 186,
   "id": "1cc9aed2",
   "metadata": {},
   "outputs": [
    {
     "data": {
      "text/plain": [
       "['6d ago',\n",
       " '14d ago',\n",
       " '13d ago',\n",
       " '16d ago',\n",
       " '27d ago',\n",
       " '9d ago',\n",
       " '17d ago',\n",
       " '27d ago',\n",
       " '14d ago',\n",
       " '13d ago']"
      ]
     },
     "execution_count": 186,
     "metadata": {},
     "output_type": "execute_result"
    }
   ],
   "source": [
    "Time"
   ]
  },
  {
   "cell_type": "code",
   "execution_count": 187,
   "id": "1df4a9f7",
   "metadata": {},
   "outputs": [],
   "source": [
    "Times=pd.DataFrame(Time)"
   ]
  },
  {
   "cell_type": "code",
   "execution_count": 188,
   "id": "360c3f60",
   "metadata": {},
   "outputs": [
    {
     "data": {
      "text/html": [
       "<div>\n",
       "<style scoped>\n",
       "    .dataframe tbody tr th:only-of-type {\n",
       "        vertical-align: middle;\n",
       "    }\n",
       "\n",
       "    .dataframe tbody tr th {\n",
       "        vertical-align: top;\n",
       "    }\n",
       "\n",
       "    .dataframe thead th {\n",
       "        text-align: right;\n",
       "    }\n",
       "</style>\n",
       "<table border=\"1\" class=\"dataframe\">\n",
       "  <thead>\n",
       "    <tr style=\"text-align: right;\">\n",
       "      <th></th>\n",
       "      <th>Company</th>\n",
       "      <th>Rating</th>\n",
       "      <th>Posted</th>\n",
       "    </tr>\n",
       "  </thead>\n",
       "  <tbody>\n",
       "    <tr>\n",
       "      <th>0</th>\n",
       "      <td>GENPACT India Private Limited</td>\n",
       "      <td>4.0</td>\n",
       "      <td>6d ago</td>\n",
       "    </tr>\n",
       "    <tr>\n",
       "      <th>1</th>\n",
       "      <td>Optum Global Solutions (India) Private Limited</td>\n",
       "      <td>4.2</td>\n",
       "      <td>14d ago</td>\n",
       "    </tr>\n",
       "    <tr>\n",
       "      <th>2</th>\n",
       "      <td>GENPACT India Private Limited</td>\n",
       "      <td>4.0</td>\n",
       "      <td>13d ago</td>\n",
       "    </tr>\n",
       "    <tr>\n",
       "      <th>3</th>\n",
       "      <td>Hcl Technologies Limited</td>\n",
       "      <td>3.9</td>\n",
       "      <td>16d ago</td>\n",
       "    </tr>\n",
       "    <tr>\n",
       "      <th>4</th>\n",
       "      <td>EXL Services.com ( I ) Pvt. Ltd.</td>\n",
       "      <td>3.9</td>\n",
       "      <td>27d ago</td>\n",
       "    </tr>\n",
       "    <tr>\n",
       "      <th>5</th>\n",
       "      <td>Paytm</td>\n",
       "      <td>3.7</td>\n",
       "      <td>9d ago</td>\n",
       "    </tr>\n",
       "    <tr>\n",
       "      <th>6</th>\n",
       "      <td>Om Software Internet Solutions Private Limited</td>\n",
       "      <td>4.5</td>\n",
       "      <td>17d ago</td>\n",
       "    </tr>\n",
       "    <tr>\n",
       "      <th>7</th>\n",
       "      <td>Paytm</td>\n",
       "      <td>3.7</td>\n",
       "      <td>27d ago</td>\n",
       "    </tr>\n",
       "    <tr>\n",
       "      <th>8</th>\n",
       "      <td>MOTHERSONSUMI INFOTECH &amp; DESIGNS LIMITED</td>\n",
       "      <td>3.3</td>\n",
       "      <td>14d ago</td>\n",
       "    </tr>\n",
       "    <tr>\n",
       "      <th>9</th>\n",
       "      <td>Ashkom Media India Private Limited</td>\n",
       "      <td>3.5</td>\n",
       "      <td>13d ago</td>\n",
       "    </tr>\n",
       "  </tbody>\n",
       "</table>\n",
       "</div>"
      ],
      "text/plain": [
       "                                          Company Rating   Posted\n",
       "0                   GENPACT India Private Limited    4.0   6d ago\n",
       "1  Optum Global Solutions (India) Private Limited    4.2  14d ago\n",
       "2                   GENPACT India Private Limited    4.0  13d ago\n",
       "3                        Hcl Technologies Limited    3.9  16d ago\n",
       "4                EXL Services.com ( I ) Pvt. Ltd.    3.9  27d ago\n",
       "5                                           Paytm    3.7   9d ago\n",
       "6  Om Software Internet Solutions Private Limited    4.5  17d ago\n",
       "7                                           Paytm    3.7  27d ago\n",
       "8        MOTHERSONSUMI INFOTECH & DESIGNS LIMITED    3.3  14d ago\n",
       "9              Ashkom Media India Private Limited    3.5  13d ago"
      ]
     },
     "execution_count": 188,
     "metadata": {},
     "output_type": "execute_result"
    }
   ],
   "source": [
    "Ambition_Box=pd.concat([Companies,Ratings,Times],axis=1)\n",
    "Ambition_Box.columns=[\"Company\",\"Rating\",\"Posted\"]\n",
    "Ambition_Box #Creating a dataframe"
   ]
  },
  {
   "cell_type": "markdown",
   "id": "67f9cf8f",
   "metadata": {},
   "source": [
    "# Ambition Box_Salary"
   ]
  },
  {
   "cell_type": "code",
   "execution_count": 205,
   "id": "364eee99",
   "metadata": {},
   "outputs": [],
   "source": [
    "driver.get(\"https://www.ambitionbox.com/\") #Loading the website"
   ]
  },
  {
   "cell_type": "code",
   "execution_count": 206,
   "id": "b4d4e055",
   "metadata": {},
   "outputs": [],
   "source": [
    "Salary=driver.find_element_by_xpath(\"/html/body/div[1]/nav/nav/a[4]\")\n",
    "Salary.click() #Clicking on the salary button via Xpath"
   ]
  },
  {
   "cell_type": "code",
   "execution_count": 215,
   "id": "4a340b23",
   "metadata": {},
   "outputs": [],
   "source": [
    "search_designation=driver.find_element_by_xpath(\"/html/body/div/div/div/main/section[1]/div[2]/div[1]/span/input\")\n",
    "search_designation.send_keys(\"Data Scientist\") #Mention the word Data Scientist by Xpath location"
   ]
  },
  {
   "cell_type": "code",
   "execution_count": 217,
   "id": "4771eb8c",
   "metadata": {},
   "outputs": [],
   "source": [
    "Search_button=driver.find_element_by_xpath(\"/html/body/div/div/div/main/section[1]/div[2]/div[2]/div/div[1]\")\n",
    "Search_button.click() #Clicking on the data scientist button via Xpath location"
   ]
  },
  {
   "cell_type": "code",
   "execution_count": 218,
   "id": "20681f62",
   "metadata": {},
   "outputs": [],
   "source": [
    "#The below class name gave the data for both company and salary record, hence the data has been splitted into two parts- Company and salary records"
   ]
  },
  {
   "cell_type": "code",
   "execution_count": 219,
   "id": "b9aafc4f",
   "metadata": {},
   "outputs": [],
   "source": [
    "Company=[]\n",
    "Company_Tag=driver.find_elements_by_xpath(\"//div[@class='name']\")\n",
    "for i in Company_Tag:\n",
    "    Company.append(i.text.split(\"\\n\")[0]) #Running a loop to get the company name and using the first part of the split "
   ]
  },
  {
   "cell_type": "code",
   "execution_count": 220,
   "id": "89bcbf67",
   "metadata": {},
   "outputs": [
    {
     "data": {
      "text/plain": [
       "['Walmart',\n",
       " 'Ab Inbev',\n",
       " 'American Express',\n",
       " 'ZS',\n",
       " 'Optum',\n",
       " 'Reliance Jio',\n",
       " 'Fractal Analytics',\n",
       " 'Tiger Analytics',\n",
       " 'UnitedHealth',\n",
       " 'EXL Service']"
      ]
     },
     "execution_count": 220,
     "metadata": {},
     "output_type": "execute_result"
    }
   ],
   "source": [
    "Company"
   ]
  },
  {
   "cell_type": "code",
   "execution_count": 221,
   "id": "abfeb335",
   "metadata": {},
   "outputs": [],
   "source": [
    "Companies=pd.DataFrame(Company) #making a dataframe"
   ]
  },
  {
   "cell_type": "code",
   "execution_count": 222,
   "id": "dff410d6",
   "metadata": {},
   "outputs": [],
   "source": [
    "Salary_Record=[]\n",
    "Record_Tag=driver.find_elements_by_xpath(\"//div[@class='name']\")\n",
    "for i in Record_Tag:\n",
    "    Salary_Record.append(i.text.split(\"\\n\")[1]) #Running a loop to get the salary record and using the second part of the split "
   ]
  },
  {
   "cell_type": "code",
   "execution_count": 223,
   "id": "4c7a6d0e",
   "metadata": {},
   "outputs": [
    {
     "data": {
      "text/plain": [
       "['based on 12 salaries',\n",
       " 'based on 33 salaries',\n",
       " 'based on 10 salaries',\n",
       " 'based on 15 salaries',\n",
       " 'based on 33 salaries',\n",
       " 'based on 21 salaries',\n",
       " 'based on 83 salaries',\n",
       " 'based on 50 salaries',\n",
       " 'based on 57 salaries',\n",
       " 'based on 10 salaries']"
      ]
     },
     "execution_count": 223,
     "metadata": {},
     "output_type": "execute_result"
    }
   ],
   "source": [
    "Salary_Record"
   ]
  },
  {
   "cell_type": "code",
   "execution_count": 224,
   "id": "c8efaeb3",
   "metadata": {},
   "outputs": [],
   "source": [
    "Salary_Records=pd.DataFrame(Salary_Record) #dataframe for salary records"
   ]
  },
  {
   "cell_type": "code",
   "execution_count": 225,
   "id": "0ebad881",
   "metadata": {},
   "outputs": [],
   "source": [
    "Average_Salary=[]\n",
    "Average_Tag=driver.find_elements_by_xpath(\"//p[@class='averageCtc']\")\n",
    "for i in Average_Tag:\n",
    "    Average_Salary.append(i.text) #Running a loop to get all the average salary"
   ]
  },
  {
   "cell_type": "code",
   "execution_count": 226,
   "id": "a34cece3",
   "metadata": {},
   "outputs": [
    {
     "data": {
      "text/plain": [
       "['₹ 30.2L',\n",
       " '₹ 20.6L',\n",
       " '₹ 19.9L',\n",
       " '₹ 16.7L',\n",
       " '₹ 16.1L',\n",
       " '₹ 15.7L',\n",
       " '₹ 15.4L',\n",
       " '₹ 14.8L',\n",
       " '₹ 14.0L',\n",
       " '₹ 13.3L']"
      ]
     },
     "execution_count": 226,
     "metadata": {},
     "output_type": "execute_result"
    }
   ],
   "source": [
    "Average_Salary"
   ]
  },
  {
   "cell_type": "code",
   "execution_count": 227,
   "id": "95316bac",
   "metadata": {},
   "outputs": [],
   "source": [
    "Average_Salaries=pd.DataFrame(Average_Salary) #dataframe for average salary"
   ]
  },
  {
   "cell_type": "code",
   "execution_count": 228,
   "id": "f66b2db3",
   "metadata": {},
   "outputs": [],
   "source": [
    "Minimum_Salary=[]\n",
    "Minimum_Tag=driver.find_elements_by_xpath(\"//div[@class='salary-values']/div[1]\")\n",
    "for i in Minimum_Tag:\n",
    "    Minimum_Salary.append(i.text) #Running a loop to get all the minimum salary"
   ]
  },
  {
   "cell_type": "code",
   "execution_count": 229,
   "id": "961d7a2d",
   "metadata": {},
   "outputs": [
    {
     "data": {
      "text/plain": [
       "['₹ 25.0L',\n",
       " '₹ 15.0L',\n",
       " '₹ 14.1L',\n",
       " '₹ 11.0L',\n",
       " '₹ 11.0L',\n",
       " '₹ 5.6L',\n",
       " '₹ 10.0L',\n",
       " '₹ 9.0L',\n",
       " '₹ 8.3L',\n",
       " '₹ 8.9L']"
      ]
     },
     "execution_count": 229,
     "metadata": {},
     "output_type": "execute_result"
    }
   ],
   "source": [
    "Minimum_Salary"
   ]
  },
  {
   "cell_type": "code",
   "execution_count": 230,
   "id": "f55db662",
   "metadata": {},
   "outputs": [],
   "source": [
    "Minimum_Salaries=pd.DataFrame(Minimum_Salary) #dataframe for minimum salary"
   ]
  },
  {
   "cell_type": "code",
   "execution_count": 231,
   "id": "bce805b6",
   "metadata": {},
   "outputs": [],
   "source": [
    "Maximum_Salary=[]\n",
    "Maximum_Tag=driver.find_elements_by_xpath(\"//div[@class='salary-values']/div[2]\")\n",
    "for i in Maximum_Tag:\n",
    "    Maximum_Salary.append(i.text) #Running a loop to get all the maximum salary"
   ]
  },
  {
   "cell_type": "code",
   "execution_count": 232,
   "id": "671fda61",
   "metadata": {},
   "outputs": [
    {
     "data": {
      "text/plain": [
       "['₹ 36.0L',\n",
       " '₹ 25.5L',\n",
       " '₹ 25.0L',\n",
       " '₹ 22.0L',\n",
       " '₹ 22.6L',\n",
       " '₹ 26.2L',\n",
       " '₹ 22.0L',\n",
       " '₹ 20.0L',\n",
       " '₹ 21.1L',\n",
       " '₹ 21.0L']"
      ]
     },
     "execution_count": 232,
     "metadata": {},
     "output_type": "execute_result"
    }
   ],
   "source": [
    "Maximum_Salary"
   ]
  },
  {
   "cell_type": "code",
   "execution_count": 233,
   "id": "61a62cbd",
   "metadata": {},
   "outputs": [],
   "source": [
    "Maximum_Salaries=pd.DataFrame(Maximum_Salary) #dataframe for maximum salary"
   ]
  },
  {
   "cell_type": "code",
   "execution_count": 234,
   "id": "d0405c33",
   "metadata": {},
   "outputs": [
    {
     "data": {
      "text/html": [
       "<div>\n",
       "<style scoped>\n",
       "    .dataframe tbody tr th:only-of-type {\n",
       "        vertical-align: middle;\n",
       "    }\n",
       "\n",
       "    .dataframe tbody tr th {\n",
       "        vertical-align: top;\n",
       "    }\n",
       "\n",
       "    .dataframe thead th {\n",
       "        text-align: right;\n",
       "    }\n",
       "</style>\n",
       "<table border=\"1\" class=\"dataframe\">\n",
       "  <thead>\n",
       "    <tr style=\"text-align: right;\">\n",
       "      <th></th>\n",
       "      <th>Company</th>\n",
       "      <th>Salary_Record</th>\n",
       "      <th>Average_Salary</th>\n",
       "      <th>Minimum_Salary</th>\n",
       "      <th>Maximum_Salary</th>\n",
       "    </tr>\n",
       "  </thead>\n",
       "  <tbody>\n",
       "    <tr>\n",
       "      <th>0</th>\n",
       "      <td>Walmart</td>\n",
       "      <td>based on 12 salaries</td>\n",
       "      <td>₹ 30.2L</td>\n",
       "      <td>₹ 25.0L</td>\n",
       "      <td>₹ 36.0L</td>\n",
       "    </tr>\n",
       "    <tr>\n",
       "      <th>1</th>\n",
       "      <td>Ab Inbev</td>\n",
       "      <td>based on 33 salaries</td>\n",
       "      <td>₹ 20.6L</td>\n",
       "      <td>₹ 15.0L</td>\n",
       "      <td>₹ 25.5L</td>\n",
       "    </tr>\n",
       "    <tr>\n",
       "      <th>2</th>\n",
       "      <td>American Express</td>\n",
       "      <td>based on 10 salaries</td>\n",
       "      <td>₹ 19.9L</td>\n",
       "      <td>₹ 14.1L</td>\n",
       "      <td>₹ 25.0L</td>\n",
       "    </tr>\n",
       "    <tr>\n",
       "      <th>3</th>\n",
       "      <td>ZS</td>\n",
       "      <td>based on 15 salaries</td>\n",
       "      <td>₹ 16.7L</td>\n",
       "      <td>₹ 11.0L</td>\n",
       "      <td>₹ 22.0L</td>\n",
       "    </tr>\n",
       "    <tr>\n",
       "      <th>4</th>\n",
       "      <td>Optum</td>\n",
       "      <td>based on 33 salaries</td>\n",
       "      <td>₹ 16.1L</td>\n",
       "      <td>₹ 11.0L</td>\n",
       "      <td>₹ 22.6L</td>\n",
       "    </tr>\n",
       "    <tr>\n",
       "      <th>5</th>\n",
       "      <td>Reliance Jio</td>\n",
       "      <td>based on 21 salaries</td>\n",
       "      <td>₹ 15.7L</td>\n",
       "      <td>₹ 5.6L</td>\n",
       "      <td>₹ 26.2L</td>\n",
       "    </tr>\n",
       "    <tr>\n",
       "      <th>6</th>\n",
       "      <td>Fractal Analytics</td>\n",
       "      <td>based on 83 salaries</td>\n",
       "      <td>₹ 15.4L</td>\n",
       "      <td>₹ 10.0L</td>\n",
       "      <td>₹ 22.0L</td>\n",
       "    </tr>\n",
       "    <tr>\n",
       "      <th>7</th>\n",
       "      <td>Tiger Analytics</td>\n",
       "      <td>based on 50 salaries</td>\n",
       "      <td>₹ 14.8L</td>\n",
       "      <td>₹ 9.0L</td>\n",
       "      <td>₹ 20.0L</td>\n",
       "    </tr>\n",
       "    <tr>\n",
       "      <th>8</th>\n",
       "      <td>UnitedHealth</td>\n",
       "      <td>based on 57 salaries</td>\n",
       "      <td>₹ 14.0L</td>\n",
       "      <td>₹ 8.3L</td>\n",
       "      <td>₹ 21.1L</td>\n",
       "    </tr>\n",
       "    <tr>\n",
       "      <th>9</th>\n",
       "      <td>EXL Service</td>\n",
       "      <td>based on 10 salaries</td>\n",
       "      <td>₹ 13.3L</td>\n",
       "      <td>₹ 8.9L</td>\n",
       "      <td>₹ 21.0L</td>\n",
       "    </tr>\n",
       "  </tbody>\n",
       "</table>\n",
       "</div>"
      ],
      "text/plain": [
       "             Company         Salary_Record Average_Salary Minimum_Salary  \\\n",
       "0            Walmart  based on 12 salaries        ₹ 30.2L        ₹ 25.0L   \n",
       "1           Ab Inbev  based on 33 salaries        ₹ 20.6L        ₹ 15.0L   \n",
       "2   American Express  based on 10 salaries        ₹ 19.9L        ₹ 14.1L   \n",
       "3                 ZS  based on 15 salaries        ₹ 16.7L        ₹ 11.0L   \n",
       "4              Optum  based on 33 salaries        ₹ 16.1L        ₹ 11.0L   \n",
       "5       Reliance Jio  based on 21 salaries        ₹ 15.7L         ₹ 5.6L   \n",
       "6  Fractal Analytics  based on 83 salaries        ₹ 15.4L        ₹ 10.0L   \n",
       "7    Tiger Analytics  based on 50 salaries        ₹ 14.8L         ₹ 9.0L   \n",
       "8       UnitedHealth  based on 57 salaries        ₹ 14.0L         ₹ 8.3L   \n",
       "9        EXL Service  based on 10 salaries        ₹ 13.3L         ₹ 8.9L   \n",
       "\n",
       "  Maximum_Salary  \n",
       "0        ₹ 36.0L  \n",
       "1        ₹ 25.5L  \n",
       "2        ₹ 25.0L  \n",
       "3        ₹ 22.0L  \n",
       "4        ₹ 22.6L  \n",
       "5        ₹ 26.2L  \n",
       "6        ₹ 22.0L  \n",
       "7        ₹ 20.0L  \n",
       "8        ₹ 21.1L  \n",
       "9        ₹ 21.0L  "
      ]
     },
     "execution_count": 234,
     "metadata": {},
     "output_type": "execute_result"
    }
   ],
   "source": [
    "Ambition_Box_Salary=pd.concat([Companies,Salary_Records,Average_Salaries,Minimum_Salaries,Maximum_Salaries],axis=1)\n",
    "Ambition_Box_Salary.columns=['Company','Salary_Record','Average_Salary','Minimum_Salary','Maximum_Salary']\n",
    "Ambition_Box_Salary #concatenating all the dataframe and finally assigning a column"
   ]
  },
  {
   "cell_type": "code",
   "execution_count": 256,
   "id": "bcfcaa46",
   "metadata": {},
   "outputs": [],
   "source": [
    "#End of Assignment"
   ]
  }
 ],
 "metadata": {
  "kernelspec": {
   "display_name": "Python 3 (ipykernel)",
   "language": "python",
   "name": "python3"
  },
  "language_info": {
   "codemirror_mode": {
    "name": "ipython",
    "version": 3
   },
   "file_extension": ".py",
   "mimetype": "text/x-python",
   "name": "python",
   "nbconvert_exporter": "python",
   "pygments_lexer": "ipython3",
   "version": "3.9.7"
  }
 },
 "nbformat": 4,
 "nbformat_minor": 5
}
