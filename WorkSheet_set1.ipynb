{
 "cells": [
  {
   "cell_type": "markdown",
   "id": "f8ead8d4",
   "metadata": {},
   "source": [
    "# Palindrome"
   ]
  },
  {
   "cell_type": "code",
   "execution_count": 1,
   "id": "8d874a08",
   "metadata": {},
   "outputs": [],
   "source": [
    "def Palindrome():\n",
    "    val= input(\"Enter your word:\")\n",
    "    if val==val[::-1]:\n",
    "        print(\"Yes it a Palindrome!\")\n",
    "    else:\n",
    "        print(\"Its not a palindrome!\")"
   ]
  },
  {
   "cell_type": "code",
   "execution_count": 2,
   "id": "e03fbd5a",
   "metadata": {},
   "outputs": [
    {
     "name": "stdout",
     "output_type": "stream",
     "text": [
      "Enter your word:malayalam\n",
      "Yes it a Palindrome!\n"
     ]
    }
   ],
   "source": [
    "Palindrome()"
   ]
  },
  {
   "cell_type": "markdown",
   "id": "ff32c45c",
   "metadata": {},
   "source": [
    "# Factorial"
   ]
  },
  {
   "cell_type": "code",
   "execution_count": 3,
   "id": "32686cbe",
   "metadata": {},
   "outputs": [],
   "source": [
    "import math"
   ]
  },
  {
   "cell_type": "code",
   "execution_count": 4,
   "id": "ecedbfad",
   "metadata": {},
   "outputs": [],
   "source": [
    "def number():\n",
    "    val= input (\"Enter your number:\")\n",
    "    val_num= int(val)\n",
    "    return(math.factorial(val_num))\n",
    "    "
   ]
  },
  {
   "cell_type": "code",
   "execution_count": 5,
   "id": "69e28d8f",
   "metadata": {},
   "outputs": [
    {
     "name": "stdout",
     "output_type": "stream",
     "text": [
      "Enter your number:6\n"
     ]
    },
    {
     "data": {
      "text/plain": [
       "720"
      ]
     },
     "execution_count": 5,
     "metadata": {},
     "output_type": "execute_result"
    }
   ],
   "source": [
    "number()"
   ]
  },
  {
   "cell_type": "markdown",
   "id": "de833174",
   "metadata": {},
   "source": [
    "# Prime or Composite"
   ]
  },
  {
   "cell_type": "code",
   "execution_count": 6,
   "id": "4fc9eb58",
   "metadata": {},
   "outputs": [],
   "source": [
    "def Prime():\n",
    "    val= int(input(\"Enter a number:\"))\n",
    "    for i in range(2,val):\n",
    "        if val%i==0:\n",
    "            print(\"Its a composite number\")\n",
    "            break\n",
    "        else:\n",
    "            print(\"Its a prime number\")\n",
    "            break\n"
   ]
  },
  {
   "cell_type": "code",
   "execution_count": 7,
   "id": "5f8dfd8c",
   "metadata": {},
   "outputs": [
    {
     "name": "stdout",
     "output_type": "stream",
     "text": [
      "Enter a number:5\n",
      "Its a prime number\n"
     ]
    }
   ],
   "source": [
    "Prime()\n"
   ]
  },
  {
   "cell_type": "code",
   "execution_count": 8,
   "id": "c980e59d",
   "metadata": {},
   "outputs": [
    {
     "name": "stdout",
     "output_type": "stream",
     "text": [
      "Enter a number:10\n",
      "Its a composite number\n"
     ]
    }
   ],
   "source": [
    "Prime()"
   ]
  },
  {
   "cell_type": "markdown",
   "id": "2d14c7d9",
   "metadata": {},
   "source": [
    "# Finding third side of a triangle"
   ]
  },
  {
   "cell_type": "code",
   "execution_count": 9,
   "id": "7db10eee",
   "metadata": {},
   "outputs": [],
   "source": [
    "from math import sqrt"
   ]
  },
  {
   "cell_type": "code",
   "execution_count": 10,
   "id": "05b9c7e3",
   "metadata": {},
   "outputs": [
    {
     "name": "stdout",
     "output_type": "stream",
     "text": [
      "The value of first side is:3\n",
      "The value of second side is:4\n",
      "The length of the third side is: 5.0\n"
     ]
    }
   ],
   "source": [
    "val_A= float (input ( \"The value of first side is:\"))\n",
    "val_B= float (input ( \"The value of second side is:\"))\n",
    "val_C= sqrt(val_A**2+ val_B**2)\n",
    "print (\"The length of the third side is:\", val_C )\n",
    "    "
   ]
  },
  {
   "cell_type": "markdown",
   "id": "ab8568ce",
   "metadata": {},
   "source": [
    "# Frequency of a character"
   ]
  },
  {
   "cell_type": "code",
   "execution_count": 4,
   "id": "7d1432ab",
   "metadata": {},
   "outputs": [],
   "source": [
    "from collections import Counter"
   ]
  },
  {
   "cell_type": "code",
   "execution_count": 5,
   "id": "f7988f73",
   "metadata": {},
   "outputs": [
    {
     "name": "stdout",
     "output_type": "stream",
     "text": [
      "Enter any character abbcccddddeeeee\n",
      "The frequency of each character is Counter({'e': 5, 'd': 4, 'c': 3, 'b': 2, 'a': 1})\n"
     ]
    }
   ],
   "source": [
    "Val= input(\"Enter any character \")\n",
    "Freq= Counter(Val)\n",
    "print ( \"The frequency of each character is\", str(Freq))"
   ]
  },
  {
   "cell_type": "code",
   "execution_count": null,
   "id": "aa7ebdfa",
   "metadata": {},
   "outputs": [],
   "source": []
  }
 ],
 "metadata": {
  "kernelspec": {
   "display_name": "Python 3 (ipykernel)",
   "language": "python",
   "name": "python3"
  },
  "language_info": {
   "codemirror_mode": {
    "name": "ipython",
    "version": 3
   },
   "file_extension": ".py",
   "mimetype": "text/x-python",
   "name": "python",
   "nbconvert_exporter": "python",
   "pygments_lexer": "ipython3",
   "version": "3.9.7"
  }
 },
 "nbformat": 4,
 "nbformat_minor": 5
}
