{
 "cells": [
  {
   "cell_type": "code",
   "execution_count": 53,
   "id": "4e9af067",
   "metadata": {},
   "outputs": [],
   "source": [
    "import numpy as np\n",
    "import pandas as pd\n",
    "import seaborn as sns\n",
    "import matplotlib.pyplot as plt\n",
    "from sklearn.preprocessing import StandardScaler\n",
    "from statsmodels.stats.outliers_influence import variance_inflation_factor\n",
    "from sklearn.model_selection import cross_val_score\n",
    "from sklearn.model_selection import train_test_split\n",
    "from sklearn.linear_model import Ridge\n",
    "from sklearn.linear_model import Lasso\n",
    "from sklearn.metrics import r2_score\n",
    "from sklearn.tree import DecisionTreeRegressor\n",
    "from sklearn.ensemble import RandomForestRegressor\n",
    "from sklearn.linear_model import LinearRegression\n",
    "from sklearn.preprocessing import LabelEncoder\n",
    "from sklearn.model_selection import GridSearchCV\n",
    "from sklearn.ensemble import GradientBoostingRegressor\n",
    "from prettytable import PrettyTable \n",
    "import warnings\n",
    "warnings.filterwarnings('ignore') #Importing the necessary libraries"
   ]
  },
  {
   "cell_type": "code",
   "execution_count": 2,
   "id": "bbc34f82",
   "metadata": {},
   "outputs": [],
   "source": [
    "Data=pd.read_csv(\"Flight Price Details.csv\") #Checking the  dataset"
   ]
  },
  {
   "cell_type": "code",
   "execution_count": 3,
   "id": "6cc0286d",
   "metadata": {},
   "outputs": [
    {
     "data": {
      "text/html": [
       "<div>\n",
       "<style scoped>\n",
       "    .dataframe tbody tr th:only-of-type {\n",
       "        vertical-align: middle;\n",
       "    }\n",
       "\n",
       "    .dataframe tbody tr th {\n",
       "        vertical-align: top;\n",
       "    }\n",
       "\n",
       "    .dataframe thead th {\n",
       "        text-align: right;\n",
       "    }\n",
       "</style>\n",
       "<table border=\"1\" class=\"dataframe\">\n",
       "  <thead>\n",
       "    <tr style=\"text-align: right;\">\n",
       "      <th></th>\n",
       "      <th>Unnamed: 0</th>\n",
       "      <th>level_0</th>\n",
       "      <th>Name</th>\n",
       "      <th>Depart_Time</th>\n",
       "      <th>Arrival_Time</th>\n",
       "      <th>Duration</th>\n",
       "      <th>Price</th>\n",
       "      <th>Date</th>\n",
       "    </tr>\n",
       "  </thead>\n",
       "  <tbody>\n",
       "    <tr>\n",
       "      <th>0</th>\n",
       "      <td>0</td>\n",
       "      <td>0</td>\n",
       "      <td>IndiGo</td>\n",
       "      <td>18:00</td>\n",
       "      <td>00:00</td>\n",
       "      <td>6h 00m</td>\n",
       "      <td>11,519</td>\n",
       "      <td>31/10</td>\n",
       "    </tr>\n",
       "    <tr>\n",
       "      <th>1</th>\n",
       "      <td>1</td>\n",
       "      <td>1</td>\n",
       "      <td>Go First</td>\n",
       "      <td>23:55</td>\n",
       "      <td>02:25</td>\n",
       "      <td>2h 30m</td>\n",
       "      <td>11,629</td>\n",
       "      <td>31/10</td>\n",
       "    </tr>\n",
       "    <tr>\n",
       "      <th>2</th>\n",
       "      <td>2</td>\n",
       "      <td>2</td>\n",
       "      <td>IndiGo</td>\n",
       "      <td>19:10</td>\n",
       "      <td>01:00</td>\n",
       "      <td>5h 50m</td>\n",
       "      <td>11,939</td>\n",
       "      <td>31/10</td>\n",
       "    </tr>\n",
       "    <tr>\n",
       "      <th>3</th>\n",
       "      <td>3</td>\n",
       "      <td>3</td>\n",
       "      <td>Air India</td>\n",
       "      <td>22:00</td>\n",
       "      <td>00:20</td>\n",
       "      <td>26h 20m</td>\n",
       "      <td>12,360</td>\n",
       "      <td>31/10</td>\n",
       "    </tr>\n",
       "    <tr>\n",
       "      <th>4</th>\n",
       "      <td>4</td>\n",
       "      <td>4</td>\n",
       "      <td>IndiGo</td>\n",
       "      <td>02:00</td>\n",
       "      <td>04:15</td>\n",
       "      <td>2h 15m</td>\n",
       "      <td>12,569</td>\n",
       "      <td>31/10</td>\n",
       "    </tr>\n",
       "    <tr>\n",
       "      <th>...</th>\n",
       "      <td>...</td>\n",
       "      <td>...</td>\n",
       "      <td>...</td>\n",
       "      <td>...</td>\n",
       "      <td>...</td>\n",
       "      <td>...</td>\n",
       "      <td>...</td>\n",
       "      <td>...</td>\n",
       "    </tr>\n",
       "    <tr>\n",
       "      <th>2145</th>\n",
       "      <td>2145</td>\n",
       "      <td>2145</td>\n",
       "      <td>Vistara</td>\n",
       "      <td>20:40</td>\n",
       "      <td>11:25</td>\n",
       "      <td>14h 45m</td>\n",
       "      <td>39,314</td>\n",
       "      <td>30/11</td>\n",
       "    </tr>\n",
       "    <tr>\n",
       "      <th>2146</th>\n",
       "      <td>2146</td>\n",
       "      <td>2146</td>\n",
       "      <td>Vistara</td>\n",
       "      <td>19:50</td>\n",
       "      <td>11:25</td>\n",
       "      <td>15h 35m</td>\n",
       "      <td>39,314</td>\n",
       "      <td>30/11</td>\n",
       "    </tr>\n",
       "    <tr>\n",
       "      <th>2147</th>\n",
       "      <td>2147</td>\n",
       "      <td>2147</td>\n",
       "      <td>Vistara</td>\n",
       "      <td>20:40</td>\n",
       "      <td>20:40</td>\n",
       "      <td>24h 00m</td>\n",
       "      <td>40,154</td>\n",
       "      <td>30/11</td>\n",
       "    </tr>\n",
       "    <tr>\n",
       "      <th>2148</th>\n",
       "      <td>2148</td>\n",
       "      <td>2148</td>\n",
       "      <td>Vistara</td>\n",
       "      <td>19:50</td>\n",
       "      <td>20:40</td>\n",
       "      <td>24h 50m</td>\n",
       "      <td>40,154</td>\n",
       "      <td>30/11</td>\n",
       "    </tr>\n",
       "    <tr>\n",
       "      <th>2149</th>\n",
       "      <td>2149</td>\n",
       "      <td>2149</td>\n",
       "      <td>Vistara</td>\n",
       "      <td>20:40</td>\n",
       "      <td>20:15</td>\n",
       "      <td>23h 35m</td>\n",
       "      <td>41,204</td>\n",
       "      <td>30/11</td>\n",
       "    </tr>\n",
       "  </tbody>\n",
       "</table>\n",
       "<p>2150 rows × 8 columns</p>\n",
       "</div>"
      ],
      "text/plain": [
       "      Unnamed: 0  level_0       Name Depart_Time Arrival_Time Duration  \\\n",
       "0              0        0     IndiGo       18:00        00:00   6h 00m   \n",
       "1              1        1   Go First       23:55        02:25   2h 30m   \n",
       "2              2        2     IndiGo       19:10        01:00   5h 50m   \n",
       "3              3        3  Air India       22:00        00:20  26h 20m   \n",
       "4              4        4     IndiGo       02:00        04:15   2h 15m   \n",
       "...          ...      ...        ...         ...          ...      ...   \n",
       "2145        2145     2145    Vistara       20:40        11:25  14h 45m   \n",
       "2146        2146     2146    Vistara       19:50        11:25  15h 35m   \n",
       "2147        2147     2147    Vistara       20:40        20:40  24h 00m   \n",
       "2148        2148     2148    Vistara       19:50        20:40  24h 50m   \n",
       "2149        2149     2149    Vistara       20:40        20:15  23h 35m   \n",
       "\n",
       "       Price   Date  \n",
       "0     11,519  31/10  \n",
       "1     11,629  31/10  \n",
       "2     11,939  31/10  \n",
       "3     12,360  31/10  \n",
       "4     12,569  31/10  \n",
       "...      ...    ...  \n",
       "2145  39,314  30/11  \n",
       "2146  39,314  30/11  \n",
       "2147  40,154  30/11  \n",
       "2148  40,154  30/11  \n",
       "2149  41,204  30/11  \n",
       "\n",
       "[2150 rows x 8 columns]"
      ]
     },
     "execution_count": 3,
     "metadata": {},
     "output_type": "execute_result"
    }
   ],
   "source": [
    "Data"
   ]
  },
  {
   "cell_type": "code",
   "execution_count": 4,
   "id": "fcc7a13d",
   "metadata": {},
   "outputs": [
    {
     "data": {
      "text/plain": [
       "Index(['Unnamed: 0', 'level_0', 'Name', 'Depart_Time', 'Arrival_Time',\n",
       "       'Duration', 'Price', 'Date'],\n",
       "      dtype='object')"
      ]
     },
     "execution_count": 4,
     "metadata": {},
     "output_type": "execute_result"
    }
   ],
   "source": [
    "Data.columns #Checking the total columns"
   ]
  },
  {
   "cell_type": "code",
   "execution_count": 5,
   "id": "f46e4dff",
   "metadata": {},
   "outputs": [],
   "source": [
    "Data.drop(['Unnamed: 0','level_0'],axis=1,inplace=True)"
   ]
  },
  {
   "cell_type": "code",
   "execution_count": 6,
   "id": "ad939a37",
   "metadata": {},
   "outputs": [
    {
     "data": {
      "text/html": [
       "<div>\n",
       "<style scoped>\n",
       "    .dataframe tbody tr th:only-of-type {\n",
       "        vertical-align: middle;\n",
       "    }\n",
       "\n",
       "    .dataframe tbody tr th {\n",
       "        vertical-align: top;\n",
       "    }\n",
       "\n",
       "    .dataframe thead th {\n",
       "        text-align: right;\n",
       "    }\n",
       "</style>\n",
       "<table border=\"1\" class=\"dataframe\">\n",
       "  <thead>\n",
       "    <tr style=\"text-align: right;\">\n",
       "      <th></th>\n",
       "      <th>Name</th>\n",
       "      <th>Depart_Time</th>\n",
       "      <th>Arrival_Time</th>\n",
       "      <th>Duration</th>\n",
       "      <th>Price</th>\n",
       "      <th>Date</th>\n",
       "    </tr>\n",
       "  </thead>\n",
       "  <tbody>\n",
       "    <tr>\n",
       "      <th>0</th>\n",
       "      <td>IndiGo</td>\n",
       "      <td>18:00</td>\n",
       "      <td>00:00</td>\n",
       "      <td>6h 00m</td>\n",
       "      <td>11,519</td>\n",
       "      <td>31/10</td>\n",
       "    </tr>\n",
       "    <tr>\n",
       "      <th>1</th>\n",
       "      <td>Go First</td>\n",
       "      <td>23:55</td>\n",
       "      <td>02:25</td>\n",
       "      <td>2h 30m</td>\n",
       "      <td>11,629</td>\n",
       "      <td>31/10</td>\n",
       "    </tr>\n",
       "    <tr>\n",
       "      <th>2</th>\n",
       "      <td>IndiGo</td>\n",
       "      <td>19:10</td>\n",
       "      <td>01:00</td>\n",
       "      <td>5h 50m</td>\n",
       "      <td>11,939</td>\n",
       "      <td>31/10</td>\n",
       "    </tr>\n",
       "    <tr>\n",
       "      <th>3</th>\n",
       "      <td>Air India</td>\n",
       "      <td>22:00</td>\n",
       "      <td>00:20</td>\n",
       "      <td>26h 20m</td>\n",
       "      <td>12,360</td>\n",
       "      <td>31/10</td>\n",
       "    </tr>\n",
       "    <tr>\n",
       "      <th>4</th>\n",
       "      <td>IndiGo</td>\n",
       "      <td>02:00</td>\n",
       "      <td>04:15</td>\n",
       "      <td>2h 15m</td>\n",
       "      <td>12,569</td>\n",
       "      <td>31/10</td>\n",
       "    </tr>\n",
       "    <tr>\n",
       "      <th>...</th>\n",
       "      <td>...</td>\n",
       "      <td>...</td>\n",
       "      <td>...</td>\n",
       "      <td>...</td>\n",
       "      <td>...</td>\n",
       "      <td>...</td>\n",
       "    </tr>\n",
       "    <tr>\n",
       "      <th>2145</th>\n",
       "      <td>Vistara</td>\n",
       "      <td>20:40</td>\n",
       "      <td>11:25</td>\n",
       "      <td>14h 45m</td>\n",
       "      <td>39,314</td>\n",
       "      <td>30/11</td>\n",
       "    </tr>\n",
       "    <tr>\n",
       "      <th>2146</th>\n",
       "      <td>Vistara</td>\n",
       "      <td>19:50</td>\n",
       "      <td>11:25</td>\n",
       "      <td>15h 35m</td>\n",
       "      <td>39,314</td>\n",
       "      <td>30/11</td>\n",
       "    </tr>\n",
       "    <tr>\n",
       "      <th>2147</th>\n",
       "      <td>Vistara</td>\n",
       "      <td>20:40</td>\n",
       "      <td>20:40</td>\n",
       "      <td>24h 00m</td>\n",
       "      <td>40,154</td>\n",
       "      <td>30/11</td>\n",
       "    </tr>\n",
       "    <tr>\n",
       "      <th>2148</th>\n",
       "      <td>Vistara</td>\n",
       "      <td>19:50</td>\n",
       "      <td>20:40</td>\n",
       "      <td>24h 50m</td>\n",
       "      <td>40,154</td>\n",
       "      <td>30/11</td>\n",
       "    </tr>\n",
       "    <tr>\n",
       "      <th>2149</th>\n",
       "      <td>Vistara</td>\n",
       "      <td>20:40</td>\n",
       "      <td>20:15</td>\n",
       "      <td>23h 35m</td>\n",
       "      <td>41,204</td>\n",
       "      <td>30/11</td>\n",
       "    </tr>\n",
       "  </tbody>\n",
       "</table>\n",
       "<p>2150 rows × 6 columns</p>\n",
       "</div>"
      ],
      "text/plain": [
       "           Name Depart_Time Arrival_Time Duration   Price   Date\n",
       "0        IndiGo       18:00        00:00   6h 00m  11,519  31/10\n",
       "1      Go First       23:55        02:25   2h 30m  11,629  31/10\n",
       "2        IndiGo       19:10        01:00   5h 50m  11,939  31/10\n",
       "3     Air India       22:00        00:20  26h 20m  12,360  31/10\n",
       "4        IndiGo       02:00        04:15   2h 15m  12,569  31/10\n",
       "...         ...         ...          ...      ...     ...    ...\n",
       "2145    Vistara       20:40        11:25  14h 45m  39,314  30/11\n",
       "2146    Vistara       19:50        11:25  15h 35m  39,314  30/11\n",
       "2147    Vistara       20:40        20:40  24h 00m  40,154  30/11\n",
       "2148    Vistara       19:50        20:40  24h 50m  40,154  30/11\n",
       "2149    Vistara       20:40        20:15  23h 35m  41,204  30/11\n",
       "\n",
       "[2150 rows x 6 columns]"
      ]
     },
     "execution_count": 6,
     "metadata": {},
     "output_type": "execute_result"
    }
   ],
   "source": [
    "Data"
   ]
  },
  {
   "cell_type": "code",
   "execution_count": 7,
   "id": "168bb4fe",
   "metadata": {},
   "outputs": [
    {
     "data": {
      "text/plain": [
       "Name            0\n",
       "Depart_Time     0\n",
       "Arrival_Time    0\n",
       "Duration        0\n",
       "Price           0\n",
       "Date            0\n",
       "dtype: int64"
      ]
     },
     "execution_count": 7,
     "metadata": {},
     "output_type": "execute_result"
    }
   ],
   "source": [
    "Data.isnull().sum()"
   ]
  },
  {
   "cell_type": "code",
   "execution_count": 8,
   "id": "9ec9aa7f",
   "metadata": {},
   "outputs": [],
   "source": [
    "# No null column"
   ]
  },
  {
   "cell_type": "code",
   "execution_count": 9,
   "id": "d9ac2884",
   "metadata": {},
   "outputs": [
    {
     "name": "stdout",
     "output_type": "stream",
     "text": [
      "<class 'pandas.core.frame.DataFrame'>\n",
      "RangeIndex: 2150 entries, 0 to 2149\n",
      "Data columns (total 6 columns):\n",
      " #   Column        Non-Null Count  Dtype \n",
      "---  ------        --------------  ----- \n",
      " 0   Name          2150 non-null   object\n",
      " 1   Depart_Time   2150 non-null   object\n",
      " 2   Arrival_Time  2150 non-null   object\n",
      " 3   Duration      2150 non-null   object\n",
      " 4   Price         2150 non-null   object\n",
      " 5   Date          2150 non-null   object\n",
      "dtypes: object(6)\n",
      "memory usage: 100.9+ KB\n"
     ]
    }
   ],
   "source": [
    "Data.info() #Checking the data type"
   ]
  },
  {
   "cell_type": "code",
   "execution_count": 10,
   "id": "e9c6216c",
   "metadata": {},
   "outputs": [],
   "source": [
    "# All are object datatype"
   ]
  },
  {
   "cell_type": "code",
   "execution_count": 11,
   "id": "791380f3",
   "metadata": {},
   "outputs": [
    {
     "data": {
      "text/html": [
       "<div>\n",
       "<style scoped>\n",
       "    .dataframe tbody tr th:only-of-type {\n",
       "        vertical-align: middle;\n",
       "    }\n",
       "\n",
       "    .dataframe tbody tr th {\n",
       "        vertical-align: top;\n",
       "    }\n",
       "\n",
       "    .dataframe thead th {\n",
       "        text-align: right;\n",
       "    }\n",
       "</style>\n",
       "<table border=\"1\" class=\"dataframe\">\n",
       "  <thead>\n",
       "    <tr style=\"text-align: right;\">\n",
       "      <th></th>\n",
       "      <th>Name</th>\n",
       "      <th>Depart_Time</th>\n",
       "      <th>Arrival_Time</th>\n",
       "      <th>Duration</th>\n",
       "      <th>Price</th>\n",
       "      <th>Date</th>\n",
       "    </tr>\n",
       "  </thead>\n",
       "  <tbody>\n",
       "    <tr>\n",
       "      <th>count</th>\n",
       "      <td>2150</td>\n",
       "      <td>2150</td>\n",
       "      <td>2150</td>\n",
       "      <td>2150</td>\n",
       "      <td>2150</td>\n",
       "      <td>2150</td>\n",
       "    </tr>\n",
       "    <tr>\n",
       "      <th>unique</th>\n",
       "      <td>6</td>\n",
       "      <td>97</td>\n",
       "      <td>104</td>\n",
       "      <td>86</td>\n",
       "      <td>105</td>\n",
       "      <td>8</td>\n",
       "    </tr>\n",
       "    <tr>\n",
       "      <th>top</th>\n",
       "      <td>IndiGo</td>\n",
       "      <td>20:10</td>\n",
       "      <td>09:40</td>\n",
       "      <td>2h 15m</td>\n",
       "      <td>7,319</td>\n",
       "      <td>1/11</td>\n",
       "    </tr>\n",
       "    <tr>\n",
       "      <th>freq</th>\n",
       "      <td>661</td>\n",
       "      <td>93</td>\n",
       "      <td>85</td>\n",
       "      <td>565</td>\n",
       "      <td>380</td>\n",
       "      <td>525</td>\n",
       "    </tr>\n",
       "  </tbody>\n",
       "</table>\n",
       "</div>"
      ],
      "text/plain": [
       "          Name Depart_Time Arrival_Time Duration  Price  Date\n",
       "count     2150        2150         2150     2150   2150  2150\n",
       "unique       6          97          104       86    105     8\n",
       "top     IndiGo       20:10        09:40   2h 15m  7,319  1/11\n",
       "freq       661          93           85      565    380   525"
      ]
     },
     "execution_count": 11,
     "metadata": {},
     "output_type": "execute_result"
    }
   ],
   "source": [
    "Data.describe() # To check the dataset"
   ]
  },
  {
   "cell_type": "code",
   "execution_count": 12,
   "id": "22f3148d",
   "metadata": {},
   "outputs": [
    {
     "data": {
      "text/plain": [
       "array(['IndiGo', 'Go First', 'Air India', 'Vistara', 'Air Asia',\n",
       "       'SpiceJet'], dtype=object)"
      ]
     },
     "execution_count": 12,
     "metadata": {},
     "output_type": "execute_result"
    }
   ],
   "source": [
    "Data['Name'].unique() # Checking the various airplane companies available"
   ]
  },
  {
   "cell_type": "code",
   "execution_count": 13,
   "id": "e6c1eb74",
   "metadata": {},
   "outputs": [
    {
     "data": {
      "text/plain": [
       "<AxesSubplot:xlabel='Name', ylabel='count'>"
      ]
     },
     "execution_count": 13,
     "metadata": {},
     "output_type": "execute_result"
    },
    {
     "data": {
      "image/png": "[encoded data removed]",
      "text/plain": [
       "<Figure size 432x288 with 1 Axes>"
      ]
     },
     "metadata": {
      "needs_background": "light"
     },
     "output_type": "display_data"
    }
   ],
   "source": [
    "sns.countplot(Data['Name']) # Checking the highest available airline"
   ]
  },
  {
   "cell_type": "code",
   "execution_count": 14,
   "id": "090d14f0",
   "metadata": {},
   "outputs": [],
   "source": [
    "# Indigo has the highest availability, while air asia has the lowest"
   ]
  },
  {
   "cell_type": "code",
   "execution_count": 15,
   "id": "3f61d6ff",
   "metadata": {},
   "outputs": [],
   "source": [
    "Data['Price'] = Data['Price'].str.replace(',', '').astype(int)"
   ]
  },
  {
   "cell_type": "code",
   "execution_count": 16,
   "id": "c72a66c0",
   "metadata": {},
   "outputs": [],
   "source": [
    "# Converting the price into integer from string"
   ]
  },
  {
   "cell_type": "code",
   "execution_count": 17,
   "id": "bc718272",
   "metadata": {},
   "outputs": [
    {
     "data": {
      "text/plain": [
       "<seaborn.axisgrid.FacetGrid at 0x2a520f0e550>"
      ]
     },
     "execution_count": 17,
     "metadata": {},
     "output_type": "execute_result"
    },
    {
     "data": {
      "image/png": "[encoded data removed]",
      "text/plain": [
       "<Figure size 1440x720 with 1 Axes>"
      ]
     },
     "metadata": {
      "needs_background": "light"
     },
     "output_type": "display_data"
    }
   ],
   "source": [
    "sns.catplot(y='Price',x='Name',data=Data,kind='point',height=10,aspect=2) # Checking the relationship between price and airlines"
   ]
  },
  {
   "cell_type": "code",
   "execution_count": 18,
   "id": "8d8ead5a",
   "metadata": {},
   "outputs": [],
   "source": [
    "# It can be understood that Vistara is the costliest of all the airlines- rising upto Rs.24,000\n",
    "# The cheapest is IndiGo which is within Rs.10,000"
   ]
  },
  {
   "cell_type": "code",
   "execution_count": 19,
   "id": "0f491d8c",
   "metadata": {},
   "outputs": [
    {
     "data": {
      "text/plain": [
       "<seaborn.axisgrid.FacetGrid at 0x2a520ee77c0>"
      ]
     },
     "execution_count": 19,
     "metadata": {},
     "output_type": "execute_result"
    },
    {
     "data": {
      "image/png": "[encoded data removed]",
      "text/plain": [
       "<Figure size 720x720 with 1 Axes>"
      ]
     },
     "metadata": {
      "needs_background": "light"
     },
     "output_type": "display_data"
    }
   ],
   "source": [
    "sns.catplot(y='Price',x='Date',data=Data,kind='point',height=10,aspect=1) # Checking the relationship between price and dates"
   ]
  },
  {
   "cell_type": "markdown",
   "id": "8dd6c079",
   "metadata": {},
   "source": [
    "### The above data was collected on 30th October, 2022- Based on the flight prices of different dates the following things can be concluded:\n",
    "\n",
    "#### 1) Flight price is the most expensive if you are tying to book a ticket on the same date and can go as high as above 30,000\n",
    "#### 2) Flight price will still remain high if a flight is to be booked within 2 days from the date of purchasing the ticket.\n",
    "#### 3) Flight price remains low and constant if a flight is trying to be booked within 3-6 days from the date of purchasing the ticket. "
   ]
  },
  {
   "cell_type": "code",
   "execution_count": 20,
   "id": "8641ca1c",
   "metadata": {},
   "outputs": [
    {
     "data": {
      "text/plain": [
       "array(['6h 00m', '2h 30m', '5h 50m', '26h 20m', '2h 15m', '2h 00m',\n",
       "       '2h 10m', '20h 05m', '7h 50m', '9h 55m', '5h 55m', '2h 20m',\n",
       "       '6h 10m', '18h 50m', '10h 45m', '27h 35m', '7h 40m', '10h 25m',\n",
       "       '5h 20m', '4h 50m', '6h 05m', '24h 50m', '6h 20m', '12h 25m',\n",
       "       '17h 25m', '26h 35m', '5h 15m', '5h 45m', '4h 10m', '10h 10m',\n",
       "       '14h 20m', '4h 55m', '8h 45m', '6h 15m', '7h 45m', '16h 55m',\n",
       "       '26h 45m', '26h 55m', '5h 35m', '8h 25m', '12h 05m', '13h 25m',\n",
       "       '15h 05m', '16h 25m', '17h 55m', '19h 15m', '4h 30m', '18h 00m',\n",
       "       '21h 00m', '23h 50m', '4h 35m', '5h 00m', '21h 15m', '5h 10m',\n",
       "       '7h 15m', '17h 05m', '22h 05m', '17h 15m', '25h 45m', '21h 55m',\n",
       "       '12h 45m', '12h 20m', '2h 05m', '9h 15m', '8h 55m', '4h 40m',\n",
       "       '12h 50m', '5h 40m', '3h 50m', '23h 05m', '2h 25m', '8h 10m',\n",
       "       '18h 20m', '26h 25m', '25h 55m', '15h 35m', '27h 00m', '21h 40m',\n",
       "       '23h 45m', '25h 00m', '25h 50m', '26h 40m', '27h 30m', '14h 45m',\n",
       "       '24h 00m', '23h 35m'], dtype=object)"
      ]
     },
     "execution_count": 20,
     "metadata": {},
     "output_type": "execute_result"
    }
   ],
   "source": [
    "Data['Duration'].unique()"
   ]
  },
  {
   "cell_type": "code",
   "execution_count": 21,
   "id": "4de85e2f",
   "metadata": {},
   "outputs": [
    {
     "data": {
      "text/plain": [
       "<seaborn.axisgrid.FacetGrid at 0x2a5214e84f0>"
      ]
     },
     "execution_count": 21,
     "metadata": {},
     "output_type": "execute_result"
    },
    {
     "data": {
      "image/png": "[encoded data removed]",
      "text/plain": [
       "<Figure size 3600x720 with 1 Axes>"
      ]
     },
     "metadata": {
      "needs_background": "light"
     },
     "output_type": "display_data"
    }
   ],
   "source": [
    "sns.catplot(y='Price',x='Duration',data=Data,kind='point',height=10,aspect=5) # Checking the relationship between price and dates"
   ]
  },
  {
   "cell_type": "code",
   "execution_count": 22,
   "id": "3e2b3de0",
   "metadata": {},
   "outputs": [],
   "source": [
    "enc= LabelEncoder() #Encoding the object data type"
   ]
  },
  {
   "cell_type": "code",
   "execution_count": 23,
   "id": "efc7a4c6",
   "metadata": {},
   "outputs": [],
   "source": [
    "columns=['Name','Depart_Time','Arrival_Time','Duration','Date']\n",
    "Data[columns] = Data[columns].apply(enc.fit_transform) #Encoding the object data type into int data type"
   ]
  },
  {
   "cell_type": "code",
   "execution_count": 24,
   "id": "f706adea",
   "metadata": {},
   "outputs": [
    {
     "data": {
      "text/html": [
       "<div>\n",
       "<style scoped>\n",
       "    .dataframe tbody tr th:only-of-type {\n",
       "        vertical-align: middle;\n",
       "    }\n",
       "\n",
       "    .dataframe tbody tr th {\n",
       "        vertical-align: top;\n",
       "    }\n",
       "\n",
       "    .dataframe thead th {\n",
       "        text-align: right;\n",
       "    }\n",
       "</style>\n",
       "<table border=\"1\" class=\"dataframe\">\n",
       "  <thead>\n",
       "    <tr style=\"text-align: right;\">\n",
       "      <th></th>\n",
       "      <th>Name</th>\n",
       "      <th>Depart_Time</th>\n",
       "      <th>Arrival_Time</th>\n",
       "      <th>Duration</th>\n",
       "      <th>Price</th>\n",
       "      <th>Date</th>\n",
       "    </tr>\n",
       "  </thead>\n",
       "  <tbody>\n",
       "    <tr>\n",
       "      <th>0</th>\n",
       "      <td>3</td>\n",
       "      <td>66</td>\n",
       "      <td>0</td>\n",
       "      <td>71</td>\n",
       "      <td>11519</td>\n",
       "      <td>4</td>\n",
       "    </tr>\n",
       "    <tr>\n",
       "      <th>1</th>\n",
       "      <td>2</td>\n",
       "      <td>96</td>\n",
       "      <td>10</td>\n",
       "      <td>54</td>\n",
       "      <td>11629</td>\n",
       "      <td>4</td>\n",
       "    </tr>\n",
       "    <tr>\n",
       "      <th>2</th>\n",
       "      <td>3</td>\n",
       "      <td>72</td>\n",
       "      <td>5</td>\n",
       "      <td>69</td>\n",
       "      <td>11939</td>\n",
       "      <td>4</td>\n",
       "    </tr>\n",
       "    <tr>\n",
       "      <th>3</th>\n",
       "      <td>1</td>\n",
       "      <td>90</td>\n",
       "      <td>2</td>\n",
       "      <td>39</td>\n",
       "      <td>12360</td>\n",
       "      <td>4</td>\n",
       "    </tr>\n",
       "    <tr>\n",
       "      <th>4</th>\n",
       "      <td>3</td>\n",
       "      <td>1</td>\n",
       "      <td>14</td>\n",
       "      <td>51</td>\n",
       "      <td>12569</td>\n",
       "      <td>4</td>\n",
       "    </tr>\n",
       "    <tr>\n",
       "      <th>...</th>\n",
       "      <td>...</td>\n",
       "      <td>...</td>\n",
       "      <td>...</td>\n",
       "      <td>...</td>\n",
       "      <td>...</td>\n",
       "      <td>...</td>\n",
       "    </tr>\n",
       "    <tr>\n",
       "      <th>2145</th>\n",
       "      <td>5</td>\n",
       "      <td>80</td>\n",
       "      <td>43</td>\n",
       "      <td>10</td>\n",
       "      <td>39314</td>\n",
       "      <td>3</td>\n",
       "    </tr>\n",
       "    <tr>\n",
       "      <th>2146</th>\n",
       "      <td>5</td>\n",
       "      <td>74</td>\n",
       "      <td>43</td>\n",
       "      <td>12</td>\n",
       "      <td>39314</td>\n",
       "      <td>3</td>\n",
       "    </tr>\n",
       "    <tr>\n",
       "      <th>2147</th>\n",
       "      <td>5</td>\n",
       "      <td>80</td>\n",
       "      <td>83</td>\n",
       "      <td>33</td>\n",
       "      <td>40154</td>\n",
       "      <td>3</td>\n",
       "    </tr>\n",
       "    <tr>\n",
       "      <th>2148</th>\n",
       "      <td>5</td>\n",
       "      <td>74</td>\n",
       "      <td>83</td>\n",
       "      <td>34</td>\n",
       "      <td>40154</td>\n",
       "      <td>3</td>\n",
       "    </tr>\n",
       "    <tr>\n",
       "      <th>2149</th>\n",
       "      <td>5</td>\n",
       "      <td>80</td>\n",
       "      <td>82</td>\n",
       "      <td>30</td>\n",
       "      <td>41204</td>\n",
       "      <td>3</td>\n",
       "    </tr>\n",
       "  </tbody>\n",
       "</table>\n",
       "<p>2150 rows × 6 columns</p>\n",
       "</div>"
      ],
      "text/plain": [
       "      Name  Depart_Time  Arrival_Time  Duration  Price  Date\n",
       "0        3           66             0        71  11519     4\n",
       "1        2           96            10        54  11629     4\n",
       "2        3           72             5        69  11939     4\n",
       "3        1           90             2        39  12360     4\n",
       "4        3            1            14        51  12569     4\n",
       "...    ...          ...           ...       ...    ...   ...\n",
       "2145     5           80            43        10  39314     3\n",
       "2146     5           74            43        12  39314     3\n",
       "2147     5           80            83        33  40154     3\n",
       "2148     5           74            83        34  40154     3\n",
       "2149     5           80            82        30  41204     3\n",
       "\n",
       "[2150 rows x 6 columns]"
      ]
     },
     "execution_count": 24,
     "metadata": {},
     "output_type": "execute_result"
    }
   ],
   "source": [
    "Data"
   ]
  },
  {
   "cell_type": "code",
   "execution_count": 25,
   "id": "94e687dd",
   "metadata": {},
   "outputs": [
    {
     "data": {
      "image/png": "[encoded data removed]",
      "text/plain": [
       "<Figure size 720x576 with 9 Axes>"
      ]
     },
     "metadata": {
      "needs_background": "light"
     },
     "output_type": "display_data"
    }
   ],
   "source": [
    "Data.plot(kind='kde',subplots=True,layout=(3,3),sharex=False,legend=True,fontsize=3,figsize=(10,8))\n",
    "plt.show() # ploting the data and observing high skewness"
   ]
  },
  {
   "cell_type": "code",
   "execution_count": 26,
   "id": "5379fd59",
   "metadata": {},
   "outputs": [],
   "source": [
    "# Here majority of the columns are object datatypes which has been converted into integer"
   ]
  },
  {
   "cell_type": "code",
   "execution_count": 27,
   "id": "2ac727a9",
   "metadata": {},
   "outputs": [
    {
     "data": {
      "text/plain": [
       "Price           2.406361\n",
       "Arrival_Time    0.258484\n",
       "Name            0.219187\n",
       "Date            0.183351\n",
       "Depart_Time    -0.037819\n",
       "Duration       -0.989772\n",
       "dtype: float64"
      ]
     },
     "execution_count": 27,
     "metadata": {},
     "output_type": "execute_result"
    }
   ],
   "source": [
    "Data.skew().sort_values(ascending=False) #checking the skewness"
   ]
  },
  {
   "cell_type": "code",
   "execution_count": 28,
   "id": "8dc2e34d",
   "metadata": {},
   "outputs": [],
   "source": [
    "X= Data.drop('Price',axis=1)\n",
    "Y= Data['Price'] #dividing the feature and target variable"
   ]
  },
  {
   "cell_type": "code",
   "execution_count": 29,
   "id": "a2bb54da",
   "metadata": {},
   "outputs": [
    {
     "data": {
      "image/png": "[encoded data removed]",
      "text/plain": [
       "<Figure size 720x864 with 2 Axes>"
      ]
     },
     "metadata": {
      "needs_background": "light"
     },
     "output_type": "display_data"
    }
   ],
   "source": [
    "corr_mat=X.corr()\n",
    "plt.figure(figsize=[10,12])\n",
    "sns.heatmap(corr_mat,annot=True)\n",
    "plt.title(\"Correlation Matrix\")\n",
    "plt.show() #Checking correlation"
   ]
  },
  {
   "cell_type": "code",
   "execution_count": 30,
   "id": "d9cade1b",
   "metadata": {},
   "outputs": [],
   "source": [
    "# Looking at the heatmap, it can be concluded that there is no correlation between any variable, however we can further confirm by VIF"
   ]
  },
  {
   "cell_type": "code",
   "execution_count": 31,
   "id": "562d0cf4",
   "metadata": {},
   "outputs": [
    {
     "data": {
      "text/html": [
       "<div>\n",
       "<style scoped>\n",
       "    .dataframe tbody tr th:only-of-type {\n",
       "        vertical-align: middle;\n",
       "    }\n",
       "\n",
       "    .dataframe tbody tr th {\n",
       "        vertical-align: top;\n",
       "    }\n",
       "\n",
       "    .dataframe thead th {\n",
       "        text-align: right;\n",
       "    }\n",
       "</style>\n",
       "<table border=\"1\" class=\"dataframe\">\n",
       "  <thead>\n",
       "    <tr style=\"text-align: right;\">\n",
       "      <th></th>\n",
       "      <th>feature</th>\n",
       "      <th>VIF</th>\n",
       "    </tr>\n",
       "  </thead>\n",
       "  <tbody>\n",
       "    <tr>\n",
       "      <th>0</th>\n",
       "      <td>Name</td>\n",
       "      <td>3.408248</td>\n",
       "    </tr>\n",
       "    <tr>\n",
       "      <th>1</th>\n",
       "      <td>Depart_Time</td>\n",
       "      <td>3.075069</td>\n",
       "    </tr>\n",
       "    <tr>\n",
       "      <th>2</th>\n",
       "      <td>Arrival_Time</td>\n",
       "      <td>3.631171</td>\n",
       "    </tr>\n",
       "    <tr>\n",
       "      <th>3</th>\n",
       "      <td>Duration</td>\n",
       "      <td>4.626178</td>\n",
       "    </tr>\n",
       "    <tr>\n",
       "      <th>4</th>\n",
       "      <td>Date</td>\n",
       "      <td>2.318558</td>\n",
       "    </tr>\n",
       "  </tbody>\n",
       "</table>\n",
       "</div>"
      ],
      "text/plain": [
       "        feature       VIF\n",
       "0          Name  3.408248\n",
       "1   Depart_Time  3.075069\n",
       "2  Arrival_Time  3.631171\n",
       "3      Duration  4.626178\n",
       "4          Date  2.318558"
      ]
     },
     "execution_count": 31,
     "metadata": {},
     "output_type": "execute_result"
    }
   ],
   "source": [
    "vif_data = pd.DataFrame()\n",
    "vif_data[\"feature\"] = X.columns\n",
    "vif_data[\"VIF\"] = [variance_inflation_factor(X.values, i)\n",
    "                          for i in range(len(X.columns))]\n",
    "\n",
    "vif_data"
   ]
  },
  {
   "cell_type": "code",
   "execution_count": 32,
   "id": "bb0f6540",
   "metadata": {},
   "outputs": [],
   "source": [
    "# Therefore there is no correlation"
   ]
  },
  {
   "cell_type": "code",
   "execution_count": 33,
   "id": "bb4417aa",
   "metadata": {},
   "outputs": [
    {
     "data": {
      "image/png": "[encoded data removed]",
      "text/plain": [
       "<Figure size 576x720 with 1 Axes>"
      ]
     },
     "metadata": {
      "needs_background": "light"
     },
     "output_type": "display_data"
    }
   ],
   "source": [
    "X.plot(kind='box',figsize=(8,10),layout=(4,3))\n",
    "plt.show() #checking for oultiers"
   ]
  },
  {
   "cell_type": "code",
   "execution_count": 39,
   "id": "75f47918",
   "metadata": {},
   "outputs": [],
   "source": [
    "# As per boxplot, there is a huge outlier present in duration."
   ]
  },
  {
   "cell_type": "code",
   "execution_count": 35,
   "id": "df9aa013",
   "metadata": {},
   "outputs": [],
   "source": [
    "from scipy.stats import zscore"
   ]
  },
  {
   "cell_type": "code",
   "execution_count": 36,
   "id": "2c51ce86",
   "metadata": {},
   "outputs": [
    {
     "data": {
      "text/plain": [
       "Name            True\n",
       "Depart_Time     True\n",
       "Arrival_Time    True\n",
       "Duration        True\n",
       "Date            True\n",
       "dtype: bool"
      ]
     },
     "execution_count": 36,
     "metadata": {},
     "output_type": "execute_result"
    }
   ],
   "source": [
    "(np.abs(zscore(X)<3)).all()"
   ]
  },
  {
   "cell_type": "code",
   "execution_count": 37,
   "id": "9b2deb0f",
   "metadata": {},
   "outputs": [
    {
     "data": {
      "text/plain": [
       "(array([], dtype=int64), array([], dtype=int64))"
      ]
     },
     "execution_count": 37,
     "metadata": {},
     "output_type": "execute_result"
    }
   ],
   "source": [
    "# these are the index positions where outlier is present\n",
    "index = np.where(np.abs(zscore(X))>3)\n",
    "index"
   ]
  },
  {
   "cell_type": "code",
   "execution_count": 40,
   "id": "7eb772c1",
   "metadata": {},
   "outputs": [],
   "source": [
    "# However as per zscore there is no presence of an Outlier"
   ]
  },
  {
   "cell_type": "code",
   "execution_count": 41,
   "id": "ec00ff4b",
   "metadata": {},
   "outputs": [],
   "source": [
    "Scalar=StandardScaler()"
   ]
  },
  {
   "cell_type": "code",
   "execution_count": 43,
   "id": "88f37817",
   "metadata": {},
   "outputs": [
    {
     "data": {
      "text/plain": [
       "array([[ 0.25120657,  0.53881318, -1.5204656 ,  1.34403854,  0.36932694],\n",
       "       [-0.44211067,  1.48397091, -1.20124592,  0.33463569,  0.36932694],\n",
       "       [ 0.25120657,  0.72784472, -1.36085576,  1.22528526,  0.36932694],\n",
       "       ...,\n",
       "       [ 1.63784104,  0.97988679,  1.12905773, -0.91227372, -0.02769952],\n",
       "       [ 1.63784104,  0.79085524,  1.12905773, -0.85289708, -0.02769952],\n",
       "       [ 1.63784104,  0.97988679,  1.09713576, -1.09040363, -0.02769952]])"
      ]
     },
     "execution_count": 43,
     "metadata": {},
     "output_type": "execute_result"
    }
   ],
   "source": [
    "X_Scaled=Scalar.fit_transform(X)\n",
    "X_Scaled"
   ]
  },
  {
   "cell_type": "markdown",
   "id": "56b4ee93",
   "metadata": {},
   "source": [
    "# Linear Regression"
   ]
  },
  {
   "cell_type": "code",
   "execution_count": 46,
   "id": "0a2a39dd",
   "metadata": {},
   "outputs": [],
   "source": [
    "LR=LinearRegression()"
   ]
  },
  {
   "cell_type": "code",
   "execution_count": 47,
   "id": "53aec6be",
   "metadata": {},
   "outputs": [
    {
     "name": "stdout",
     "output_type": "stream",
     "text": [
      "R-Squared: 32.16652894701281\n"
     ]
    }
   ],
   "source": [
    "X_train,X_test,y_train,y_test=train_test_split(X_Scaled,Y,test_size=0.20,random_state=50)\n",
    "LR.fit(X_train,y_train)\n",
    "pred_test=LR.predict(X_test)\n",
    "\n",
    "\n",
    "print('R-Squared:',r2_score(y_test,pred_test)*100)"
   ]
  },
  {
   "cell_type": "markdown",
   "id": "a2d46d48",
   "metadata": {},
   "source": [
    "# Decision Tree Regressor"
   ]
  },
  {
   "cell_type": "code",
   "execution_count": 48,
   "id": "5fde6077",
   "metadata": {},
   "outputs": [],
   "source": [
    "DT=DecisionTreeRegressor()"
   ]
  },
  {
   "cell_type": "code",
   "execution_count": 49,
   "id": "32ff55c6",
   "metadata": {},
   "outputs": [
    {
     "name": "stdout",
     "output_type": "stream",
     "text": [
      "R-Squared: 92.27314192325183\n"
     ]
    }
   ],
   "source": [
    "X_train,X_test,y_train,y_test=train_test_split(X_Scaled,Y,test_size=0.20,random_state=50)\n",
    "DT.fit(X_train,y_train)\n",
    "pred_test=DT.predict(X_test)\n",
    "\n",
    "\n",
    "print('R-Squared:',r2_score(y_test,pred_test)*100)"
   ]
  },
  {
   "cell_type": "markdown",
   "id": "c3550b03",
   "metadata": {},
   "source": [
    "# Random Forest Regressor"
   ]
  },
  {
   "cell_type": "code",
   "execution_count": 50,
   "id": "16b86cf5",
   "metadata": {},
   "outputs": [],
   "source": [
    "rf=RandomForestRegressor()"
   ]
  },
  {
   "cell_type": "code",
   "execution_count": 60,
   "id": "105d0736",
   "metadata": {},
   "outputs": [
    {
     "name": "stdout",
     "output_type": "stream",
     "text": [
      "R-Squared: 95.29761494019634\n"
     ]
    }
   ],
   "source": [
    "X_train,X_test,y_train,y_test=train_test_split(X_Scaled,Y,test_size=0.20,random_state=50)\n",
    "rf.fit(X_train,y_train)\n",
    "pred_test=rf.predict(X_test)\n",
    "\n",
    "\n",
    "print('R-Squared:',r2_score(y_test,pred_test)*100)"
   ]
  },
  {
   "cell_type": "markdown",
   "id": "6e7ede11",
   "metadata": {},
   "source": [
    "# Gradient Boosting"
   ]
  },
  {
   "cell_type": "code",
   "execution_count": 54,
   "id": "bcc1aa21",
   "metadata": {},
   "outputs": [],
   "source": [
    "GB=GradientBoostingRegressor()"
   ]
  },
  {
   "cell_type": "code",
   "execution_count": 61,
   "id": "3b239eae",
   "metadata": {},
   "outputs": [
    {
     "name": "stdout",
     "output_type": "stream",
     "text": [
      "R-Squared: 96.63428350080792\n"
     ]
    }
   ],
   "source": [
    "X_train,X_test,y_train,y_test=train_test_split(X_Scaled,Y,test_size=0.20,random_state=50)\n",
    "GB.fit(X_train,y_train)\n",
    "pred_test=GB.predict(X_test)\n",
    "\n",
    "\n",
    "print('R-Squared:',r2_score(y_test,pred_test)*100)"
   ]
  },
  {
   "cell_type": "markdown",
   "id": "64afed6e",
   "metadata": {},
   "source": [
    "# Cross Validation for LR"
   ]
  },
  {
   "cell_type": "code",
   "execution_count": 56,
   "id": "3a6c1bc9",
   "metadata": {},
   "outputs": [
    {
     "name": "stdout",
     "output_type": "stream",
     "text": [
      "The cross validation score for Decision Tree Regressor 2 is -13.895904973697052\n",
      "The cross validation score for Decision Tree Regressor 3 is -429.2805405386153\n",
      "The cross validation score for Decision Tree Regressor 4 is -149.82348961847052\n",
      "The cross validation score for Decision Tree Regressor 5 is -1838.7376434717848\n"
     ]
    }
   ],
   "source": [
    "for i in range(2,6):\n",
    "    LR_Val=cross_val_score(LR,X_Scaled,Y,cv=i)\n",
    "    print(\"The cross validation score for Decision Tree Regressor\",i,\"is\",LR_Val.mean())"
   ]
  },
  {
   "cell_type": "markdown",
   "id": "e672ff29",
   "metadata": {},
   "source": [
    "# Cross Validation for Decision Tree"
   ]
  },
  {
   "cell_type": "code",
   "execution_count": 58,
   "id": "cb9f77fa",
   "metadata": {},
   "outputs": [
    {
     "name": "stdout",
     "output_type": "stream",
     "text": [
      "The cross validation score for Decision Tree Regressor 2 is -17.07087680757532\n",
      "The cross validation score for Decision Tree Regressor 3 is -231.058633662574\n",
      "The cross validation score for Decision Tree Regressor 4 is -4.946452252377017\n",
      "The cross validation score for Decision Tree Regressor 5 is -0.2622595866603398\n"
     ]
    }
   ],
   "source": [
    "for i in range(2,6):\n",
    "    DT_Val=cross_val_score(DT,X_Scaled,Y,cv=i)\n",
    "    print(\"The cross validation score for Decision Tree Regressor\",i,\"is\",DT_Val.mean())"
   ]
  },
  {
   "cell_type": "markdown",
   "id": "954fedaf",
   "metadata": {},
   "source": [
    "# Cross Validation for RF"
   ]
  },
  {
   "cell_type": "code",
   "execution_count": 59,
   "id": "30f187aa",
   "metadata": {},
   "outputs": [
    {
     "name": "stdout",
     "output_type": "stream",
     "text": [
      "The cross validation score for 2 is -1378.5603985364528\n",
      "The cross validation score for 3 is -17223.58335130871\n",
      "The cross validation score for 4 is -717.918598093258\n",
      "The cross validation score for 5 is -23.496805066974574\n"
     ]
    }
   ],
   "source": [
    "for i in range(2,6):\n",
    "    RF_Val=cross_val_score(rf,X_Scaled,Y,cv=i)\n",
    "    print(\"The cross validation score for\",i,\"is\",RF_Val.mean()*100)"
   ]
  },
  {
   "cell_type": "markdown",
   "id": "9d9c3773",
   "metadata": {},
   "source": [
    "# Cross Validation for GB"
   ]
  },
  {
   "cell_type": "code",
   "execution_count": 62,
   "id": "d50e35ee",
   "metadata": {},
   "outputs": [
    {
     "name": "stdout",
     "output_type": "stream",
     "text": [
      "The cross validation score for 2 is -940.551389178251\n",
      "The cross validation score for 3 is -17513.240656296963\n",
      "The cross validation score for 4 is -1113.3223224349263\n",
      "The cross validation score for 5 is -1515.1426865838516\n"
     ]
    }
   ],
   "source": [
    "for i in range(2,6):\n",
    "    GB_Val=cross_val_score(GB,X_Scaled,Y,cv=i)\n",
    "    print(\"The cross validation score for\",i,\"is\",GB_Val.mean()*100)"
   ]
  },
  {
   "cell_type": "code",
   "execution_count": 63,
   "id": "71261af4",
   "metadata": {},
   "outputs": [],
   "source": [
    "# From the cross validation scores, all the models are overfitted"
   ]
  },
  {
   "cell_type": "markdown",
   "id": "1a90624b",
   "metadata": {},
   "source": [
    "# Hyperparameter Tuning"
   ]
  },
  {
   "cell_type": "code",
   "execution_count": 64,
   "id": "f41dfe32",
   "metadata": {},
   "outputs": [],
   "source": [
    "##Looking at the model building score, the Gradient Boosting gave the highest score, hence hyperparameter tuning is being performed on it"
   ]
  },
  {
   "cell_type": "code",
   "execution_count": 65,
   "id": "8019fafb",
   "metadata": {},
   "outputs": [],
   "source": [
    "Grad_Boost=GradientBoostingRegressor()"
   ]
  },
  {
   "cell_type": "code",
   "execution_count": 66,
   "id": "3367bbf3",
   "metadata": {},
   "outputs": [
    {
     "data": {
      "text/plain": [
       "GridSearchCV(estimator=GradientBoostingRegressor(),\n",
       "             param_grid={'max_depth': [10, 11, 12, 13, 14],\n",
       "                         'min_samples_leaf': [2], 'min_samples_split': [4]})"
      ]
     },
     "execution_count": 66,
     "metadata": {},
     "output_type": "execute_result"
    }
   ],
   "source": [
    "parameters={'max_depth':(list(range(10,15))),'min_samples_split':(list(range(4,5))),'min_samples_leaf':(list(range(2,3)))}\n",
    "clf=GridSearchCV(Grad_Boost,parameters)\n",
    "clf.fit(X_train,y_train)"
   ]
  },
  {
   "cell_type": "code",
   "execution_count": 67,
   "id": "ff5ef232",
   "metadata": {},
   "outputs": [
    {
     "data": {
      "text/plain": [
       "{'max_depth': 10, 'min_samples_leaf': 2, 'min_samples_split': 4}"
      ]
     },
     "execution_count": 67,
     "metadata": {},
     "output_type": "execute_result"
    }
   ],
   "source": [
    "clf.best_params_"
   ]
  },
  {
   "cell_type": "code",
   "execution_count": 68,
   "id": "5318afad",
   "metadata": {},
   "outputs": [],
   "source": [
    "Grad_Boost=GradientBoostingRegressor(max_depth=10, min_samples_leaf=2, min_samples_split=4)"
   ]
  },
  {
   "cell_type": "code",
   "execution_count": 70,
   "id": "58a1adbb",
   "metadata": {},
   "outputs": [],
   "source": [
    "X_train,X_test,y_train,y_test=train_test_split(X_Scaled,Y,test_size=0.20,random_state=50)\n",
    "Grad_Boost.fit(X_train,y_train)\n",
    "pred_test=Grad_Boost.predict(X_test)"
   ]
  },
  {
   "cell_type": "code",
   "execution_count": 71,
   "id": "d378832c",
   "metadata": {},
   "outputs": [
    {
     "data": {
      "text/plain": [
       "92.78659458307514"
      ]
     },
     "execution_count": 71,
     "metadata": {},
     "output_type": "execute_result"
    }
   ],
   "source": [
    "Grad_Boost_Score=r2_score(y_test,pred_test)*100\n",
    "Grad_Boost_Score"
   ]
  },
  {
   "cell_type": "code",
   "execution_count": 72,
   "id": "904d3679",
   "metadata": {},
   "outputs": [],
   "source": [
    "#It seems that the accuracy reduced, lets try with few more parameters"
   ]
  },
  {
   "cell_type": "code",
   "execution_count": 100,
   "id": "bd37891c",
   "metadata": {},
   "outputs": [],
   "source": [
    "GBR=GradientBoostingRegressor(max_depth=10, min_samples_leaf=2, min_samples_split=2,criterion='mae')"
   ]
  },
  {
   "cell_type": "code",
   "execution_count": 101,
   "id": "834387ef",
   "metadata": {},
   "outputs": [],
   "source": [
    "X_train,X_test,y_train,y_test=train_test_split(X_Scaled,Y,test_size=0.20,random_state=50)\n",
    "GBR.fit(X_train,y_train)\n",
    "pred_test=GBR.predict(X_test)"
   ]
  },
  {
   "cell_type": "code",
   "execution_count": 102,
   "id": "9d3fd6a5",
   "metadata": {},
   "outputs": [
    {
     "data": {
      "text/plain": [
       "92.41460392275738"
      ]
     },
     "execution_count": 102,
     "metadata": {},
     "output_type": "execute_result"
    }
   ],
   "source": [
    "GBR_Score=r2_score(y_test,pred_test)*100\n",
    "GBR_Score"
   ]
  },
  {
   "cell_type": "markdown",
   "id": "2040b059",
   "metadata": {},
   "source": [
    "## It seems that te score prior to hyperparameter tuning is better than after performing hyperparameter tuning"
   ]
  },
  {
   "cell_type": "markdown",
   "id": "e9be1554",
   "metadata": {},
   "source": [
    "## Therefore we will keep the original score for Gradient Boosting"
   ]
  },
  {
   "cell_type": "markdown",
   "id": "f7eebc68",
   "metadata": {},
   "source": [
    "# Saving the model"
   ]
  },
  {
   "cell_type": "code",
   "execution_count": 105,
   "id": "69290dc2",
   "metadata": {},
   "outputs": [],
   "source": [
    "import pickle\n",
    "filename='Flight Price Prediction Details.pkl'\n",
    "pickle.dump(GB,open(filename,'wb'))"
   ]
  },
  {
   "cell_type": "code",
   "execution_count": null,
   "id": "96f93780",
   "metadata": {},
   "outputs": [],
   "source": []
  }
 ],
 "metadata": {
  "kernelspec": {
   "display_name": "Python 3 (ipykernel)",
   "language": "python",
   "name": "python3"
  },
  "language_info": {
   "codemirror_mode": {
    "name": "ipython",
    "version": 3
   },
   "file_extension": ".py",
   "mimetype": "text/x-python",
   "name": "python",
   "nbconvert_exporter": "python",
   "pygments_lexer": "ipython3",
   "version": "3.9.7"
  }
 },
 "nbformat": 4,
 "nbformat_minor": 5
}
