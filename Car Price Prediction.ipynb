{
 "cells": [
  {
   "cell_type": "code",
   "execution_count": 59,
   "id": "6350e749",
   "metadata": {},
   "outputs": [],
   "source": [
    "import numpy as np\n",
    "import pandas as pd\n",
    "import seaborn as sns\n",
    "import matplotlib.pyplot as plt\n",
    "from sklearn.preprocessing import StandardScaler\n",
    "from statsmodels.stats.outliers_influence import variance_inflation_factor\n",
    "from sklearn.model_selection import cross_val_score\n",
    "from sklearn.model_selection import train_test_split\n",
    "from sklearn.linear_model import Ridge\n",
    "from sklearn.linear_model import Lasso\n",
    "from sklearn.linear_model import LinearRegression\n",
    "from sklearn.metrics import r2_score\n",
    "from sklearn.tree import DecisionTreeRegressor\n",
    "from sklearn.ensemble import RandomForestRegressor\n",
    "from sklearn.preprocessing import LabelEncoder\n",
    "from sklearn.model_selection import GridSearchCV\n",
    "from sklearn.linear_model import LogisticRegression\n",
    "from sklearn.ensemble import GradientBoostingRegressor\n",
    "from sklearn.svm import SVC\n",
    "from prettytable import PrettyTable \n",
    "import warnings\n",
    "warnings.filterwarnings('ignore') #Importing the necessary libraries"
   ]
  },
  {
   "cell_type": "code",
   "execution_count": 2,
   "id": "3cd271b2",
   "metadata": {},
   "outputs": [],
   "source": [
    "Data=pd.read_csv(\"Car Pricing Details.csv\")"
   ]
  },
  {
   "cell_type": "code",
   "execution_count": 66,
   "id": "f2c5be47",
   "metadata": {},
   "outputs": [
    {
     "data": {
      "text/html": [
       "<div>\n",
       "<style scoped>\n",
       "    .dataframe tbody tr th:only-of-type {\n",
       "        vertical-align: middle;\n",
       "    }\n",
       "\n",
       "    .dataframe tbody tr th {\n",
       "        vertical-align: top;\n",
       "    }\n",
       "\n",
       "    .dataframe thead th {\n",
       "        text-align: right;\n",
       "    }\n",
       "</style>\n",
       "<table border=\"1\" class=\"dataframe\">\n",
       "  <thead>\n",
       "    <tr style=\"text-align: right;\">\n",
       "      <th></th>\n",
       "      <th>Name</th>\n",
       "      <th>Kilometer</th>\n",
       "      <th>Fuel</th>\n",
       "      <th>Location</th>\n",
       "      <th>EMI</th>\n",
       "      <th>Price</th>\n",
       "    </tr>\n",
       "  </thead>\n",
       "  <tbody>\n",
       "    <tr>\n",
       "      <th>0</th>\n",
       "      <td>163</td>\n",
       "      <td>102</td>\n",
       "      <td>2</td>\n",
       "      <td>14</td>\n",
       "      <td>86</td>\n",
       "      <td>60</td>\n",
       "    </tr>\n",
       "    <tr>\n",
       "      <th>1</th>\n",
       "      <td>122</td>\n",
       "      <td>223</td>\n",
       "      <td>0</td>\n",
       "      <td>5</td>\n",
       "      <td>85</td>\n",
       "      <td>41</td>\n",
       "    </tr>\n",
       "    <tr>\n",
       "      <th>2</th>\n",
       "      <td>9</td>\n",
       "      <td>113</td>\n",
       "      <td>1</td>\n",
       "      <td>14</td>\n",
       "      <td>68</td>\n",
       "      <td>59</td>\n",
       "    </tr>\n",
       "    <tr>\n",
       "      <th>3</th>\n",
       "      <td>86</td>\n",
       "      <td>210</td>\n",
       "      <td>1</td>\n",
       "      <td>6</td>\n",
       "      <td>62</td>\n",
       "      <td>34</td>\n",
       "    </tr>\n",
       "    <tr>\n",
       "      <th>4</th>\n",
       "      <td>72</td>\n",
       "      <td>55</td>\n",
       "      <td>2</td>\n",
       "      <td>5</td>\n",
       "      <td>23</td>\n",
       "      <td>28</td>\n",
       "    </tr>\n",
       "  </tbody>\n",
       "</table>\n",
       "</div>"
      ],
      "text/plain": [
       "   Name  Kilometer  Fuel  Location  EMI  Price\n",
       "0   163        102     2        14   86     60\n",
       "1   122        223     0         5   85     41\n",
       "2     9        113     1        14   68     59\n",
       "3    86        210     1         6   62     34\n",
       "4    72         55     2         5   23     28"
      ]
     },
     "execution_count": 66,
     "metadata": {},
     "output_type": "execute_result"
    }
   ],
   "source": [
    "Data.head()"
   ]
  },
  {
   "cell_type": "code",
   "execution_count": 5,
   "id": "c6ab21d9",
   "metadata": {},
   "outputs": [],
   "source": [
    "Data.drop('Unnamed: 0',axis=1,inplace=True)"
   ]
  },
  {
   "cell_type": "code",
   "execution_count": 7,
   "id": "c4ea1ff8",
   "metadata": {},
   "outputs": [
    {
     "data": {
      "text/plain": [
       "(2752, 6)"
      ]
     },
     "execution_count": 7,
     "metadata": {},
     "output_type": "execute_result"
    }
   ],
   "source": [
    "Data.shape # Checking the shape"
   ]
  },
  {
   "cell_type": "code",
   "execution_count": 8,
   "id": "ae26a6fb",
   "metadata": {},
   "outputs": [
    {
     "data": {
      "text/plain": [
       "Index(['Name', 'Kilometer', 'Fuel', 'Location', 'EMI', 'Price'], dtype='object')"
      ]
     },
     "execution_count": 8,
     "metadata": {},
     "output_type": "execute_result"
    }
   ],
   "source": [
    "Data.columns # Checking the columns"
   ]
  },
  {
   "cell_type": "code",
   "execution_count": 9,
   "id": "a9e7c81a",
   "metadata": {},
   "outputs": [
    {
     "name": "stdout",
     "output_type": "stream",
     "text": [
      "<class 'pandas.core.frame.DataFrame'>\n",
      "RangeIndex: 2752 entries, 0 to 2751\n",
      "Data columns (total 6 columns):\n",
      " #   Column     Non-Null Count  Dtype \n",
      "---  ------     --------------  ----- \n",
      " 0   Name       2752 non-null   object\n",
      " 1   Kilometer  2752 non-null   object\n",
      " 2   Fuel       2752 non-null   object\n",
      " 3   Location   2752 non-null   object\n",
      " 4   EMI        2752 non-null   object\n",
      " 5   Price      2752 non-null   object\n",
      "dtypes: object(6)\n",
      "memory usage: 129.1+ KB\n"
     ]
    }
   ],
   "source": [
    "Data.info() # Checking the data type"
   ]
  },
  {
   "cell_type": "code",
   "execution_count": 10,
   "id": "f5a1db8a",
   "metadata": {},
   "outputs": [
    {
     "data": {
      "text/plain": [
       "Name         0\n",
       "Kilometer    0\n",
       "Fuel         0\n",
       "Location     0\n",
       "EMI          0\n",
       "Price        0\n",
       "dtype: int64"
      ]
     },
     "execution_count": 10,
     "metadata": {},
     "output_type": "execute_result"
    }
   ],
   "source": [
    "Data.isnull().sum() # To check null values"
   ]
  },
  {
   "cell_type": "code",
   "execution_count": 12,
   "id": "3e66e996",
   "metadata": {},
   "outputs": [
    {
     "data": {
      "text/plain": [
       "MG Hector Sharp 1.5 DCT Petrol [2019-2020]          77\n",
       "Honda City V Petrol [2017-2019]                     55\n",
       "Ford EcoSport Titanium 1.5L Ti-VCT                  55\n",
       "Hyundai Creta SX 1.6 AT Petrol                      44\n",
       "Kia Seltos GTX Plus AT 1.4 [2019-2020]              44\n",
       "                                                    ..\n",
       "Toyota Innova Crysta 2.8 ZX AT 7 STR [2016-2020]    11\n",
       "MINI Cooper JCW Hatchback                           11\n",
       "Toyota Innova Crysta 2.4 ZX 7 STR [2016-2020]       11\n",
       "Toyota Innova Crysta 2.4 G 8 STR [2016-2017]        11\n",
       "Mahindra Alturas G4 4WD AT [2018-2020]              11\n",
       "Name: Name, Length: 188, dtype: int64"
      ]
     },
     "execution_count": 12,
     "metadata": {},
     "output_type": "execute_result"
    }
   ],
   "source": [
    "Data['Name'].value_counts()"
   ]
  },
  {
   "cell_type": "code",
   "execution_count": 13,
   "id": "bb3b6122",
   "metadata": {},
   "outputs": [],
   "source": [
    "# Total number of MG Hector sharp is more than other cars"
   ]
  },
  {
   "cell_type": "code",
   "execution_count": 15,
   "id": "76e7b7a6",
   "metadata": {},
   "outputs": [
    {
     "data": {
      "text/plain": [
       "<AxesSubplot:xlabel='Fuel', ylabel='count'>"
      ]
     },
     "execution_count": 15,
     "metadata": {},
     "output_type": "execute_result"
    },
    {
     "data": {
      "image/png": "[encoded data removed]",
      "text/plain": [
       "<Figure size 432x288 with 1 Axes>"
      ]
     },
     "metadata": {
      "needs_background": "light"
     },
     "output_type": "display_data"
    }
   ],
   "source": [
    "sns.countplot(Data['Fuel'])"
   ]
  },
  {
   "cell_type": "code",
   "execution_count": 18,
   "id": "7d64b409",
   "metadata": {},
   "outputs": [
    {
     "data": {
      "text/plain": [
       "<AxesSubplot:xlabel='Location', ylabel='count'>"
      ]
     },
     "execution_count": 18,
     "metadata": {},
     "output_type": "execute_result"
    },
    {
     "data": {
      "image/png": "[encoded data removed]",
      "text/plain": [
       "<Figure size 432x288 with 1 Axes>"
      ]
     },
     "metadata": {
      "needs_background": "light"
     },
     "output_type": "display_data"
    }
   ],
   "source": [
    "sns.countplot(Data['Location'])"
   ]
  },
  {
   "cell_type": "code",
   "execution_count": 19,
   "id": "998834f6",
   "metadata": {},
   "outputs": [
    {
     "data": {
      "text/plain": [
       "Mumbai        744\n",
       "Bangalore     550\n",
       "Kanpur        297\n",
       "Pune          224\n",
       "Salem         198\n",
       "Hyderabad     162\n",
       "Delhi         113\n",
       "Kolkata        78\n",
       "Vadodara       77\n",
       "Chennai        67\n",
       "Nagpur         66\n",
       "Patna          44\n",
       "Aurangabad     44\n",
       "Bhopal         33\n",
       "Jamshedpur     22\n",
       "Lucknow        11\n",
       "Ahmedabad      11\n",
       "Vijaywada      11\n",
       "Name: Location, dtype: int64"
      ]
     },
     "execution_count": 19,
     "metadata": {},
     "output_type": "execute_result"
    }
   ],
   "source": [
    "Data['Location'].value_counts()"
   ]
  },
  {
   "cell_type": "code",
   "execution_count": 20,
   "id": "49b8a836",
   "metadata": {},
   "outputs": [],
   "source": [
    "# Maximum number of cars are from Mumbai Location"
   ]
  },
  {
   "cell_type": "code",
   "execution_count": 21,
   "id": "8ff9b471",
   "metadata": {},
   "outputs": [],
   "source": [
    "enc= LabelEncoder() #Encoding the object data type"
   ]
  },
  {
   "cell_type": "code",
   "execution_count": 23,
   "id": "daed7c06",
   "metadata": {},
   "outputs": [],
   "source": [
    "columns=['Name','Kilometer','Fuel','Location','EMI','Price']\n",
    "Data[columns] = Data[columns].apply(enc.fit_transform) #Encoding the object data type into int data type"
   ]
  },
  {
   "cell_type": "code",
   "execution_count": 24,
   "id": "4ef3ea8e",
   "metadata": {},
   "outputs": [
    {
     "data": {
      "text/html": [
       "<div>\n",
       "<style scoped>\n",
       "    .dataframe tbody tr th:only-of-type {\n",
       "        vertical-align: middle;\n",
       "    }\n",
       "\n",
       "    .dataframe tbody tr th {\n",
       "        vertical-align: top;\n",
       "    }\n",
       "\n",
       "    .dataframe thead th {\n",
       "        text-align: right;\n",
       "    }\n",
       "</style>\n",
       "<table border=\"1\" class=\"dataframe\">\n",
       "  <thead>\n",
       "    <tr style=\"text-align: right;\">\n",
       "      <th></th>\n",
       "      <th>Name</th>\n",
       "      <th>Kilometer</th>\n",
       "      <th>Fuel</th>\n",
       "      <th>Location</th>\n",
       "      <th>EMI</th>\n",
       "      <th>Price</th>\n",
       "    </tr>\n",
       "  </thead>\n",
       "  <tbody>\n",
       "    <tr>\n",
       "      <th>0</th>\n",
       "      <td>163</td>\n",
       "      <td>102</td>\n",
       "      <td>2</td>\n",
       "      <td>14</td>\n",
       "      <td>86</td>\n",
       "      <td>60</td>\n",
       "    </tr>\n",
       "    <tr>\n",
       "      <th>1</th>\n",
       "      <td>122</td>\n",
       "      <td>223</td>\n",
       "      <td>0</td>\n",
       "      <td>5</td>\n",
       "      <td>85</td>\n",
       "      <td>41</td>\n",
       "    </tr>\n",
       "    <tr>\n",
       "      <th>2</th>\n",
       "      <td>9</td>\n",
       "      <td>113</td>\n",
       "      <td>1</td>\n",
       "      <td>14</td>\n",
       "      <td>68</td>\n",
       "      <td>59</td>\n",
       "    </tr>\n",
       "    <tr>\n",
       "      <th>3</th>\n",
       "      <td>86</td>\n",
       "      <td>210</td>\n",
       "      <td>1</td>\n",
       "      <td>6</td>\n",
       "      <td>62</td>\n",
       "      <td>34</td>\n",
       "    </tr>\n",
       "    <tr>\n",
       "      <th>4</th>\n",
       "      <td>72</td>\n",
       "      <td>55</td>\n",
       "      <td>2</td>\n",
       "      <td>5</td>\n",
       "      <td>23</td>\n",
       "      <td>28</td>\n",
       "    </tr>\n",
       "    <tr>\n",
       "      <th>...</th>\n",
       "      <td>...</td>\n",
       "      <td>...</td>\n",
       "      <td>...</td>\n",
       "      <td>...</td>\n",
       "      <td>...</td>\n",
       "      <td>...</td>\n",
       "    </tr>\n",
       "    <tr>\n",
       "      <th>2747</th>\n",
       "      <td>115</td>\n",
       "      <td>36</td>\n",
       "      <td>2</td>\n",
       "      <td>11</td>\n",
       "      <td>115</td>\n",
       "      <td>124</td>\n",
       "    </tr>\n",
       "    <tr>\n",
       "      <th>2748</th>\n",
       "      <td>120</td>\n",
       "      <td>32</td>\n",
       "      <td>0</td>\n",
       "      <td>11</td>\n",
       "      <td>84</td>\n",
       "      <td>105</td>\n",
       "    </tr>\n",
       "    <tr>\n",
       "      <th>2749</th>\n",
       "      <td>65</td>\n",
       "      <td>162</td>\n",
       "      <td>2</td>\n",
       "      <td>11</td>\n",
       "      <td>0</td>\n",
       "      <td>92</td>\n",
       "    </tr>\n",
       "    <tr>\n",
       "      <th>2750</th>\n",
       "      <td>45</td>\n",
       "      <td>194</td>\n",
       "      <td>2</td>\n",
       "      <td>4</td>\n",
       "      <td>104</td>\n",
       "      <td>66</td>\n",
       "    </tr>\n",
       "    <tr>\n",
       "      <th>2751</th>\n",
       "      <td>75</td>\n",
       "      <td>47</td>\n",
       "      <td>2</td>\n",
       "      <td>11</td>\n",
       "      <td>127</td>\n",
       "      <td>11</td>\n",
       "    </tr>\n",
       "  </tbody>\n",
       "</table>\n",
       "<p>2752 rows × 6 columns</p>\n",
       "</div>"
      ],
      "text/plain": [
       "      Name  Kilometer  Fuel  Location  EMI  Price\n",
       "0      163        102     2        14   86     60\n",
       "1      122        223     0         5   85     41\n",
       "2        9        113     1        14   68     59\n",
       "3       86        210     1         6   62     34\n",
       "4       72         55     2         5   23     28\n",
       "...    ...        ...   ...       ...  ...    ...\n",
       "2747   115         36     2        11  115    124\n",
       "2748   120         32     0        11   84    105\n",
       "2749    65        162     2        11    0     92\n",
       "2750    45        194     2         4  104     66\n",
       "2751    75         47     2        11  127     11\n",
       "\n",
       "[2752 rows x 6 columns]"
      ]
     },
     "execution_count": 24,
     "metadata": {},
     "output_type": "execute_result"
    }
   ],
   "source": [
    "Data "
   ]
  },
  {
   "cell_type": "code",
   "execution_count": 25,
   "id": "16a17c86",
   "metadata": {},
   "outputs": [
    {
     "name": "stdout",
     "output_type": "stream",
     "text": [
      "<class 'pandas.core.frame.DataFrame'>\n",
      "RangeIndex: 2752 entries, 0 to 2751\n",
      "Data columns (total 6 columns):\n",
      " #   Column     Non-Null Count  Dtype\n",
      "---  ------     --------------  -----\n",
      " 0   Name       2752 non-null   int32\n",
      " 1   Kilometer  2752 non-null   int32\n",
      " 2   Fuel       2752 non-null   int32\n",
      " 3   Location   2752 non-null   int32\n",
      " 4   EMI        2752 non-null   int32\n",
      " 5   Price      2752 non-null   int32\n",
      "dtypes: int32(6)\n",
      "memory usage: 64.6 KB\n"
     ]
    }
   ],
   "source": [
    "Data.info()"
   ]
  },
  {
   "cell_type": "code",
   "execution_count": 29,
   "id": "b6a5532b",
   "metadata": {},
   "outputs": [
    {
     "data": {
      "image/png": "[encoded data removed]",
      "text/plain": [
       "<Figure size 720x576 with 6 Axes>"
      ]
     },
     "metadata": {
      "needs_background": "light"
     },
     "output_type": "display_data"
    }
   ],
   "source": [
    "Data.plot(kind='kde',subplots=True,layout=(2,3),sharex=False,legend=True,fontsize=3,figsize=(10,8))\n",
    "plt.show() # ploting the data and observing high skewness"
   ]
  },
  {
   "cell_type": "code",
   "execution_count": 30,
   "id": "434c6810",
   "metadata": {},
   "outputs": [],
   "source": [
    "# Data is skewed"
   ]
  },
  {
   "cell_type": "code",
   "execution_count": 31,
   "id": "79ef053d",
   "metadata": {},
   "outputs": [
    {
     "data": {
      "text/plain": [
       "Name         0.106926\n",
       "Kilometer   -0.003635\n",
       "EMI         -0.079938\n",
       "Price       -0.170924\n",
       "Location    -0.189716\n",
       "Fuel        -1.254091\n",
       "dtype: float64"
      ]
     },
     "execution_count": 31,
     "metadata": {},
     "output_type": "execute_result"
    }
   ],
   "source": [
    "Data.skew().sort_values(ascending=False) #checking the skewness"
   ]
  },
  {
   "cell_type": "code",
   "execution_count": 32,
   "id": "159647d3",
   "metadata": {},
   "outputs": [],
   "source": [
    "from sklearn.preprocessing import power_transform"
   ]
  },
  {
   "cell_type": "code",
   "execution_count": 33,
   "id": "285da1e8",
   "metadata": {},
   "outputs": [],
   "source": [
    "New_Data=power_transform(Data)"
   ]
  },
  {
   "cell_type": "code",
   "execution_count": 34,
   "id": "3a09ac56",
   "metadata": {},
   "outputs": [
    {
     "data": {
      "text/plain": [
       "Name        -0.238199\n",
       "Location    -0.262248\n",
       "Kilometer   -0.280738\n",
       "EMI         -0.305570\n",
       "Price       -0.314064\n",
       "Fuel        -0.769798\n",
       "dtype: float64"
      ]
     },
     "execution_count": 34,
     "metadata": {},
     "output_type": "execute_result"
    }
   ],
   "source": [
    "pd.DataFrame(New_Data,columns=Data.columns).skew().sort_values(ascending=False) # transforming the data to reduce skewness"
   ]
  },
  {
   "cell_type": "code",
   "execution_count": 68,
   "id": "bdbd54ae",
   "metadata": {},
   "outputs": [],
   "source": [
    "Data=pd.DataFrame(New_Data,columns=Data.columns)"
   ]
  },
  {
   "cell_type": "code",
   "execution_count": 70,
   "id": "4889e685",
   "metadata": {},
   "outputs": [
    {
     "data": {
      "image/png": "[encoded data removed]",
      "text/plain": [
       "<Figure size 720x576 with 6 Axes>"
      ]
     },
     "metadata": {
      "needs_background": "light"
     },
     "output_type": "display_data"
    }
   ],
   "source": [
    "Data.plot(kind='kde',subplots=True,layout=(2,3),sharex=False,legend=True,fontsize=3,figsize=(10,8))\n",
    "plt.show() # ploting the data and observing high skewness"
   ]
  },
  {
   "cell_type": "code",
   "execution_count": 71,
   "id": "67bd929e",
   "metadata": {},
   "outputs": [],
   "source": [
    "X= Data.drop('Price',axis=1)\n",
    "Y= Data['Price'] #dividing the feature and target variable"
   ]
  },
  {
   "cell_type": "code",
   "execution_count": 72,
   "id": "65c09416",
   "metadata": {},
   "outputs": [
    {
     "data": {
      "image/png": "[encoded data removed]",
      "text/plain": [
       "<Figure size 720x864 with 2 Axes>"
      ]
     },
     "metadata": {
      "needs_background": "light"
     },
     "output_type": "display_data"
    }
   ],
   "source": [
    "corr_mat=X.corr()\n",
    "plt.figure(figsize=[10,12])\n",
    "sns.heatmap(corr_mat,annot=True)\n",
    "plt.title(\"Correlation Matrix\")\n",
    "plt.show() #Checking correlation"
   ]
  },
  {
   "cell_type": "code",
   "execution_count": 39,
   "id": "ae577cb6",
   "metadata": {},
   "outputs": [],
   "source": [
    "# There is absolutely no correlation on the features provided"
   ]
  },
  {
   "cell_type": "code",
   "execution_count": 73,
   "id": "afbc0024",
   "metadata": {},
   "outputs": [
    {
     "data": {
      "text/html": [
       "<div>\n",
       "<style scoped>\n",
       "    .dataframe tbody tr th:only-of-type {\n",
       "        vertical-align: middle;\n",
       "    }\n",
       "\n",
       "    .dataframe tbody tr th {\n",
       "        vertical-align: top;\n",
       "    }\n",
       "\n",
       "    .dataframe thead th {\n",
       "        text-align: right;\n",
       "    }\n",
       "</style>\n",
       "<table border=\"1\" class=\"dataframe\">\n",
       "  <thead>\n",
       "    <tr style=\"text-align: right;\">\n",
       "      <th></th>\n",
       "      <th>feature</th>\n",
       "      <th>VIF</th>\n",
       "    </tr>\n",
       "  </thead>\n",
       "  <tbody>\n",
       "    <tr>\n",
       "      <th>0</th>\n",
       "      <td>Name</td>\n",
       "      <td>1.112584</td>\n",
       "    </tr>\n",
       "    <tr>\n",
       "      <th>1</th>\n",
       "      <td>Kilometer</td>\n",
       "      <td>1.016852</td>\n",
       "    </tr>\n",
       "    <tr>\n",
       "      <th>2</th>\n",
       "      <td>Fuel</td>\n",
       "      <td>1.069319</td>\n",
       "    </tr>\n",
       "    <tr>\n",
       "      <th>3</th>\n",
       "      <td>Location</td>\n",
       "      <td>1.054684</td>\n",
       "    </tr>\n",
       "    <tr>\n",
       "      <th>4</th>\n",
       "      <td>EMI</td>\n",
       "      <td>1.001953</td>\n",
       "    </tr>\n",
       "  </tbody>\n",
       "</table>\n",
       "</div>"
      ],
      "text/plain": [
       "     feature       VIF\n",
       "0       Name  1.112584\n",
       "1  Kilometer  1.016852\n",
       "2       Fuel  1.069319\n",
       "3   Location  1.054684\n",
       "4        EMI  1.001953"
      ]
     },
     "execution_count": 73,
     "metadata": {},
     "output_type": "execute_result"
    }
   ],
   "source": [
    "vif_data = pd.DataFrame()\n",
    "vif_data[\"feature\"] = X.columns\n",
    "vif_data[\"VIF\"] = [variance_inflation_factor(X.values, i)\n",
    "                          for i in range(len(X.columns))]\n",
    "\n",
    "vif_data"
   ]
  },
  {
   "cell_type": "code",
   "execution_count": 74,
   "id": "e07d6d7b",
   "metadata": {},
   "outputs": [
    {
     "data": {
      "image/png": "[encoded data removed]",
      "text/plain": [
       "<Figure size 576x720 with 1 Axes>"
      ]
     },
     "metadata": {
      "needs_background": "light"
     },
     "output_type": "display_data"
    }
   ],
   "source": [
    "X.plot(kind='box',figsize=(8,10),layout=(4,3))\n",
    "plt.show() #checking for oultiers"
   ]
  },
  {
   "cell_type": "code",
   "execution_count": 75,
   "id": "9171ae75",
   "metadata": {},
   "outputs": [],
   "source": [
    "from scipy.stats import zscore"
   ]
  },
  {
   "cell_type": "code",
   "execution_count": 76,
   "id": "47d46390",
   "metadata": {},
   "outputs": [
    {
     "data": {
      "text/plain": [
       "Name         True\n",
       "Kilometer    True\n",
       "Fuel         True\n",
       "Location     True\n",
       "EMI          True\n",
       "dtype: bool"
      ]
     },
     "execution_count": 76,
     "metadata": {},
     "output_type": "execute_result"
    }
   ],
   "source": [
    "(np.abs(zscore(X)<3)).all()"
   ]
  },
  {
   "cell_type": "code",
   "execution_count": 77,
   "id": "852ca8ee",
   "metadata": {},
   "outputs": [],
   "source": [
    "# There is no Outliers present"
   ]
  },
  {
   "cell_type": "code",
   "execution_count": 78,
   "id": "241c3a15",
   "metadata": {},
   "outputs": [],
   "source": [
    "Scalar=StandardScaler()"
   ]
  },
  {
   "cell_type": "code",
   "execution_count": 79,
   "id": "176726d2",
   "metadata": {},
   "outputs": [
    {
     "data": {
      "text/plain": [
       "array([[ 1.30335468, -0.1651872 ,  0.69232658,  1.169651  ,  0.50093715],\n",
       "       [ 0.68237518,  1.34569011, -1.80337293, -0.74085935,  0.47868891],\n",
       "       [-1.72006883, -0.0121331 , -1.37479261,  1.169651  ,  0.08867915],\n",
       "       ...,\n",
       "       [-0.31814124,  0.62496062,  0.69232658,  0.55445741, -2.05401882],\n",
       "       [-0.7355369 ,  1.01113316,  0.69232658, -0.96945725,  0.89037018],\n",
       "       [-0.12600824, -1.02088189,  0.69232658,  0.55445741,  1.36239217]])"
      ]
     },
     "execution_count": 79,
     "metadata": {},
     "output_type": "execute_result"
    }
   ],
   "source": [
    "X_Scaled=Scalar.fit_transform(X)\n",
    "X_Scaled"
   ]
  },
  {
   "cell_type": "markdown",
   "id": "8d1381e8",
   "metadata": {},
   "source": [
    "# Linear Regression"
   ]
  },
  {
   "cell_type": "code",
   "execution_count": 80,
   "id": "ad43c651",
   "metadata": {},
   "outputs": [],
   "source": [
    "LR=LinearRegression()"
   ]
  },
  {
   "cell_type": "code",
   "execution_count": 81,
   "id": "df60ee0d",
   "metadata": {},
   "outputs": [
    {
     "name": "stdout",
     "output_type": "stream",
     "text": [
      "R-Squared: -0.2585450144481083\n"
     ]
    }
   ],
   "source": [
    "X_train,X_test,y_train,y_test=train_test_split(X_Scaled,Y,test_size=0.20,random_state=50)\n",
    "LR.fit(X_train,y_train)\n",
    "pred_test=LR.predict(X_test)\n",
    "\n",
    "\n",
    "print('R-Squared:',r2_score(y_test,pred_test)*100)"
   ]
  },
  {
   "cell_type": "markdown",
   "id": "7cdbafdf",
   "metadata": {},
   "source": [
    "# Decision Tree Regressor"
   ]
  },
  {
   "cell_type": "code",
   "execution_count": 82,
   "id": "af288287",
   "metadata": {},
   "outputs": [],
   "source": [
    "DT=DecisionTreeRegressor()"
   ]
  },
  {
   "cell_type": "code",
   "execution_count": 83,
   "id": "fa2c6f5f",
   "metadata": {},
   "outputs": [
    {
     "name": "stdout",
     "output_type": "stream",
     "text": [
      "R-Squared: 100.0\n"
     ]
    }
   ],
   "source": [
    "X_train,X_test,y_train,y_test=train_test_split(X_Scaled,Y,test_size=0.20,random_state=50)\n",
    "DT.fit(X_train,y_train)\n",
    "pred_test=DT.predict(X_test)\n",
    "\n",
    "\n",
    "print('R-Squared:',r2_score(y_test,pred_test)*100)"
   ]
  },
  {
   "cell_type": "markdown",
   "id": "36d13897",
   "metadata": {},
   "source": [
    "# Random Forest Regressor"
   ]
  },
  {
   "cell_type": "code",
   "execution_count": 84,
   "id": "e095126f",
   "metadata": {},
   "outputs": [],
   "source": [
    "rf=RandomForestRegressor()"
   ]
  },
  {
   "cell_type": "code",
   "execution_count": 85,
   "id": "cee0f34c",
   "metadata": {},
   "outputs": [
    {
     "name": "stdout",
     "output_type": "stream",
     "text": [
      "R-Squared: 99.9827439963225\n"
     ]
    }
   ],
   "source": [
    "X_train,X_test,y_train,y_test=train_test_split(X_Scaled,Y,test_size=0.20,random_state=50)\n",
    "rf.fit(X_train,y_train)\n",
    "pred_test=rf.predict(X_test)\n",
    "\n",
    "\n",
    "print('R-Squared:',r2_score(y_test,pred_test)*100)"
   ]
  },
  {
   "cell_type": "markdown",
   "id": "f6842b5e",
   "metadata": {},
   "source": [
    "# Gradient Boosting"
   ]
  },
  {
   "cell_type": "code",
   "execution_count": 86,
   "id": "5218f5a9",
   "metadata": {},
   "outputs": [],
   "source": [
    "GB=GradientBoostingRegressor()"
   ]
  },
  {
   "cell_type": "code",
   "execution_count": 87,
   "id": "5d99de6e",
   "metadata": {},
   "outputs": [
    {
     "name": "stdout",
     "output_type": "stream",
     "text": [
      "R-Squared: 83.43835601351172\n"
     ]
    }
   ],
   "source": [
    "X_train,X_test,y_train,y_test=train_test_split(X_Scaled,Y,test_size=0.20,random_state=50)\n",
    "GB.fit(X_train,y_train)\n",
    "pred_test=GB.predict(X_test)\n",
    "\n",
    "\n",
    "print('R-Squared:',r2_score(y_test,pred_test)*100)"
   ]
  },
  {
   "cell_type": "markdown",
   "id": "56e3322b",
   "metadata": {},
   "source": [
    "### As score for Linear Regression is extremely poor hence only taking Decision Tree, Gradient Boosting and Random Forest Regressor for cross validation"
   ]
  },
  {
   "cell_type": "markdown",
   "id": "84cba9d3",
   "metadata": {},
   "source": [
    "# Cross Validation for DT"
   ]
  },
  {
   "cell_type": "code",
   "execution_count": 88,
   "id": "4e53b095",
   "metadata": {},
   "outputs": [
    {
     "name": "stdout",
     "output_type": "stream",
     "text": [
      "The cross validation score for Decision Tree Regressor 2 is 1.0\n",
      "The cross validation score for Decision Tree Regressor 3 is 1.0\n",
      "The cross validation score for Decision Tree Regressor 4 is 1.0\n",
      "The cross validation score for Decision Tree Regressor 5 is 1.0\n"
     ]
    }
   ],
   "source": [
    "for i in range(2,6):\n",
    "    DT_Val=cross_val_score(DT,X_Scaled,Y,cv=i)\n",
    "    print(\"The cross validation score for Decision Tree Regressor\",i,\"is\",DT_Val.mean())"
   ]
  },
  {
   "cell_type": "markdown",
   "id": "1c96e4cf",
   "metadata": {},
   "source": [
    "# Cross Validation for RF"
   ]
  },
  {
   "cell_type": "code",
   "execution_count": 63,
   "id": "30061356",
   "metadata": {},
   "outputs": [
    {
     "name": "stdout",
     "output_type": "stream",
     "text": [
      "The cross validation score for 2 is 99.76139112656959\n",
      "The cross validation score for 3 is 99.97862258015583\n",
      "The cross validation score for 4 is 99.98929143559769\n",
      "The cross validation score for 5 is 99.9925685478573\n"
     ]
    }
   ],
   "source": [
    "for i in range(2,6):\n",
    "    RF_Val=cross_val_score(rf,X_Scaled,Y,cv=i)\n",
    "    print(\"The cross validation score for\",i,\"is\",RF_Val.mean()*100)"
   ]
  },
  {
   "cell_type": "markdown",
   "id": "31a2259e",
   "metadata": {},
   "source": [
    "# Cross Validation for GB"
   ]
  },
  {
   "cell_type": "code",
   "execution_count": 89,
   "id": "b093a40e",
   "metadata": {},
   "outputs": [
    {
     "name": "stdout",
     "output_type": "stream",
     "text": [
      "The cross validation score for 2 is 82.48519788780038\n",
      "The cross validation score for 3 is 82.6144004427058\n",
      "The cross validation score for 4 is 82.73572552686163\n",
      "The cross validation score for 5 is 83.27377037662131\n"
     ]
    }
   ],
   "source": [
    "for i in range(2,6):\n",
    "    GB_Val=cross_val_score(GB,X_Scaled,Y,cv=i)\n",
    "    print(\"The cross validation score for\",i,\"is\",GB_Val.mean()*100)"
   ]
  },
  {
   "cell_type": "markdown",
   "id": "8fd809b9",
   "metadata": {},
   "source": [
    "### From the above data, it can be seen that none of the models are overfitted and Decision Tree is the best model for this dataset with a R2 score of 100%\n",
    "\n",
    "### As the score is already 100, hence hyper parameter tuning is not performed"
   ]
  },
  {
   "cell_type": "markdown",
   "id": "ebb32fdc",
   "metadata": {},
   "source": [
    "# Saving the model"
   ]
  },
  {
   "cell_type": "code",
   "execution_count": 65,
   "id": "60448412",
   "metadata": {},
   "outputs": [],
   "source": [
    "import pickle\n",
    "filename='Car Price Prediction.pkl'\n",
    "pickle.dump(DT,open(filename,'wb')) ##saving the model"
   ]
  },
  {
   "cell_type": "code",
   "execution_count": null,
   "id": "d19f0116",
   "metadata": {},
   "outputs": [],
   "source": []
  }
 ],
 "metadata": {
  "kernelspec": {
   "display_name": "Python 3 (ipykernel)",
   "language": "python",
   "name": "python3"
  },
  "language_info": {
   "codemirror_mode": {
    "name": "ipython",
    "version": 3
   },
   "file_extension": ".py",
   "mimetype": "text/x-python",
   "name": "python",
   "nbconvert_exporter": "python",
   "pygments_lexer": "ipython3",
   "version": "3.9.7"
  }
 },
 "nbformat": 4,
 "nbformat_minor": 5
}
